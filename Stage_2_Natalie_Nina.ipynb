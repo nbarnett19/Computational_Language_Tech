{
  "cells": [
    {
      "cell_type": "markdown",
      "metadata": {
        "id": "view-in-github",
        "colab_type": "text"
      },
      "source": [
        "<a href=\"https://colab.research.google.com/github/nbarnett19/Computational_Language_Tech/blob/Main/Stage_2_Natalie_Nina.ipynb\" target=\"_parent\"><img src=\"https://colab.research.google.com/assets/colab-badge.svg\" alt=\"Open In Colab\"/></a>"
      ]
    },
    {
      "cell_type": "markdown",
      "metadata": {
        "id": "xoDUMy2oRe_M"
      },
      "source": [
        "# Accelerating Cleantech Advancements through NLP-Powered Text Mining and Knowledge Extraction:\n",
        "\n",
        "Stage 2: Training word and sentence embedding models\n",
        "\n",
        "\n"
      ],
      "id": "xoDUMy2oRe_M"
    },
    {
      "cell_type": "markdown",
      "metadata": {
        "id": "cW-Zhs8-U_2S"
      },
      "source": [
        "In this step, students train their own embedding models based on the given dataset and compare the model performance with the open-source embedding models.\n",
        "\n",
        "> Data Preparation for Embeddings\n",
        "*   Preprocess the text data for training embeddings, ensuring it is clean and well-structured.\n",
        "*   Split the data into training and validation sets to assess model performance.\n",
        "\n",
        "> Word Embedding Training\n",
        "*   Train word embeddings using techniques like Word2Vec, FastText, or GloVe on the text data.\n",
        "* Experiment with hyperparameters such as vector dimensions, context window size, and training epochs to optimize word embeddings.\n",
        "\n",
        "> Sentence Embedding Training\n",
        "* Develop sentence embeddings using methods like averaging word vectors, Doc2Vec, or\n",
        "BERT embeddings.\n",
        "* Fine-tune the sentence embeddings on the cleantech-specific data.\n",
        "> Embedding Model Evaluation\n",
        "* Assess the quality of both word and sentence embeddings using intrinsic evaluation methods,\n",
        "including word similarity and analogy tasks.\n",
        "* Compare the performance of the in-house embeddings to open source embeddings like Word2Vec, GloVe, or BERT embeddings.\n",
        "\n",
        "> Transfer Learning with Open Source Models [Optional]\n",
        "* Implement transfer learning by fine-tuning pre-trained open source models such as BERT or GPT-2 on the text data.\n",
        "* Compare the performance of transfer learning with the in-house embeddings. This comparison could be done through evaluating the effectiveness of the embeddings in domain-specific tasks like topic classification.\n",
        "\n",
        "> Outputs:\n",
        "* Notebook with annotated model training steps.\n",
        "* Notebook with visualizations comparing the performance of the embedding models.\n"
      ],
      "id": "cW-Zhs8-U_2S"
    },
    {
      "cell_type": "code",
      "execution_count": 1,
      "metadata": {
        "id": "__7D6ZDxxsDk"
      },
      "outputs": [],
      "source": [
        "# Top2Vec Modelling\n",
        "%%capture\n",
        "!pip install top2vec\n",
        "!pip install top2vec[sentence_encoders]\n",
        "!pip install top2vec[sentence_transformers]\n",
        "!pip install top2vec[indexing]"
      ],
      "id": "__7D6ZDxxsDk"
    },
    {
      "cell_type": "markdown",
      "metadata": {
        "id": "a09f8462"
      },
      "source": [
        "# Import Libraries"
      ],
      "id": "a09f8462"
    },
    {
      "cell_type": "code",
      "execution_count": 2,
      "metadata": {
        "id": "7ba38894"
      },
      "outputs": [],
      "source": [
        "# Preprocessing\n",
        "%%capture\n",
        "!python -m spacy download en_core_web_sm\n",
        "\n",
        "import numpy as np\n",
        "import pandas as pd\n",
        "import nltk\n",
        "import spacy\n",
        "from nltk.tokenize import sent_tokenize, word_tokenize\n",
        "from nltk.corpus import stopwords\n",
        "from nltk.stem import WordNetLemmatizer\n",
        "from string import punctuation\n",
        "from gensim.parsing.preprocessing import STOPWORDS\n",
        "import re\n",
        "\n",
        "nlp = spacy.load('en_core_web_sm')"
      ],
      "id": "7ba38894"
    },
    {
      "cell_type": "code",
      "execution_count": 3,
      "metadata": {
        "colab": {
          "base_uri": "https://localhost:8080/"
        },
        "id": "92b7be67",
        "outputId": "010d3394-43db-41c9-ddaa-0c2af10a78dd"
      },
      "outputs": [
        {
          "output_type": "execute_result",
          "data": {
            "text/plain": [
              "True"
            ]
          },
          "metadata": {},
          "execution_count": 3
        }
      ],
      "source": [
        "# Preprocessing\n",
        "# Download nltk packages\n",
        "nltk.download('punkt')\n",
        "nltk.download('wordnet')\n",
        "nltk.download('stopwords')"
      ],
      "id": "92b7be67"
    },
    {
      "cell_type": "code",
      "execution_count": 4,
      "metadata": {
        "id": "uOIKzC0V6huK"
      },
      "outputs": [],
      "source": [
        "# Exploratory Analysis\n",
        "from gensim.models.doc2vec import Doc2Vec, TaggedDocument\n",
        "from sklearn.feature_extraction.text import CountVectorizer,TfidfVectorizer\n",
        "from sklearn.feature_extraction import _stop_words as sklearn_stop_words\n",
        "from gensim.models.doc2vec import TaggedDocument\n",
        "from sklearn import preprocessing"
      ],
      "id": "uOIKzC0V6huK"
    },
    {
      "cell_type": "code",
      "execution_count": 5,
      "metadata": {
        "id": "jYs1ZtmFfvod"
      },
      "outputs": [],
      "source": [
        "# Word2Vec and Doc2Vec\n",
        "import torch\n",
        "import torch.nn as nn\n",
        "import torch.optim as optim\n",
        "from torch.autograd import Variable\n",
        "from gensim.models import Word2Vec\n",
        "from torch.utils.data import DataLoader, TensorDataset\n",
        "from sklearn.model_selection import train_test_split\n",
        "from torch.utils.data import DataLoader, Dataset\n",
        "from torchtext.data.utils import get_tokenizer\n",
        "from sklearn.metrics.pairwise import cosine_similarity\n",
        "\n",
        "# Processing packages\n",
        "import gensim\n",
        "from gensim.models import Word2Vec\n",
        "from gensim import utils\n",
        "from gensim.parsing.preprocessing import remove_stopwords, preprocess_string\n",
        "from gensim.test.utils import datapath\n",
        "from nltk.probability import FreqDist\n",
        "import random\n",
        "import copy"
      ],
      "id": "jYs1ZtmFfvod"
    },
    {
      "cell_type": "code",
      "execution_count": 6,
      "metadata": {
        "id": "GHUPgLjDAZHB"
      },
      "outputs": [],
      "source": [
        "# Plots\n",
        "from pathlib import Path\n",
        "import matplotlib\n",
        "import matplotlib.pyplot as plt\n",
        "%matplotlib inline\n",
        "matplotlib.rcParams['figure.figsize'] = (10.0, 6.0)\n",
        "\n",
        "import plotly.graph_objs as go\n",
        "from plotly.offline import iplot\n",
        "from IPython.core.interactiveshell import InteractiveShell\n",
        "\n",
        "pd.options.display.max_colwidth = 100\n",
        "pd.options.display.max_columns = 30"
      ],
      "id": "GHUPgLjDAZHB"
    },
    {
      "cell_type": "code",
      "execution_count": 7,
      "metadata": {
        "id": "OMLIymQFvMCM"
      },
      "outputs": [],
      "source": [
        "# Install packages for Top2Vec\n",
        "%%capture\n",
        "from top2vec import Top2Vec"
      ],
      "id": "OMLIymQFvMCM"
    },
    {
      "cell_type": "code",
      "source": [
        "import os\n",
        "from google.colab import drive\n",
        "\n",
        "# Mount Google Drive\n",
        "#drive.mount('/content/drive')\n",
        "\n",
        "# Create a folder in the root directory\n",
        "#!mkdir -p \"/content/drive/My Drive/NLP_models\""
      ],
      "metadata": {
        "id": "4sL7OwotKRXf"
      },
      "id": "4sL7OwotKRXf",
      "execution_count": 13,
      "outputs": []
    },
    {
      "cell_type": "markdown",
      "metadata": {
        "id": "6f049cb9"
      },
      "source": [
        "# Load the Data"
      ],
      "id": "6f049cb9"
    },
    {
      "cell_type": "markdown",
      "metadata": {
        "id": "4cc9d15f"
      },
      "source": [
        "First step is to load our data from the csv file into a dataframe."
      ],
      "id": "4cc9d15f"
    },
    {
      "cell_type": "code",
      "execution_count": 9,
      "metadata": {
        "colab": {
          "base_uri": "https://localhost:8080/"
        },
        "id": "7aa1735f",
        "outputId": "030d158a-6890-423f-d5bc-b1fbed193899"
      },
      "outputs": [
        {
          "output_type": "stream",
          "name": "stdout",
          "text": [
            "--2023-12-20 17:13:29--  https://github.com/nbarnett19/Computational_Language_Tech/raw/Main/cleantech_media_dataset_v1_20231109.zip\n",
            "Resolving github.com (github.com)... 140.82.113.3\n",
            "Connecting to github.com (github.com)|140.82.113.3|:443... connected.\n",
            "HTTP request sent, awaiting response... 302 Found\n",
            "Location: https://raw.githubusercontent.com/nbarnett19/Computational_Language_Tech/Main/cleantech_media_dataset_v1_20231109.zip [following]\n",
            "--2023-12-20 17:13:29--  https://raw.githubusercontent.com/nbarnett19/Computational_Language_Tech/Main/cleantech_media_dataset_v1_20231109.zip\n",
            "Resolving raw.githubusercontent.com (raw.githubusercontent.com)... 185.199.108.133, 185.199.111.133, 185.199.109.133, ...\n",
            "Connecting to raw.githubusercontent.com (raw.githubusercontent.com)|185.199.108.133|:443... connected.\n",
            "HTTP request sent, awaiting response... 200 OK\n",
            "Length: 14880158 (14M) [application/zip]\n",
            "Saving to: ‘cleantech_media_dataset_v1_20231109.zip’\n",
            "\n",
            "cleantech_media_dat 100%[===================>]  14.19M  --.-KB/s    in 0.1s    \n",
            "\n",
            "2023-12-20 17:13:29 (132 MB/s) - ‘cleantech_media_dataset_v1_20231109.zip’ saved [14880158/14880158]\n",
            "\n",
            "Archive:  /content/cleantech_media_dataset_v1_20231109.zip\n",
            "  inflating: cleantech_media_dataset_v1_20231109.csv  \n"
          ]
        }
      ],
      "source": [
        "!wget https://github.com/nbarnett19/Computational_Language_Tech/raw/Main/cleantech_media_dataset_v1_20231109.zip\n",
        "!unzip /content/cleantech_media_dataset_v1_20231109.zip"
      ],
      "id": "7aa1735f"
    },
    {
      "cell_type": "code",
      "execution_count": 16,
      "metadata": {
        "id": "skxPVRjZ8Yb-"
      },
      "outputs": [],
      "source": [
        "df = pd.read_csv(\"cleantech_media_dataset_v1_20231109.csv\")"
      ],
      "id": "skxPVRjZ8Yb-"
    },
    {
      "cell_type": "code",
      "execution_count": 11,
      "metadata": {
        "colab": {
          "base_uri": "https://localhost:8080/",
          "height": 449
        },
        "id": "226b8499",
        "outputId": "02d8afd3-b774-4af5-e778-e4b3b8622e3d"
      },
      "outputs": [
        {
          "output_type": "execute_result",
          "data": {
            "text/plain": [
              "   Unnamed: 0                                                title  \\\n",
              "0        1280   Qatar to Slash Emissions as LNG Expansion Advances   \n",
              "1        1281                 India Launches Its First 700 MW PHWR   \n",
              "2        1283                New Chapter for US-China Energy Trade   \n",
              "3        1284  Japan: Slow Restarts Cast Doubt on 2030 Energy Plan   \n",
              "4        1285       NYC Pension Funds to Divest Fossil Fuel Shares   \n",
              "\n",
              "         date author  \\\n",
              "0  2021-01-13    NaN   \n",
              "1  2021-01-15    NaN   \n",
              "2  2021-01-20    NaN   \n",
              "3  2021-01-22    NaN   \n",
              "4  2021-01-25    NaN   \n",
              "\n",
              "                                                                                               content  \\\n",
              "0  [\"Qatar Petroleum ( QP) is targeting aggressive cuts in its greenhouse gas emissions as it prepa...   \n",
              "1  [\"• Nuclear Power Corp. of India Ltd. ( NPCIL) synchronized Kakrapar-3 in the western state of G...   \n",
              "2  [\"New US President Joe Biden took office this week with the US-China relationship at its worst i...   \n",
              "3  [\"The slow pace of Japanese reactor restarts continues to cast doubt on the goal of the governme...   \n",
              "4  [\"Two of New York City's largest pension funds say they will divest roughly $ 4 billion in share...   \n",
              "\n",
              "        domain  \\\n",
              "0  energyintel   \n",
              "1  energyintel   \n",
              "2  energyintel   \n",
              "3  energyintel   \n",
              "4  energyintel   \n",
              "\n",
              "                                                                url  \n",
              "0  https://www.energyintel.com/0000017b-a7dc-de4c-a17b-e7de685b0000  \n",
              "1  https://www.energyintel.com/0000017b-a7dc-de4c-a17b-e7de6c710001  \n",
              "2  https://www.energyintel.com/0000017b-a7dc-de4c-a17b-e7de735a0000  \n",
              "3  https://www.energyintel.com/0000017b-a7dc-de4c-a17b-e7de79160000  \n",
              "4  https://www.energyintel.com/0000017b-a7dc-de4c-a17b-e7de7d9e0000  "
            ],
            "text/html": [
              "\n",
              "  <div id=\"df-82ac02ae-5764-4771-bee3-50b3ccb1ab78\" class=\"colab-df-container\">\n",
              "    <div>\n",
              "<style scoped>\n",
              "    .dataframe tbody tr th:only-of-type {\n",
              "        vertical-align: middle;\n",
              "    }\n",
              "\n",
              "    .dataframe tbody tr th {\n",
              "        vertical-align: top;\n",
              "    }\n",
              "\n",
              "    .dataframe thead th {\n",
              "        text-align: right;\n",
              "    }\n",
              "</style>\n",
              "<table border=\"1\" class=\"dataframe\">\n",
              "  <thead>\n",
              "    <tr style=\"text-align: right;\">\n",
              "      <th></th>\n",
              "      <th>Unnamed: 0</th>\n",
              "      <th>title</th>\n",
              "      <th>date</th>\n",
              "      <th>author</th>\n",
              "      <th>content</th>\n",
              "      <th>domain</th>\n",
              "      <th>url</th>\n",
              "    </tr>\n",
              "  </thead>\n",
              "  <tbody>\n",
              "    <tr>\n",
              "      <th>0</th>\n",
              "      <td>1280</td>\n",
              "      <td>Qatar to Slash Emissions as LNG Expansion Advances</td>\n",
              "      <td>2021-01-13</td>\n",
              "      <td>NaN</td>\n",
              "      <td>[\"Qatar Petroleum ( QP) is targeting aggressive cuts in its greenhouse gas emissions as it prepa...</td>\n",
              "      <td>energyintel</td>\n",
              "      <td>https://www.energyintel.com/0000017b-a7dc-de4c-a17b-e7de685b0000</td>\n",
              "    </tr>\n",
              "    <tr>\n",
              "      <th>1</th>\n",
              "      <td>1281</td>\n",
              "      <td>India Launches Its First 700 MW PHWR</td>\n",
              "      <td>2021-01-15</td>\n",
              "      <td>NaN</td>\n",
              "      <td>[\"• Nuclear Power Corp. of India Ltd. ( NPCIL) synchronized Kakrapar-3 in the western state of G...</td>\n",
              "      <td>energyintel</td>\n",
              "      <td>https://www.energyintel.com/0000017b-a7dc-de4c-a17b-e7de6c710001</td>\n",
              "    </tr>\n",
              "    <tr>\n",
              "      <th>2</th>\n",
              "      <td>1283</td>\n",
              "      <td>New Chapter for US-China Energy Trade</td>\n",
              "      <td>2021-01-20</td>\n",
              "      <td>NaN</td>\n",
              "      <td>[\"New US President Joe Biden took office this week with the US-China relationship at its worst i...</td>\n",
              "      <td>energyintel</td>\n",
              "      <td>https://www.energyintel.com/0000017b-a7dc-de4c-a17b-e7de735a0000</td>\n",
              "    </tr>\n",
              "    <tr>\n",
              "      <th>3</th>\n",
              "      <td>1284</td>\n",
              "      <td>Japan: Slow Restarts Cast Doubt on 2030 Energy Plan</td>\n",
              "      <td>2021-01-22</td>\n",
              "      <td>NaN</td>\n",
              "      <td>[\"The slow pace of Japanese reactor restarts continues to cast doubt on the goal of the governme...</td>\n",
              "      <td>energyintel</td>\n",
              "      <td>https://www.energyintel.com/0000017b-a7dc-de4c-a17b-e7de79160000</td>\n",
              "    </tr>\n",
              "    <tr>\n",
              "      <th>4</th>\n",
              "      <td>1285</td>\n",
              "      <td>NYC Pension Funds to Divest Fossil Fuel Shares</td>\n",
              "      <td>2021-01-25</td>\n",
              "      <td>NaN</td>\n",
              "      <td>[\"Two of New York City's largest pension funds say they will divest roughly $ 4 billion in share...</td>\n",
              "      <td>energyintel</td>\n",
              "      <td>https://www.energyintel.com/0000017b-a7dc-de4c-a17b-e7de7d9e0000</td>\n",
              "    </tr>\n",
              "  </tbody>\n",
              "</table>\n",
              "</div>\n",
              "    <div class=\"colab-df-buttons\">\n",
              "\n",
              "  <div class=\"colab-df-container\">\n",
              "    <button class=\"colab-df-convert\" onclick=\"convertToInteractive('df-82ac02ae-5764-4771-bee3-50b3ccb1ab78')\"\n",
              "            title=\"Convert this dataframe to an interactive table.\"\n",
              "            style=\"display:none;\">\n",
              "\n",
              "  <svg xmlns=\"http://www.w3.org/2000/svg\" height=\"24px\" viewBox=\"0 -960 960 960\">\n",
              "    <path d=\"M120-120v-720h720v720H120Zm60-500h600v-160H180v160Zm220 220h160v-160H400v160Zm0 220h160v-160H400v160ZM180-400h160v-160H180v160Zm440 0h160v-160H620v160ZM180-180h160v-160H180v160Zm440 0h160v-160H620v160Z\"/>\n",
              "  </svg>\n",
              "    </button>\n",
              "\n",
              "  <style>\n",
              "    .colab-df-container {\n",
              "      display:flex;\n",
              "      gap: 12px;\n",
              "    }\n",
              "\n",
              "    .colab-df-convert {\n",
              "      background-color: #E8F0FE;\n",
              "      border: none;\n",
              "      border-radius: 50%;\n",
              "      cursor: pointer;\n",
              "      display: none;\n",
              "      fill: #1967D2;\n",
              "      height: 32px;\n",
              "      padding: 0 0 0 0;\n",
              "      width: 32px;\n",
              "    }\n",
              "\n",
              "    .colab-df-convert:hover {\n",
              "      background-color: #E2EBFA;\n",
              "      box-shadow: 0px 1px 2px rgba(60, 64, 67, 0.3), 0px 1px 3px 1px rgba(60, 64, 67, 0.15);\n",
              "      fill: #174EA6;\n",
              "    }\n",
              "\n",
              "    .colab-df-buttons div {\n",
              "      margin-bottom: 4px;\n",
              "    }\n",
              "\n",
              "    [theme=dark] .colab-df-convert {\n",
              "      background-color: #3B4455;\n",
              "      fill: #D2E3FC;\n",
              "    }\n",
              "\n",
              "    [theme=dark] .colab-df-convert:hover {\n",
              "      background-color: #434B5C;\n",
              "      box-shadow: 0px 1px 3px 1px rgba(0, 0, 0, 0.15);\n",
              "      filter: drop-shadow(0px 1px 2px rgba(0, 0, 0, 0.3));\n",
              "      fill: #FFFFFF;\n",
              "    }\n",
              "  </style>\n",
              "\n",
              "    <script>\n",
              "      const buttonEl =\n",
              "        document.querySelector('#df-82ac02ae-5764-4771-bee3-50b3ccb1ab78 button.colab-df-convert');\n",
              "      buttonEl.style.display =\n",
              "        google.colab.kernel.accessAllowed ? 'block' : 'none';\n",
              "\n",
              "      async function convertToInteractive(key) {\n",
              "        const element = document.querySelector('#df-82ac02ae-5764-4771-bee3-50b3ccb1ab78');\n",
              "        const dataTable =\n",
              "          await google.colab.kernel.invokeFunction('convertToInteractive',\n",
              "                                                    [key], {});\n",
              "        if (!dataTable) return;\n",
              "\n",
              "        const docLinkHtml = 'Like what you see? Visit the ' +\n",
              "          '<a target=\"_blank\" href=https://colab.research.google.com/notebooks/data_table.ipynb>data table notebook</a>'\n",
              "          + ' to learn more about interactive tables.';\n",
              "        element.innerHTML = '';\n",
              "        dataTable['output_type'] = 'display_data';\n",
              "        await google.colab.output.renderOutput(dataTable, element);\n",
              "        const docLink = document.createElement('div');\n",
              "        docLink.innerHTML = docLinkHtml;\n",
              "        element.appendChild(docLink);\n",
              "      }\n",
              "    </script>\n",
              "  </div>\n",
              "\n",
              "\n",
              "<div id=\"df-63003ae9-3097-4d8b-939c-ae6890138c2f\">\n",
              "  <button class=\"colab-df-quickchart\" onclick=\"quickchart('df-63003ae9-3097-4d8b-939c-ae6890138c2f')\"\n",
              "            title=\"Suggest charts\"\n",
              "            style=\"display:none;\">\n",
              "\n",
              "<svg xmlns=\"http://www.w3.org/2000/svg\" height=\"24px\"viewBox=\"0 0 24 24\"\n",
              "     width=\"24px\">\n",
              "    <g>\n",
              "        <path d=\"M19 3H5c-1.1 0-2 .9-2 2v14c0 1.1.9 2 2 2h14c1.1 0 2-.9 2-2V5c0-1.1-.9-2-2-2zM9 17H7v-7h2v7zm4 0h-2V7h2v10zm4 0h-2v-4h2v4z\"/>\n",
              "    </g>\n",
              "</svg>\n",
              "  </button>\n",
              "\n",
              "<style>\n",
              "  .colab-df-quickchart {\n",
              "      --bg-color: #E8F0FE;\n",
              "      --fill-color: #1967D2;\n",
              "      --hover-bg-color: #E2EBFA;\n",
              "      --hover-fill-color: #174EA6;\n",
              "      --disabled-fill-color: #AAA;\n",
              "      --disabled-bg-color: #DDD;\n",
              "  }\n",
              "\n",
              "  [theme=dark] .colab-df-quickchart {\n",
              "      --bg-color: #3B4455;\n",
              "      --fill-color: #D2E3FC;\n",
              "      --hover-bg-color: #434B5C;\n",
              "      --hover-fill-color: #FFFFFF;\n",
              "      --disabled-bg-color: #3B4455;\n",
              "      --disabled-fill-color: #666;\n",
              "  }\n",
              "\n",
              "  .colab-df-quickchart {\n",
              "    background-color: var(--bg-color);\n",
              "    border: none;\n",
              "    border-radius: 50%;\n",
              "    cursor: pointer;\n",
              "    display: none;\n",
              "    fill: var(--fill-color);\n",
              "    height: 32px;\n",
              "    padding: 0;\n",
              "    width: 32px;\n",
              "  }\n",
              "\n",
              "  .colab-df-quickchart:hover {\n",
              "    background-color: var(--hover-bg-color);\n",
              "    box-shadow: 0 1px 2px rgba(60, 64, 67, 0.3), 0 1px 3px 1px rgba(60, 64, 67, 0.15);\n",
              "    fill: var(--button-hover-fill-color);\n",
              "  }\n",
              "\n",
              "  .colab-df-quickchart-complete:disabled,\n",
              "  .colab-df-quickchart-complete:disabled:hover {\n",
              "    background-color: var(--disabled-bg-color);\n",
              "    fill: var(--disabled-fill-color);\n",
              "    box-shadow: none;\n",
              "  }\n",
              "\n",
              "  .colab-df-spinner {\n",
              "    border: 2px solid var(--fill-color);\n",
              "    border-color: transparent;\n",
              "    border-bottom-color: var(--fill-color);\n",
              "    animation:\n",
              "      spin 1s steps(1) infinite;\n",
              "  }\n",
              "\n",
              "  @keyframes spin {\n",
              "    0% {\n",
              "      border-color: transparent;\n",
              "      border-bottom-color: var(--fill-color);\n",
              "      border-left-color: var(--fill-color);\n",
              "    }\n",
              "    20% {\n",
              "      border-color: transparent;\n",
              "      border-left-color: var(--fill-color);\n",
              "      border-top-color: var(--fill-color);\n",
              "    }\n",
              "    30% {\n",
              "      border-color: transparent;\n",
              "      border-left-color: var(--fill-color);\n",
              "      border-top-color: var(--fill-color);\n",
              "      border-right-color: var(--fill-color);\n",
              "    }\n",
              "    40% {\n",
              "      border-color: transparent;\n",
              "      border-right-color: var(--fill-color);\n",
              "      border-top-color: var(--fill-color);\n",
              "    }\n",
              "    60% {\n",
              "      border-color: transparent;\n",
              "      border-right-color: var(--fill-color);\n",
              "    }\n",
              "    80% {\n",
              "      border-color: transparent;\n",
              "      border-right-color: var(--fill-color);\n",
              "      border-bottom-color: var(--fill-color);\n",
              "    }\n",
              "    90% {\n",
              "      border-color: transparent;\n",
              "      border-bottom-color: var(--fill-color);\n",
              "    }\n",
              "  }\n",
              "</style>\n",
              "\n",
              "  <script>\n",
              "    async function quickchart(key) {\n",
              "      const quickchartButtonEl =\n",
              "        document.querySelector('#' + key + ' button');\n",
              "      quickchartButtonEl.disabled = true;  // To prevent multiple clicks.\n",
              "      quickchartButtonEl.classList.add('colab-df-spinner');\n",
              "      try {\n",
              "        const charts = await google.colab.kernel.invokeFunction(\n",
              "            'suggestCharts', [key], {});\n",
              "      } catch (error) {\n",
              "        console.error('Error during call to suggestCharts:', error);\n",
              "      }\n",
              "      quickchartButtonEl.classList.remove('colab-df-spinner');\n",
              "      quickchartButtonEl.classList.add('colab-df-quickchart-complete');\n",
              "    }\n",
              "    (() => {\n",
              "      let quickchartButtonEl =\n",
              "        document.querySelector('#df-63003ae9-3097-4d8b-939c-ae6890138c2f button');\n",
              "      quickchartButtonEl.style.display =\n",
              "        google.colab.kernel.accessAllowed ? 'block' : 'none';\n",
              "    })();\n",
              "  </script>\n",
              "</div>\n",
              "    </div>\n",
              "  </div>\n"
            ]
          },
          "metadata": {},
          "execution_count": 11
        }
      ],
      "source": [
        "# Inspect dataframe\n",
        "pd.DataFrame.head(df)"
      ],
      "id": "226b8499"
    },
    {
      "cell_type": "code",
      "execution_count": 12,
      "metadata": {
        "colab": {
          "base_uri": "https://localhost:8080/"
        },
        "id": "20bbb0bd",
        "outputId": "96e787a4-b336-46df-afa5-40144e965695"
      },
      "outputs": [
        {
          "output_type": "execute_result",
          "data": {
            "text/plain": [
              "(9607, 7)"
            ]
          },
          "metadata": {},
          "execution_count": 12
        }
      ],
      "source": [
        "# Inspect dataframe shape\n",
        "df.shape"
      ],
      "id": "20bbb0bd"
    },
    {
      "cell_type": "markdown",
      "metadata": {
        "id": "94c61854"
      },
      "source": [
        "The dataframe contains 9607 records and 7 attributes."
      ],
      "id": "94c61854"
    },
    {
      "cell_type": "code",
      "execution_count": 14,
      "metadata": {
        "colab": {
          "base_uri": "https://localhost:8080/"
        },
        "id": "15c5a36d",
        "outputId": "e81fde1c-a9ab-462a-9d32-20706bc6011a"
      },
      "outputs": [
        {
          "output_type": "stream",
          "name": "stdout",
          "text": [
            "Unnamed: 0       0\n",
            "title            0\n",
            "date             0\n",
            "author        9576\n",
            "content          0\n",
            "domain           0\n",
            "url              0\n",
            "dtype: int64\n"
          ]
        }
      ],
      "source": [
        "# Check for NAs\n",
        "print(df.isnull().sum())"
      ],
      "id": "15c5a36d"
    },
    {
      "cell_type": "markdown",
      "metadata": {
        "id": "3a0cc6a1"
      },
      "source": [
        "There are no NAs in the title or content columns which are the most important for topic modelling. We can also see that the author column has almost no data so we can drop this column."
      ],
      "id": "3a0cc6a1"
    },
    {
      "cell_type": "markdown",
      "metadata": {
        "id": "fd6fbcb0"
      },
      "source": [
        "# Preprocessing\n",
        "\n",
        "We create a function to apply the first preprocessing steps. This includes dropping any duplicated records, changing the contents to lower case, removing non alpha-numeric characters, tokenizing the contents and adding a word count."
      ],
      "id": "fd6fbcb0"
    },
    {
      "cell_type": "code",
      "execution_count": 17,
      "metadata": {
        "id": "46ef8967"
      },
      "outputs": [],
      "source": [
        "def preprocess_data(df):\n",
        "    # Remove duplicates\n",
        "    df = df.drop_duplicates()\n",
        "\n",
        "    # Remove digits << Added because the tokenized numbers do not bring value to our analysis\n",
        "    df['content_cleaned'] = df['content'].str.replace('\\d+', '', regex=True)\n",
        "\n",
        "    # Convert content to lower case\n",
        "    df['content_cleaned'] = df['content_cleaned'].apply(lambda x: x.lower())\n",
        "\n",
        "    # Remove symbols, but keep punctuation for sentence tokenization\n",
        "    df['content_cleaned_sent'] = df['content_cleaned'].apply(lambda x: re.sub(r\"[^a-zA-Z0-9.!?]+\", r\" \", x))\n",
        "\n",
        "    # Remove symbols and punctuation\n",
        "    df['content_cleaned'] = df['content_cleaned'].apply(lambda x: re.sub(r'[^a-zA-Z0-9\\s]', '', x))\n",
        "\n",
        "    # Tokenize\n",
        "    df['tokenized_content'] = df['content_cleaned'].apply(lambda x: nltk.word_tokenize(x))\n",
        "\n",
        "    # Remove digits << Added because the tokenized numbers do not bring value to our analysis\n",
        "    df['tokenized_content'] = df['tokenized_content'].replace('[0-9]+', '', regex=True)\n",
        "\n",
        "    # Add word count column\n",
        "    df['word_count'] = df['tokenized_content'].apply(lambda x: len(x))\n",
        "\n",
        "    # Remove unused columns\n",
        "    df.drop('Unnamed: 0', axis=1, inplace=True)\n",
        "    df.drop('author', axis=1, inplace=True)\n",
        "\n",
        "    return df\n",
        "\n",
        "df = preprocess_data(df)"
      ],
      "id": "46ef8967"
    },
    {
      "cell_type": "code",
      "execution_count": 18,
      "metadata": {
        "colab": {
          "base_uri": "https://localhost:8080/",
          "height": 293
        },
        "id": "d016a134",
        "outputId": "a952ac12-833e-427a-b709-6c6a7beb8916"
      },
      "outputs": [
        {
          "output_type": "execute_result",
          "data": {
            "text/plain": [
              "                                                                                       content_cleaned  \\\n",
              "0  qatar petroleum  qp is targeting aggressive cuts in its greenhouse gas emissions as it prepares ...   \n",
              "1   nuclear power corp of india ltd  npcil synchronized kakrapar in the western state of gujarat to...   \n",
              "2  new us president joe biden took office this week with the uschina relationship at its worst in d...   \n",
              "3  the slow pace of japanese reactor restarts continues to cast doubt on the goal of the government...   \n",
              "4  two of new york citys largest pension funds say they will divest roughly   billion in shares of ...   \n",
              "\n",
              "                                                                                     tokenized_content  \\\n",
              "0  [qatar, petroleum, qp, is, targeting, aggressive, cuts, in, its, greenhouse, gas, emissions, as,...   \n",
              "1  [nuclear, power, corp, of, india, ltd, npcil, synchronized, kakrapar, in, the, western, state, o...   \n",
              "2  [new, us, president, joe, biden, took, office, this, week, with, the, uschina, relationship, at,...   \n",
              "3  [the, slow, pace, of, japanese, reactor, restarts, continues, to, cast, doubt, on, the, goal, of...   \n",
              "4  [two, of, new, york, citys, largest, pension, funds, say, they, will, divest, roughly, billion, ...   \n",
              "\n",
              "   word_count  \n",
              "0         415  \n",
              "1         518  \n",
              "2         679  \n",
              "3         663  \n",
              "4         384  "
            ],
            "text/html": [
              "\n",
              "  <div id=\"df-d159b9ac-50d3-403c-8f8f-fd9306f81429\" class=\"colab-df-container\">\n",
              "    <div>\n",
              "<style scoped>\n",
              "    .dataframe tbody tr th:only-of-type {\n",
              "        vertical-align: middle;\n",
              "    }\n",
              "\n",
              "    .dataframe tbody tr th {\n",
              "        vertical-align: top;\n",
              "    }\n",
              "\n",
              "    .dataframe thead th {\n",
              "        text-align: right;\n",
              "    }\n",
              "</style>\n",
              "<table border=\"1\" class=\"dataframe\">\n",
              "  <thead>\n",
              "    <tr style=\"text-align: right;\">\n",
              "      <th></th>\n",
              "      <th>content_cleaned</th>\n",
              "      <th>tokenized_content</th>\n",
              "      <th>word_count</th>\n",
              "    </tr>\n",
              "  </thead>\n",
              "  <tbody>\n",
              "    <tr>\n",
              "      <th>0</th>\n",
              "      <td>qatar petroleum  qp is targeting aggressive cuts in its greenhouse gas emissions as it prepares ...</td>\n",
              "      <td>[qatar, petroleum, qp, is, targeting, aggressive, cuts, in, its, greenhouse, gas, emissions, as,...</td>\n",
              "      <td>415</td>\n",
              "    </tr>\n",
              "    <tr>\n",
              "      <th>1</th>\n",
              "      <td>nuclear power corp of india ltd  npcil synchronized kakrapar in the western state of gujarat to...</td>\n",
              "      <td>[nuclear, power, corp, of, india, ltd, npcil, synchronized, kakrapar, in, the, western, state, o...</td>\n",
              "      <td>518</td>\n",
              "    </tr>\n",
              "    <tr>\n",
              "      <th>2</th>\n",
              "      <td>new us president joe biden took office this week with the uschina relationship at its worst in d...</td>\n",
              "      <td>[new, us, president, joe, biden, took, office, this, week, with, the, uschina, relationship, at,...</td>\n",
              "      <td>679</td>\n",
              "    </tr>\n",
              "    <tr>\n",
              "      <th>3</th>\n",
              "      <td>the slow pace of japanese reactor restarts continues to cast doubt on the goal of the government...</td>\n",
              "      <td>[the, slow, pace, of, japanese, reactor, restarts, continues, to, cast, doubt, on, the, goal, of...</td>\n",
              "      <td>663</td>\n",
              "    </tr>\n",
              "    <tr>\n",
              "      <th>4</th>\n",
              "      <td>two of new york citys largest pension funds say they will divest roughly   billion in shares of ...</td>\n",
              "      <td>[two, of, new, york, citys, largest, pension, funds, say, they, will, divest, roughly, billion, ...</td>\n",
              "      <td>384</td>\n",
              "    </tr>\n",
              "  </tbody>\n",
              "</table>\n",
              "</div>\n",
              "    <div class=\"colab-df-buttons\">\n",
              "\n",
              "  <div class=\"colab-df-container\">\n",
              "    <button class=\"colab-df-convert\" onclick=\"convertToInteractive('df-d159b9ac-50d3-403c-8f8f-fd9306f81429')\"\n",
              "            title=\"Convert this dataframe to an interactive table.\"\n",
              "            style=\"display:none;\">\n",
              "\n",
              "  <svg xmlns=\"http://www.w3.org/2000/svg\" height=\"24px\" viewBox=\"0 -960 960 960\">\n",
              "    <path d=\"M120-120v-720h720v720H120Zm60-500h600v-160H180v160Zm220 220h160v-160H400v160Zm0 220h160v-160H400v160ZM180-400h160v-160H180v160Zm440 0h160v-160H620v160ZM180-180h160v-160H180v160Zm440 0h160v-160H620v160Z\"/>\n",
              "  </svg>\n",
              "    </button>\n",
              "\n",
              "  <style>\n",
              "    .colab-df-container {\n",
              "      display:flex;\n",
              "      gap: 12px;\n",
              "    }\n",
              "\n",
              "    .colab-df-convert {\n",
              "      background-color: #E8F0FE;\n",
              "      border: none;\n",
              "      border-radius: 50%;\n",
              "      cursor: pointer;\n",
              "      display: none;\n",
              "      fill: #1967D2;\n",
              "      height: 32px;\n",
              "      padding: 0 0 0 0;\n",
              "      width: 32px;\n",
              "    }\n",
              "\n",
              "    .colab-df-convert:hover {\n",
              "      background-color: #E2EBFA;\n",
              "      box-shadow: 0px 1px 2px rgba(60, 64, 67, 0.3), 0px 1px 3px 1px rgba(60, 64, 67, 0.15);\n",
              "      fill: #174EA6;\n",
              "    }\n",
              "\n",
              "    .colab-df-buttons div {\n",
              "      margin-bottom: 4px;\n",
              "    }\n",
              "\n",
              "    [theme=dark] .colab-df-convert {\n",
              "      background-color: #3B4455;\n",
              "      fill: #D2E3FC;\n",
              "    }\n",
              "\n",
              "    [theme=dark] .colab-df-convert:hover {\n",
              "      background-color: #434B5C;\n",
              "      box-shadow: 0px 1px 3px 1px rgba(0, 0, 0, 0.15);\n",
              "      filter: drop-shadow(0px 1px 2px rgba(0, 0, 0, 0.3));\n",
              "      fill: #FFFFFF;\n",
              "    }\n",
              "  </style>\n",
              "\n",
              "    <script>\n",
              "      const buttonEl =\n",
              "        document.querySelector('#df-d159b9ac-50d3-403c-8f8f-fd9306f81429 button.colab-df-convert');\n",
              "      buttonEl.style.display =\n",
              "        google.colab.kernel.accessAllowed ? 'block' : 'none';\n",
              "\n",
              "      async function convertToInteractive(key) {\n",
              "        const element = document.querySelector('#df-d159b9ac-50d3-403c-8f8f-fd9306f81429');\n",
              "        const dataTable =\n",
              "          await google.colab.kernel.invokeFunction('convertToInteractive',\n",
              "                                                    [key], {});\n",
              "        if (!dataTable) return;\n",
              "\n",
              "        const docLinkHtml = 'Like what you see? Visit the ' +\n",
              "          '<a target=\"_blank\" href=https://colab.research.google.com/notebooks/data_table.ipynb>data table notebook</a>'\n",
              "          + ' to learn more about interactive tables.';\n",
              "        element.innerHTML = '';\n",
              "        dataTable['output_type'] = 'display_data';\n",
              "        await google.colab.output.renderOutput(dataTable, element);\n",
              "        const docLink = document.createElement('div');\n",
              "        docLink.innerHTML = docLinkHtml;\n",
              "        element.appendChild(docLink);\n",
              "      }\n",
              "    </script>\n",
              "  </div>\n",
              "\n",
              "\n",
              "<div id=\"df-5e41fa57-b821-40ca-8d95-e0032ad0c1c5\">\n",
              "  <button class=\"colab-df-quickchart\" onclick=\"quickchart('df-5e41fa57-b821-40ca-8d95-e0032ad0c1c5')\"\n",
              "            title=\"Suggest charts\"\n",
              "            style=\"display:none;\">\n",
              "\n",
              "<svg xmlns=\"http://www.w3.org/2000/svg\" height=\"24px\"viewBox=\"0 0 24 24\"\n",
              "     width=\"24px\">\n",
              "    <g>\n",
              "        <path d=\"M19 3H5c-1.1 0-2 .9-2 2v14c0 1.1.9 2 2 2h14c1.1 0 2-.9 2-2V5c0-1.1-.9-2-2-2zM9 17H7v-7h2v7zm4 0h-2V7h2v10zm4 0h-2v-4h2v4z\"/>\n",
              "    </g>\n",
              "</svg>\n",
              "  </button>\n",
              "\n",
              "<style>\n",
              "  .colab-df-quickchart {\n",
              "      --bg-color: #E8F0FE;\n",
              "      --fill-color: #1967D2;\n",
              "      --hover-bg-color: #E2EBFA;\n",
              "      --hover-fill-color: #174EA6;\n",
              "      --disabled-fill-color: #AAA;\n",
              "      --disabled-bg-color: #DDD;\n",
              "  }\n",
              "\n",
              "  [theme=dark] .colab-df-quickchart {\n",
              "      --bg-color: #3B4455;\n",
              "      --fill-color: #D2E3FC;\n",
              "      --hover-bg-color: #434B5C;\n",
              "      --hover-fill-color: #FFFFFF;\n",
              "      --disabled-bg-color: #3B4455;\n",
              "      --disabled-fill-color: #666;\n",
              "  }\n",
              "\n",
              "  .colab-df-quickchart {\n",
              "    background-color: var(--bg-color);\n",
              "    border: none;\n",
              "    border-radius: 50%;\n",
              "    cursor: pointer;\n",
              "    display: none;\n",
              "    fill: var(--fill-color);\n",
              "    height: 32px;\n",
              "    padding: 0;\n",
              "    width: 32px;\n",
              "  }\n",
              "\n",
              "  .colab-df-quickchart:hover {\n",
              "    background-color: var(--hover-bg-color);\n",
              "    box-shadow: 0 1px 2px rgba(60, 64, 67, 0.3), 0 1px 3px 1px rgba(60, 64, 67, 0.15);\n",
              "    fill: var(--button-hover-fill-color);\n",
              "  }\n",
              "\n",
              "  .colab-df-quickchart-complete:disabled,\n",
              "  .colab-df-quickchart-complete:disabled:hover {\n",
              "    background-color: var(--disabled-bg-color);\n",
              "    fill: var(--disabled-fill-color);\n",
              "    box-shadow: none;\n",
              "  }\n",
              "\n",
              "  .colab-df-spinner {\n",
              "    border: 2px solid var(--fill-color);\n",
              "    border-color: transparent;\n",
              "    border-bottom-color: var(--fill-color);\n",
              "    animation:\n",
              "      spin 1s steps(1) infinite;\n",
              "  }\n",
              "\n",
              "  @keyframes spin {\n",
              "    0% {\n",
              "      border-color: transparent;\n",
              "      border-bottom-color: var(--fill-color);\n",
              "      border-left-color: var(--fill-color);\n",
              "    }\n",
              "    20% {\n",
              "      border-color: transparent;\n",
              "      border-left-color: var(--fill-color);\n",
              "      border-top-color: var(--fill-color);\n",
              "    }\n",
              "    30% {\n",
              "      border-color: transparent;\n",
              "      border-left-color: var(--fill-color);\n",
              "      border-top-color: var(--fill-color);\n",
              "      border-right-color: var(--fill-color);\n",
              "    }\n",
              "    40% {\n",
              "      border-color: transparent;\n",
              "      border-right-color: var(--fill-color);\n",
              "      border-top-color: var(--fill-color);\n",
              "    }\n",
              "    60% {\n",
              "      border-color: transparent;\n",
              "      border-right-color: var(--fill-color);\n",
              "    }\n",
              "    80% {\n",
              "      border-color: transparent;\n",
              "      border-right-color: var(--fill-color);\n",
              "      border-bottom-color: var(--fill-color);\n",
              "    }\n",
              "    90% {\n",
              "      border-color: transparent;\n",
              "      border-bottom-color: var(--fill-color);\n",
              "    }\n",
              "  }\n",
              "</style>\n",
              "\n",
              "  <script>\n",
              "    async function quickchart(key) {\n",
              "      const quickchartButtonEl =\n",
              "        document.querySelector('#' + key + ' button');\n",
              "      quickchartButtonEl.disabled = true;  // To prevent multiple clicks.\n",
              "      quickchartButtonEl.classList.add('colab-df-spinner');\n",
              "      try {\n",
              "        const charts = await google.colab.kernel.invokeFunction(\n",
              "            'suggestCharts', [key], {});\n",
              "      } catch (error) {\n",
              "        console.error('Error during call to suggestCharts:', error);\n",
              "      }\n",
              "      quickchartButtonEl.classList.remove('colab-df-spinner');\n",
              "      quickchartButtonEl.classList.add('colab-df-quickchart-complete');\n",
              "    }\n",
              "    (() => {\n",
              "      let quickchartButtonEl =\n",
              "        document.querySelector('#df-5e41fa57-b821-40ca-8d95-e0032ad0c1c5 button');\n",
              "      quickchartButtonEl.style.display =\n",
              "        google.colab.kernel.accessAllowed ? 'block' : 'none';\n",
              "    })();\n",
              "  </script>\n",
              "</div>\n",
              "    </div>\n",
              "  </div>\n"
            ]
          },
          "metadata": {},
          "execution_count": 18
        }
      ],
      "source": [
        "df[['content_cleaned', 'tokenized_content', 'word_count']].head()"
      ],
      "id": "d016a134"
    },
    {
      "cell_type": "markdown",
      "metadata": {
        "id": "5ebcfdf9"
      },
      "source": [
        "Lemmatize tokens"
      ],
      "id": "5ebcfdf9"
    },
    {
      "cell_type": "code",
      "execution_count": 19,
      "metadata": {
        "colab": {
          "base_uri": "https://localhost:8080/"
        },
        "id": "YTZRV-rMfA5k",
        "outputId": "f601151c-818b-48b9-b1b8-99fea7308734"
      },
      "outputs": [
        {
          "output_type": "execute_result",
          "data": {
            "text/plain": [
              "0       [qatar, petroleum, qp, be, target, aggressive, cut, in, its, greenhouse, gas, emission, as, it, ...\n",
              "1       [nuclear, power, corp, of, india, ltd, npcil, synchronize, kakrapar, in, the, western, state, of...\n",
              "2       [new, us, president, joe, biden, take, office, this, week, with, the, uschina, relationship, at,...\n",
              "3       [the, slow, pace, of, japanese, reactor, restart, continue, to, cast, doubt, on, the, goal, of, ...\n",
              "4       [two, of, new, york, city, large, pension, fund, say, they, will, divest, roughly, billion, in, ...\n",
              "                                                       ...                                                 \n",
              "9602    [strata, clean, energy, have, close, a, million, revolving, loan, and, letter, of, credit, facil...\n",
              "9603    [global, renewable, energy, developer, rste, be, deploy, sparkcognition, s, renewable, suite, ac...\n",
              "9604    [veolia, north, america, a, provider, of, environmental, solution, in, the, us, and, canada, hav...\n",
              "9605    [once, the, selfproclaime, lead, renewable, power, plant, developer, in, the, world, usbased, su...\n",
              "9606    [arevon, energy, inc, have, close, financing, on, the, viking, solarplusstorage, project, with, ...\n",
              "Name: tokenized_content, Length: 9607, dtype: object"
            ]
          },
          "metadata": {},
          "execution_count": 19
        }
      ],
      "source": [
        "nlp = spacy.load(\"en_core_web_sm\", disable=[\"ner\", \"parser\"])\n",
        "\n",
        "\n",
        "def lemmatize_tokens(token_list):\n",
        "    # Join the tokens back into a string\n",
        "    joined_tokens = ' '.join(token_list)\n",
        "    # Process the text with spacy\n",
        "    doc = nlp(joined_tokens)\n",
        "    # Return the lemmatized tokens\n",
        "    return [token.lemma_ for token in doc]\n",
        "\n",
        "# Apply the lemmatization function to the 'tokenized_content' column\n",
        "spacy_lemma = df['tokenized_content'].apply(lemmatize_tokens)\n",
        "spacy_lemma"
      ],
      "id": "YTZRV-rMfA5k"
    },
    {
      "cell_type": "code",
      "execution_count": 20,
      "metadata": {
        "id": "ya1XwoMh4JLr"
      },
      "outputs": [],
      "source": [
        "df['spacy_lemma'] = spacy_lemma"
      ],
      "id": "ya1XwoMh4JLr"
    },
    {
      "cell_type": "code",
      "execution_count": 21,
      "metadata": {
        "colab": {
          "base_uri": "https://localhost:8080/"
        },
        "id": "4f3e372d",
        "outputId": "59846ced-cec8-4dc1-b898-a73130b789e6"
      },
      "outputs": [
        {
          "output_type": "stream",
          "name": "stdout",
          "text": [
            "232\n"
          ]
        }
      ],
      "source": [
        "# Remove stops\n",
        "stop_words_spacy = nlp.Defaults.stop_words\n",
        "stops_spacy = df['spacy_lemma'].apply(lambda x: [word for word in x if word.lower() not in stop_words_spacy])\n",
        "print(len(stops_spacy[0]))"
      ],
      "id": "4f3e372d"
    },
    {
      "cell_type": "code",
      "execution_count": 22,
      "metadata": {
        "colab": {
          "base_uri": "https://localhost:8080/",
          "height": 990
        },
        "id": "c1ecb42d",
        "outputId": "5a03aa3a-c687-4205-eb1a-9415bc8b0e46"
      },
      "outputs": [
        {
          "output_type": "execute_result",
          "data": {
            "text/plain": [
              "                                                 title        date  \\\n",
              "0   Qatar to Slash Emissions as LNG Expansion Advances  2021-01-13   \n",
              "1                 India Launches Its First 700 MW PHWR  2021-01-15   \n",
              "2                New Chapter for US-China Energy Trade  2021-01-20   \n",
              "3  Japan: Slow Restarts Cast Doubt on 2030 Energy Plan  2021-01-22   \n",
              "4       NYC Pension Funds to Divest Fossil Fuel Shares  2021-01-25   \n",
              "\n",
              "                                                                                               content  \\\n",
              "0  [\"Qatar Petroleum ( QP) is targeting aggressive cuts in its greenhouse gas emissions as it prepa...   \n",
              "1  [\"• Nuclear Power Corp. of India Ltd. ( NPCIL) synchronized Kakrapar-3 in the western state of G...   \n",
              "2  [\"New US President Joe Biden took office this week with the US-China relationship at its worst i...   \n",
              "3  [\"The slow pace of Japanese reactor restarts continues to cast doubt on the goal of the governme...   \n",
              "4  [\"Two of New York City's largest pension funds say they will divest roughly $ 4 billion in share...   \n",
              "\n",
              "        domain  \\\n",
              "0  energyintel   \n",
              "1  energyintel   \n",
              "2  energyintel   \n",
              "3  energyintel   \n",
              "4  energyintel   \n",
              "\n",
              "                                                                url  \\\n",
              "0  https://www.energyintel.com/0000017b-a7dc-de4c-a17b-e7de685b0000   \n",
              "1  https://www.energyintel.com/0000017b-a7dc-de4c-a17b-e7de6c710001   \n",
              "2  https://www.energyintel.com/0000017b-a7dc-de4c-a17b-e7de735a0000   \n",
              "3  https://www.energyintel.com/0000017b-a7dc-de4c-a17b-e7de79160000   \n",
              "4  https://www.energyintel.com/0000017b-a7dc-de4c-a17b-e7de7d9e0000   \n",
              "\n",
              "                                                                                       content_cleaned  \\\n",
              "0  qatar petroleum  qp is targeting aggressive cuts in its greenhouse gas emissions as it prepares ...   \n",
              "1   nuclear power corp of india ltd  npcil synchronized kakrapar in the western state of gujarat to...   \n",
              "2  new us president joe biden took office this week with the uschina relationship at its worst in d...   \n",
              "3  the slow pace of japanese reactor restarts continues to cast doubt on the goal of the government...   \n",
              "4  two of new york citys largest pension funds say they will divest roughly   billion in shares of ...   \n",
              "\n",
              "                                                                                  content_cleaned_sent  \\\n",
              "0   qatar petroleum qp is targeting aggressive cuts in its greenhouse gas emissions as it prepares ...   \n",
              "1   nuclear power corp. of india ltd. npcil synchronized kakrapar in the western state of gujarat t...   \n",
              "2   new us president joe biden took office this week with the us china relationship at its worst in...   \n",
              "3   the slow pace of japanese reactor restarts continues to cast doubt on the goal of the governmen...   \n",
              "4   two of new york city s largest pension funds say they will divest roughly billion in shares of ...   \n",
              "\n",
              "                                                                                     tokenized_content  \\\n",
              "0  [qatar, petroleum, qp, is, targeting, aggressive, cuts, in, its, greenhouse, gas, emissions, as,...   \n",
              "1  [nuclear, power, corp, of, india, ltd, npcil, synchronized, kakrapar, in, the, western, state, o...   \n",
              "2  [new, us, president, joe, biden, took, office, this, week, with, the, uschina, relationship, at,...   \n",
              "3  [the, slow, pace, of, japanese, reactor, restarts, continues, to, cast, doubt, on, the, goal, of...   \n",
              "4  [two, of, new, york, citys, largest, pension, funds, say, they, will, divest, roughly, billion, ...   \n",
              "\n",
              "   word_count  \\\n",
              "0         415   \n",
              "1         518   \n",
              "2         679   \n",
              "3         663   \n",
              "4         384   \n",
              "\n",
              "                                                                                           spacy_lemma  \\\n",
              "0  [qatar, petroleum, qp, be, target, aggressive, cut, in, its, greenhouse, gas, emission, as, it, ...   \n",
              "1  [nuclear, power, corp, of, india, ltd, npcil, synchronize, kakrapar, in, the, western, state, of...   \n",
              "2  [new, us, president, joe, biden, take, office, this, week, with, the, uschina, relationship, at,...   \n",
              "3  [the, slow, pace, of, japanese, reactor, restart, continue, to, cast, doubt, on, the, goal, of, ...   \n",
              "4  [two, of, new, york, city, large, pension, fund, say, they, will, divest, roughly, billion, in, ...   \n",
              "\n",
              "                                                                                           stops_spacy  \n",
              "0  [qatar, petroleum, qp, target, aggressive, cut, greenhouse, gas, emission, prepare, launch, phas...  \n",
              "1  [nuclear, power, corp, india, ltd, npcil, synchronize, kakrapar, western, state, gujarat, grid, ...  \n",
              "2  [new, president, joe, biden, office, week, uschina, relationship, bad, decade, energy, come, pla...  \n",
              "3  [slow, pace, japanese, reactor, restart, continue, cast, doubt, goal, government, fifth, basic, ...  \n",
              "4  [new, york, city, large, pension, fund, divest, roughly, billion, share, fossil, fuel, company, ...  "
            ],
            "text/html": [
              "\n",
              "  <div id=\"df-ddd296fd-bbef-4213-8771-cb9905f4f60b\" class=\"colab-df-container\">\n",
              "    <div>\n",
              "<style scoped>\n",
              "    .dataframe tbody tr th:only-of-type {\n",
              "        vertical-align: middle;\n",
              "    }\n",
              "\n",
              "    .dataframe tbody tr th {\n",
              "        vertical-align: top;\n",
              "    }\n",
              "\n",
              "    .dataframe thead th {\n",
              "        text-align: right;\n",
              "    }\n",
              "</style>\n",
              "<table border=\"1\" class=\"dataframe\">\n",
              "  <thead>\n",
              "    <tr style=\"text-align: right;\">\n",
              "      <th></th>\n",
              "      <th>title</th>\n",
              "      <th>date</th>\n",
              "      <th>content</th>\n",
              "      <th>domain</th>\n",
              "      <th>url</th>\n",
              "      <th>content_cleaned</th>\n",
              "      <th>content_cleaned_sent</th>\n",
              "      <th>tokenized_content</th>\n",
              "      <th>word_count</th>\n",
              "      <th>spacy_lemma</th>\n",
              "      <th>stops_spacy</th>\n",
              "    </tr>\n",
              "  </thead>\n",
              "  <tbody>\n",
              "    <tr>\n",
              "      <th>0</th>\n",
              "      <td>Qatar to Slash Emissions as LNG Expansion Advances</td>\n",
              "      <td>2021-01-13</td>\n",
              "      <td>[\"Qatar Petroleum ( QP) is targeting aggressive cuts in its greenhouse gas emissions as it prepa...</td>\n",
              "      <td>energyintel</td>\n",
              "      <td>https://www.energyintel.com/0000017b-a7dc-de4c-a17b-e7de685b0000</td>\n",
              "      <td>qatar petroleum  qp is targeting aggressive cuts in its greenhouse gas emissions as it prepares ...</td>\n",
              "      <td>qatar petroleum qp is targeting aggressive cuts in its greenhouse gas emissions as it prepares ...</td>\n",
              "      <td>[qatar, petroleum, qp, is, targeting, aggressive, cuts, in, its, greenhouse, gas, emissions, as,...</td>\n",
              "      <td>415</td>\n",
              "      <td>[qatar, petroleum, qp, be, target, aggressive, cut, in, its, greenhouse, gas, emission, as, it, ...</td>\n",
              "      <td>[qatar, petroleum, qp, target, aggressive, cut, greenhouse, gas, emission, prepare, launch, phas...</td>\n",
              "    </tr>\n",
              "    <tr>\n",
              "      <th>1</th>\n",
              "      <td>India Launches Its First 700 MW PHWR</td>\n",
              "      <td>2021-01-15</td>\n",
              "      <td>[\"• Nuclear Power Corp. of India Ltd. ( NPCIL) synchronized Kakrapar-3 in the western state of G...</td>\n",
              "      <td>energyintel</td>\n",
              "      <td>https://www.energyintel.com/0000017b-a7dc-de4c-a17b-e7de6c710001</td>\n",
              "      <td>nuclear power corp of india ltd  npcil synchronized kakrapar in the western state of gujarat to...</td>\n",
              "      <td>nuclear power corp. of india ltd. npcil synchronized kakrapar in the western state of gujarat t...</td>\n",
              "      <td>[nuclear, power, corp, of, india, ltd, npcil, synchronized, kakrapar, in, the, western, state, o...</td>\n",
              "      <td>518</td>\n",
              "      <td>[nuclear, power, corp, of, india, ltd, npcil, synchronize, kakrapar, in, the, western, state, of...</td>\n",
              "      <td>[nuclear, power, corp, india, ltd, npcil, synchronize, kakrapar, western, state, gujarat, grid, ...</td>\n",
              "    </tr>\n",
              "    <tr>\n",
              "      <th>2</th>\n",
              "      <td>New Chapter for US-China Energy Trade</td>\n",
              "      <td>2021-01-20</td>\n",
              "      <td>[\"New US President Joe Biden took office this week with the US-China relationship at its worst i...</td>\n",
              "      <td>energyintel</td>\n",
              "      <td>https://www.energyintel.com/0000017b-a7dc-de4c-a17b-e7de735a0000</td>\n",
              "      <td>new us president joe biden took office this week with the uschina relationship at its worst in d...</td>\n",
              "      <td>new us president joe biden took office this week with the us china relationship at its worst in...</td>\n",
              "      <td>[new, us, president, joe, biden, took, office, this, week, with, the, uschina, relationship, at,...</td>\n",
              "      <td>679</td>\n",
              "      <td>[new, us, president, joe, biden, take, office, this, week, with, the, uschina, relationship, at,...</td>\n",
              "      <td>[new, president, joe, biden, office, week, uschina, relationship, bad, decade, energy, come, pla...</td>\n",
              "    </tr>\n",
              "    <tr>\n",
              "      <th>3</th>\n",
              "      <td>Japan: Slow Restarts Cast Doubt on 2030 Energy Plan</td>\n",
              "      <td>2021-01-22</td>\n",
              "      <td>[\"The slow pace of Japanese reactor restarts continues to cast doubt on the goal of the governme...</td>\n",
              "      <td>energyintel</td>\n",
              "      <td>https://www.energyintel.com/0000017b-a7dc-de4c-a17b-e7de79160000</td>\n",
              "      <td>the slow pace of japanese reactor restarts continues to cast doubt on the goal of the government...</td>\n",
              "      <td>the slow pace of japanese reactor restarts continues to cast doubt on the goal of the governmen...</td>\n",
              "      <td>[the, slow, pace, of, japanese, reactor, restarts, continues, to, cast, doubt, on, the, goal, of...</td>\n",
              "      <td>663</td>\n",
              "      <td>[the, slow, pace, of, japanese, reactor, restart, continue, to, cast, doubt, on, the, goal, of, ...</td>\n",
              "      <td>[slow, pace, japanese, reactor, restart, continue, cast, doubt, goal, government, fifth, basic, ...</td>\n",
              "    </tr>\n",
              "    <tr>\n",
              "      <th>4</th>\n",
              "      <td>NYC Pension Funds to Divest Fossil Fuel Shares</td>\n",
              "      <td>2021-01-25</td>\n",
              "      <td>[\"Two of New York City's largest pension funds say they will divest roughly $ 4 billion in share...</td>\n",
              "      <td>energyintel</td>\n",
              "      <td>https://www.energyintel.com/0000017b-a7dc-de4c-a17b-e7de7d9e0000</td>\n",
              "      <td>two of new york citys largest pension funds say they will divest roughly   billion in shares of ...</td>\n",
              "      <td>two of new york city s largest pension funds say they will divest roughly billion in shares of ...</td>\n",
              "      <td>[two, of, new, york, citys, largest, pension, funds, say, they, will, divest, roughly, billion, ...</td>\n",
              "      <td>384</td>\n",
              "      <td>[two, of, new, york, city, large, pension, fund, say, they, will, divest, roughly, billion, in, ...</td>\n",
              "      <td>[new, york, city, large, pension, fund, divest, roughly, billion, share, fossil, fuel, company, ...</td>\n",
              "    </tr>\n",
              "  </tbody>\n",
              "</table>\n",
              "</div>\n",
              "    <div class=\"colab-df-buttons\">\n",
              "\n",
              "  <div class=\"colab-df-container\">\n",
              "    <button class=\"colab-df-convert\" onclick=\"convertToInteractive('df-ddd296fd-bbef-4213-8771-cb9905f4f60b')\"\n",
              "            title=\"Convert this dataframe to an interactive table.\"\n",
              "            style=\"display:none;\">\n",
              "\n",
              "  <svg xmlns=\"http://www.w3.org/2000/svg\" height=\"24px\" viewBox=\"0 -960 960 960\">\n",
              "    <path d=\"M120-120v-720h720v720H120Zm60-500h600v-160H180v160Zm220 220h160v-160H400v160Zm0 220h160v-160H400v160ZM180-400h160v-160H180v160Zm440 0h160v-160H620v160ZM180-180h160v-160H180v160Zm440 0h160v-160H620v160Z\"/>\n",
              "  </svg>\n",
              "    </button>\n",
              "\n",
              "  <style>\n",
              "    .colab-df-container {\n",
              "      display:flex;\n",
              "      gap: 12px;\n",
              "    }\n",
              "\n",
              "    .colab-df-convert {\n",
              "      background-color: #E8F0FE;\n",
              "      border: none;\n",
              "      border-radius: 50%;\n",
              "      cursor: pointer;\n",
              "      display: none;\n",
              "      fill: #1967D2;\n",
              "      height: 32px;\n",
              "      padding: 0 0 0 0;\n",
              "      width: 32px;\n",
              "    }\n",
              "\n",
              "    .colab-df-convert:hover {\n",
              "      background-color: #E2EBFA;\n",
              "      box-shadow: 0px 1px 2px rgba(60, 64, 67, 0.3), 0px 1px 3px 1px rgba(60, 64, 67, 0.15);\n",
              "      fill: #174EA6;\n",
              "    }\n",
              "\n",
              "    .colab-df-buttons div {\n",
              "      margin-bottom: 4px;\n",
              "    }\n",
              "\n",
              "    [theme=dark] .colab-df-convert {\n",
              "      background-color: #3B4455;\n",
              "      fill: #D2E3FC;\n",
              "    }\n",
              "\n",
              "    [theme=dark] .colab-df-convert:hover {\n",
              "      background-color: #434B5C;\n",
              "      box-shadow: 0px 1px 3px 1px rgba(0, 0, 0, 0.15);\n",
              "      filter: drop-shadow(0px 1px 2px rgba(0, 0, 0, 0.3));\n",
              "      fill: #FFFFFF;\n",
              "    }\n",
              "  </style>\n",
              "\n",
              "    <script>\n",
              "      const buttonEl =\n",
              "        document.querySelector('#df-ddd296fd-bbef-4213-8771-cb9905f4f60b button.colab-df-convert');\n",
              "      buttonEl.style.display =\n",
              "        google.colab.kernel.accessAllowed ? 'block' : 'none';\n",
              "\n",
              "      async function convertToInteractive(key) {\n",
              "        const element = document.querySelector('#df-ddd296fd-bbef-4213-8771-cb9905f4f60b');\n",
              "        const dataTable =\n",
              "          await google.colab.kernel.invokeFunction('convertToInteractive',\n",
              "                                                    [key], {});\n",
              "        if (!dataTable) return;\n",
              "\n",
              "        const docLinkHtml = 'Like what you see? Visit the ' +\n",
              "          '<a target=\"_blank\" href=https://colab.research.google.com/notebooks/data_table.ipynb>data table notebook</a>'\n",
              "          + ' to learn more about interactive tables.';\n",
              "        element.innerHTML = '';\n",
              "        dataTable['output_type'] = 'display_data';\n",
              "        await google.colab.output.renderOutput(dataTable, element);\n",
              "        const docLink = document.createElement('div');\n",
              "        docLink.innerHTML = docLinkHtml;\n",
              "        element.appendChild(docLink);\n",
              "      }\n",
              "    </script>\n",
              "  </div>\n",
              "\n",
              "\n",
              "<div id=\"df-30454572-1018-441e-a3ac-7e135199b0c9\">\n",
              "  <button class=\"colab-df-quickchart\" onclick=\"quickchart('df-30454572-1018-441e-a3ac-7e135199b0c9')\"\n",
              "            title=\"Suggest charts\"\n",
              "            style=\"display:none;\">\n",
              "\n",
              "<svg xmlns=\"http://www.w3.org/2000/svg\" height=\"24px\"viewBox=\"0 0 24 24\"\n",
              "     width=\"24px\">\n",
              "    <g>\n",
              "        <path d=\"M19 3H5c-1.1 0-2 .9-2 2v14c0 1.1.9 2 2 2h14c1.1 0 2-.9 2-2V5c0-1.1-.9-2-2-2zM9 17H7v-7h2v7zm4 0h-2V7h2v10zm4 0h-2v-4h2v4z\"/>\n",
              "    </g>\n",
              "</svg>\n",
              "  </button>\n",
              "\n",
              "<style>\n",
              "  .colab-df-quickchart {\n",
              "      --bg-color: #E8F0FE;\n",
              "      --fill-color: #1967D2;\n",
              "      --hover-bg-color: #E2EBFA;\n",
              "      --hover-fill-color: #174EA6;\n",
              "      --disabled-fill-color: #AAA;\n",
              "      --disabled-bg-color: #DDD;\n",
              "  }\n",
              "\n",
              "  [theme=dark] .colab-df-quickchart {\n",
              "      --bg-color: #3B4455;\n",
              "      --fill-color: #D2E3FC;\n",
              "      --hover-bg-color: #434B5C;\n",
              "      --hover-fill-color: #FFFFFF;\n",
              "      --disabled-bg-color: #3B4455;\n",
              "      --disabled-fill-color: #666;\n",
              "  }\n",
              "\n",
              "  .colab-df-quickchart {\n",
              "    background-color: var(--bg-color);\n",
              "    border: none;\n",
              "    border-radius: 50%;\n",
              "    cursor: pointer;\n",
              "    display: none;\n",
              "    fill: var(--fill-color);\n",
              "    height: 32px;\n",
              "    padding: 0;\n",
              "    width: 32px;\n",
              "  }\n",
              "\n",
              "  .colab-df-quickchart:hover {\n",
              "    background-color: var(--hover-bg-color);\n",
              "    box-shadow: 0 1px 2px rgba(60, 64, 67, 0.3), 0 1px 3px 1px rgba(60, 64, 67, 0.15);\n",
              "    fill: var(--button-hover-fill-color);\n",
              "  }\n",
              "\n",
              "  .colab-df-quickchart-complete:disabled,\n",
              "  .colab-df-quickchart-complete:disabled:hover {\n",
              "    background-color: var(--disabled-bg-color);\n",
              "    fill: var(--disabled-fill-color);\n",
              "    box-shadow: none;\n",
              "  }\n",
              "\n",
              "  .colab-df-spinner {\n",
              "    border: 2px solid var(--fill-color);\n",
              "    border-color: transparent;\n",
              "    border-bottom-color: var(--fill-color);\n",
              "    animation:\n",
              "      spin 1s steps(1) infinite;\n",
              "  }\n",
              "\n",
              "  @keyframes spin {\n",
              "    0% {\n",
              "      border-color: transparent;\n",
              "      border-bottom-color: var(--fill-color);\n",
              "      border-left-color: var(--fill-color);\n",
              "    }\n",
              "    20% {\n",
              "      border-color: transparent;\n",
              "      border-left-color: var(--fill-color);\n",
              "      border-top-color: var(--fill-color);\n",
              "    }\n",
              "    30% {\n",
              "      border-color: transparent;\n",
              "      border-left-color: var(--fill-color);\n",
              "      border-top-color: var(--fill-color);\n",
              "      border-right-color: var(--fill-color);\n",
              "    }\n",
              "    40% {\n",
              "      border-color: transparent;\n",
              "      border-right-color: var(--fill-color);\n",
              "      border-top-color: var(--fill-color);\n",
              "    }\n",
              "    60% {\n",
              "      border-color: transparent;\n",
              "      border-right-color: var(--fill-color);\n",
              "    }\n",
              "    80% {\n",
              "      border-color: transparent;\n",
              "      border-right-color: var(--fill-color);\n",
              "      border-bottom-color: var(--fill-color);\n",
              "    }\n",
              "    90% {\n",
              "      border-color: transparent;\n",
              "      border-bottom-color: var(--fill-color);\n",
              "    }\n",
              "  }\n",
              "</style>\n",
              "\n",
              "  <script>\n",
              "    async function quickchart(key) {\n",
              "      const quickchartButtonEl =\n",
              "        document.querySelector('#' + key + ' button');\n",
              "      quickchartButtonEl.disabled = true;  // To prevent multiple clicks.\n",
              "      quickchartButtonEl.classList.add('colab-df-spinner');\n",
              "      try {\n",
              "        const charts = await google.colab.kernel.invokeFunction(\n",
              "            'suggestCharts', [key], {});\n",
              "      } catch (error) {\n",
              "        console.error('Error during call to suggestCharts:', error);\n",
              "      }\n",
              "      quickchartButtonEl.classList.remove('colab-df-spinner');\n",
              "      quickchartButtonEl.classList.add('colab-df-quickchart-complete');\n",
              "    }\n",
              "    (() => {\n",
              "      let quickchartButtonEl =\n",
              "        document.querySelector('#df-30454572-1018-441e-a3ac-7e135199b0c9 button');\n",
              "      quickchartButtonEl.style.display =\n",
              "        google.colab.kernel.accessAllowed ? 'block' : 'none';\n",
              "    })();\n",
              "  </script>\n",
              "</div>\n",
              "    </div>\n",
              "  </div>\n"
            ]
          },
          "metadata": {},
          "execution_count": 22
        }
      ],
      "source": [
        "df['stops_spacy'] = stops_spacy\n",
        "df.head()"
      ],
      "id": "c1ecb42d"
    },
    {
      "cell_type": "code",
      "execution_count": 23,
      "metadata": {
        "id": "7f2839d6"
      },
      "outputs": [],
      "source": [
        "# Join text for each doc\n",
        "df['final_cleaned'] = df['stops_spacy'].apply(lambda x: ' '.join(x))"
      ],
      "id": "7f2839d6"
    },
    {
      "cell_type": "markdown",
      "metadata": {
        "id": "IvLczWRWuqjY"
      },
      "source": [
        "# Topic Labeling"
      ],
      "id": "IvLczWRWuqjY"
    },
    {
      "cell_type": "markdown",
      "source": [
        "From stage 1, we identified 8 topics that will be used in our topic classification model. Below we will rerun the top2vec model and assign the topics to the cleantech corpus."
      ],
      "metadata": {
        "id": "bFyMatG5H5Fk"
      },
      "id": "bFyMatG5H5Fk"
    },
    {
      "cell_type": "code",
      "execution_count": 30,
      "metadata": {
        "colab": {
          "base_uri": "https://localhost:8080/",
          "height": 572
        },
        "id": "CTFNShiurhF7",
        "outputId": "98cb72e6-e475-45e7-bd35-35f0f54ce3c8"
      },
      "outputs": [
        {
          "output_type": "error",
          "ename": "ImportError",
          "evalue": "ignored",
          "traceback": [
            "\u001b[0;31m---------------------------------------------------------------------------\u001b[0m",
            "\u001b[0;31mImportError\u001b[0m                               Traceback (most recent call last)",
            "\u001b[0;32m<ipython-input-30-63758bc673f7>\u001b[0m in \u001b[0;36m<cell line: 2>\u001b[0;34m()\u001b[0m\n\u001b[1;32m      1\u001b[0m \u001b[0mdocuments\u001b[0m \u001b[0;34m=\u001b[0m \u001b[0mdf\u001b[0m\u001b[0;34m[\u001b[0m\u001b[0;34m\"content\"\u001b[0m\u001b[0;34m]\u001b[0m\u001b[0;34m.\u001b[0m\u001b[0mtolist\u001b[0m\u001b[0;34m(\u001b[0m\u001b[0;34m)\u001b[0m\u001b[0;34m\u001b[0m\u001b[0;34m\u001b[0m\u001b[0m\n\u001b[0;32m----> 2\u001b[0;31m \u001b[0mmodel2\u001b[0m \u001b[0;34m=\u001b[0m \u001b[0mTop2Vec\u001b[0m\u001b[0;34m(\u001b[0m\u001b[0mdocuments\u001b[0m\u001b[0;34m,\u001b[0m \u001b[0membedding_model\u001b[0m\u001b[0;34m=\u001b[0m\u001b[0;34m'universal-sentence-encoder-multilingual'\u001b[0m\u001b[0;34m)\u001b[0m\u001b[0;34m\u001b[0m\u001b[0;34m\u001b[0m\u001b[0m\n\u001b[0m",
            "\u001b[0;32m/usr/local/lib/python3.10/dist-packages/top2vec/Top2Vec.py\u001b[0m in \u001b[0;36m__init__\u001b[0;34m(self, documents, min_count, topic_merge_delta, ngram_vocab, ngram_vocab_args, embedding_model, embedding_model_path, embedding_batch_size, split_documents, document_chunker, chunk_length, max_num_chunks, chunk_overlap_ratio, chunk_len_coverage_ratio, sentencizer, speed, use_corpus_file, document_ids, keep_documents, workers, tokenizer, use_embedding_model_tokenizer, umap_args, gpu_umap, hdbscan_args, gpu_hdbscan, index_topics, verbose)\u001b[0m\n\u001b[1;32m    606\u001b[0m             \u001b[0mself\u001b[0m\u001b[0;34m.\u001b[0m\u001b[0membedding_model\u001b[0m \u001b[0;34m=\u001b[0m \u001b[0membedding_model\u001b[0m\u001b[0;34m\u001b[0m\u001b[0;34m\u001b[0m\u001b[0m\n\u001b[1;32m    607\u001b[0m \u001b[0;34m\u001b[0m\u001b[0m\n\u001b[0;32m--> 608\u001b[0;31m             \u001b[0mself\u001b[0m\u001b[0;34m.\u001b[0m\u001b[0m_check_import_status\u001b[0m\u001b[0;34m(\u001b[0m\u001b[0;34m)\u001b[0m\u001b[0;34m\u001b[0m\u001b[0;34m\u001b[0m\u001b[0m\n\u001b[0m\u001b[1;32m    609\u001b[0m \u001b[0;34m\u001b[0m\u001b[0m\n\u001b[1;32m    610\u001b[0m             \u001b[0mlogger\u001b[0m\u001b[0;34m.\u001b[0m\u001b[0minfo\u001b[0m\u001b[0;34m(\u001b[0m\u001b[0;34m'Pre-processing documents for training'\u001b[0m\u001b[0;34m)\u001b[0m\u001b[0;34m\u001b[0m\u001b[0;34m\u001b[0m\u001b[0m\n",
            "\u001b[0;32m/usr/local/lib/python3.10/dist-packages/top2vec/Top2Vec.py\u001b[0m in \u001b[0;36m_check_import_status\u001b[0;34m(self)\u001b[0m\n\u001b[1;32m   1132\u001b[0m         \u001b[0;32mif\u001b[0m \u001b[0mself\u001b[0m\u001b[0;34m.\u001b[0m\u001b[0membedding_model\u001b[0m \u001b[0;32min\u001b[0m \u001b[0muse_models\u001b[0m\u001b[0;34m:\u001b[0m\u001b[0;34m\u001b[0m\u001b[0;34m\u001b[0m\u001b[0m\n\u001b[1;32m   1133\u001b[0m             \u001b[0;32mif\u001b[0m \u001b[0;32mnot\u001b[0m \u001b[0m_HAVE_TENSORFLOW\u001b[0m\u001b[0;34m:\u001b[0m\u001b[0;34m\u001b[0m\u001b[0;34m\u001b[0m\u001b[0m\n\u001b[0;32m-> 1134\u001b[0;31m                 raise ImportError(f\"{self.embedding_model} is not available.\\n\\n\"\n\u001b[0m\u001b[1;32m   1135\u001b[0m                                   \u001b[0;34m\"Try: pip install top2vec[sentence_encoders]\\n\\n\"\u001b[0m\u001b[0;34m\u001b[0m\u001b[0;34m\u001b[0m\u001b[0m\n\u001b[1;32m   1136\u001b[0m                                   \"Alternatively try: pip install tensorflow tensorflow_hub tensorflow_text\")\n",
            "\u001b[0;31mImportError\u001b[0m: universal-sentence-encoder-multilingual is not available.\n\nTry: pip install top2vec[sentence_encoders]\n\nAlternatively try: pip install tensorflow tensorflow_hub tensorflow_text",
            "",
            "\u001b[0;31m---------------------------------------------------------------------------\u001b[0;32m\nNOTE: If your import is failing due to a missing package, you can\nmanually install dependencies using either !pip or !apt.\n\nTo view examples of installing some common dependencies, click the\n\"Open Examples\" button below.\n\u001b[0;31m---------------------------------------------------------------------------\u001b[0m\n"
          ],
          "errorDetails": {
            "actions": [
              {
                "action": "open_url",
                "actionText": "Open Examples",
                "url": "/notebooks/snippets/importing_libraries.ipynb"
              }
            ]
          }
        }
      ],
      "source": [
        "documents = df[\"content\"].tolist()\n",
        "model2 = Top2Vec(documents, embedding_model='universal-sentence-encoder-multilingual')"
      ],
      "id": "CTFNShiurhF7"
    },
    {
      "cell_type": "code",
      "execution_count": null,
      "metadata": {
        "id": "qY_OzAGJEq9M"
      },
      "outputs": [],
      "source": [
        "# Get topics\n",
        "topics = model2.get_topics()"
      ],
      "id": "qY_OzAGJEq9M"
    },
    {
      "cell_type": "code",
      "execution_count": null,
      "metadata": {
        "id": "910h40Ef032f"
      },
      "outputs": [],
      "source": [
        "model2.hierarchical_topic_reduction(num_topics=8)"
      ],
      "id": "910h40Ef032f"
    },
    {
      "cell_type": "code",
      "execution_count": null,
      "metadata": {
        "id": "rKxWWKuLsj18"
      },
      "outputs": [],
      "source": [
        "# # Creating a dataframe with topic numbers and topic words\n",
        "# Get the topic numbers and words and scores for a specific topic\n",
        "topic_sizes, topic_nums = model2.get_topic_sizes(reduced=True)\n",
        "topic_words, word_scores, topic_num = model2.get_topics(len(topic_nums))\n",
        "\n",
        "# Create an empty list to store the results\n",
        "topics_data = []\n",
        "\n",
        "# Iterate over topics\n",
        "for i in range(len(topic_nums)):\n",
        "    # Get words, word scores, and topic number for the current topic\n",
        "    current_topic_words, current_word_scores, current_topic_num = model2.get_topics()\n",
        "    # Append the information for the current topic to the list\n",
        "    # Words scores were excluded from the data frame because it did not add value to the analysis\n",
        "    topics_data.append({'topic_nums': current_topic_num[i], 'topic_sizes': topic_sizes[i], 'topic_words': current_topic_words[i]})\n",
        "\n",
        "# Create a DataFrame from the list of dictionaries\n",
        "topics_df = pd.DataFrame(topics_data)\n",
        "\n",
        "# Display the results DataFrame\n",
        "topics_df"
      ],
      "id": "rKxWWKuLsj18"
    },
    {
      "cell_type": "code",
      "execution_count": null,
      "metadata": {
        "id": "YBZRpNpUFb2N"
      },
      "outputs": [],
      "source": [
        "# # Creating a dataframe with documents assigned to the topics and document scores\n",
        "# Get the topic sizes and topic numbers\n",
        "topic_sizes, topic_nums = model2.get_topic_sizes(reduced = True)\n",
        "\n",
        "# Create an empty DataFrame to store the results\n",
        "results_df2 = pd.DataFrame(columns=['topic', 'document_ids','document_scores'])\n",
        "\n",
        "# Iterate over topics\n",
        "for i in range(len(topic_sizes)):\n",
        "    # Get documents, document scores, and document IDs for the current topic\n",
        "    documents, document_scores, document_ids = model2.search_documents_by_topic(reduced = True, topic_num=i, num_docs=topic_sizes[i])\n",
        "\n",
        "    # Create a DataFrame for the current topic\n",
        "    topic_df = pd.DataFrame({'topic': i, 'document_ids': document_ids, 'document_scores': document_scores})\n",
        "\n",
        "    # Append the DataFrame for the current topic to the results DataFrame\n",
        "    results_df2 = pd.concat([results_df2, topic_df], ignore_index=True)\n",
        "\n",
        "# Display the results DataFrame\n",
        "results_df2"
      ],
      "id": "YBZRpNpUFb2N"
    },
    {
      "cell_type": "markdown",
      "source": [
        "Assign the documents to the identified topics."
      ],
      "metadata": {
        "id": "JSJQEQ8u9PMv"
      },
      "id": "JSJQEQ8u9PMv"
    },
    {
      "cell_type": "code",
      "execution_count": null,
      "metadata": {
        "id": "qikr-00azsXp"
      },
      "outputs": [],
      "source": [
        "# the index of each document in the original corpus is the id\n",
        "# Therefor we can simply join the two dataframes on the index to assign the topics\n",
        "\n",
        "# Merge DataFrames on the index of df and the document ids from results_df2 column\n",
        "df_labeled = pd.merge(df, results_df2, left_index=True, right_on='document_ids', how='inner')"
      ],
      "id": "qikr-00azsXp"
    },
    {
      "cell_type": "code",
      "source": [
        "# Merge DataFrames on the 'ID' column\n",
        "df_labeled"
      ],
      "metadata": {
        "id": "XA-i4dsQBNLW"
      },
      "id": "XA-i4dsQBNLW",
      "execution_count": null,
      "outputs": []
    },
    {
      "cell_type": "code",
      "source": [],
      "metadata": {
        "id": "B7Lm4OE7uTDa"
      },
      "id": "B7Lm4OE7uTDa",
      "execution_count": null,
      "outputs": []
    },
    {
      "cell_type": "markdown",
      "metadata": {
        "id": "UhhQGDHkWW_B"
      },
      "source": [
        "# Word Embeddings\n"
      ],
      "id": "UhhQGDHkWW_B"
    },
    {
      "cell_type": "markdown",
      "metadata": {
        "id": "pVU8QlzhnsGp"
      },
      "source": [
        "## Word2Vec Embedding"
      ],
      "id": "pVU8QlzhnsGp"
    },
    {
      "cell_type": "markdown",
      "source": [
        "### CBOW"
      ],
      "metadata": {
        "id": "F9rsm-SJjtwW"
      },
      "id": "F9rsm-SJjtwW"
    },
    {
      "cell_type": "code",
      "execution_count": null,
      "metadata": {
        "id": "S-Bt7u3Rxvc-"
      },
      "outputs": [],
      "source": [
        "# Set seeds for reproducibility\n",
        "SEED = 40\n",
        "torch.manual_seed(SEED)\n",
        "random.seed(SEED)\n",
        "np.random.seed(SEED)\n",
        "\n",
        "# Splitting the dataset into Training and Testing Data\n",
        "train_data, test_data, train_labels, test_labels = train_test_split(df_labeled[\"stops_spacy\"], df_labeled[\"topic\"], train_size=0.7, random_state=5)\n",
        "\n",
        "print(len(train_data), len(test_data), len(train_labels), len(test_labels))"
      ],
      "id": "S-Bt7u3Rxvc-"
    },
    {
      "cell_type": "code",
      "execution_count": null,
      "metadata": {
        "id": "u1PTEA-svLZZ"
      },
      "outputs": [],
      "source": [
        "# min_count = removes words with a frequency less than listed\n",
        "# Vector size = the number of dimensions that gensim Word2Vec maps the words into. Bigger size requires more training data, but can lead to better models\n",
        "# Workers = parallelization to speeed up training\n",
        "min_count = 5\n",
        "vector_size = 200\n",
        "workers=4\n",
        "\n",
        "model = gensim.models.Word2Vec(sentences=train_data, min_count=min_count,\n",
        "                               vector_size=vector_size,workers=workers,\n",
        "                               compute_loss=True, seed = 55, epochs=50 )"
      ],
      "id": "u1PTEA-svLZZ"
    },
    {
      "cell_type": "code",
      "execution_count": null,
      "metadata": {
        "id": "bhxS7L96--11"
      },
      "outputs": [],
      "source": [
        "# getting the training loss value\n",
        "training_loss = model.get_latest_training_loss()\n",
        "print(training_loss)"
      ],
      "id": "bhxS7L96--11"
    },
    {
      "cell_type": "markdown",
      "metadata": {
        "id": "VyN-8QpQtLoQ"
      },
      "source": [
        "Show the model works by obtaining a vector from a common word in the model."
      ],
      "id": "VyN-8QpQtLoQ"
    },
    {
      "cell_type": "code",
      "execution_count": null,
      "metadata": {
        "id": "cd6rZokPr3hV"
      },
      "outputs": [],
      "source": [
        "vec_energy = model.wv['energy']\n",
        "vec_energy"
      ],
      "id": "cd6rZokPr3hV"
    },
    {
      "cell_type": "markdown",
      "metadata": {
        "id": "FcxyGag3sELV"
      },
      "source": [
        "Retrieve Vocabulary Words"
      ],
      "id": "FcxyGag3sELV"
    },
    {
      "cell_type": "code",
      "execution_count": null,
      "metadata": {
        "id": "sQ9Pr2TysHxd"
      },
      "outputs": [],
      "source": [
        "for index, word in enumerate(model.wv.index_to_key):\n",
        "    if index == 10:\n",
        "        break\n",
        "    print(f\"word #{index}/{len(model.wv.index_to_key)} is {word}\")"
      ],
      "id": "sQ9Pr2TysHxd"
    },
    {
      "cell_type": "markdown",
      "metadata": {
        "id": "pjEa5K7KuALF"
      },
      "source": [
        "Word2Vec supports word similarity tasks."
      ],
      "id": "pjEa5K7KuALF"
    },
    {
      "cell_type": "code",
      "execution_count": null,
      "metadata": {
        "id": "Wh_SUfiltcfZ"
      },
      "outputs": [],
      "source": [
        "pairs = [\n",
        "    ('energy', 'electricity'),\n",
        "    ('energy', 'solar'),\n",
        "    ('energy', 'gas'),\n",
        "    ('energy', 'clean'),\n",
        "    ('energy', 'climate'),\n",
        "]\n",
        "for w1, w2 in pairs:\n",
        "    print('%r\\t%r\\t%.2f' % (w1, w2, model.wv.similarity(w1, w2)))"
      ],
      "id": "Wh_SUfiltcfZ"
    },
    {
      "cell_type": "code",
      "execution_count": null,
      "metadata": {
        "id": "Lcy_fjo7uGhn"
      },
      "outputs": [],
      "source": [
        "# 5 most similar words to energy\n",
        "model.wv.most_similar(positive=['energy'], topn=5)"
      ],
      "id": "Lcy_fjo7uGhn"
    },
    {
      "cell_type": "code",
      "execution_count": null,
      "metadata": {
        "id": "l5NqF8Mdugu0"
      },
      "outputs": [],
      "source": [
        "# Which word does not belong in the sequence\n",
        "print(model.wv.doesnt_match(['energy', 'solar', 'wind', 'water', 'electricity', 'president']))"
      ],
      "id": "l5NqF8Mdugu0"
    },
    {
      "cell_type": "markdown",
      "metadata": {
        "id": "_rUb9ynQFBGO"
      },
      "source": [
        "We can evaluate the effectiveness of Word2Vec with word analogy or word pair methods. Word analogies evaluates the model on a set of syntactic and semantic word analogies. The output is a tuple containing a total accuracy and a list of dictionaries for each section with correct and incorrect analogies. Word similarity evaluates the model on a dataset containing word pairs with human-assigned similarity judgments. The output includes the correlation coefficient and p-value."
      ],
      "id": "_rUb9ynQFBGO"
    },
    {
      "cell_type": "code",
      "execution_count": null,
      "metadata": {
        "id": "9sA85y3zFG-m"
      },
      "outputs": [],
      "source": [
        "# Word Analogy Evaluation\n",
        "analogy_scores = model.wv.evaluate_word_analogies(datapath('questions-words.txt'))\n",
        "print(\"Analogies Score:\", analogy_scores[0])"
      ],
      "id": "9sA85y3zFG-m"
    },
    {
      "cell_type": "code",
      "execution_count": null,
      "metadata": {
        "id": "ZaYnW9PUFAhN"
      },
      "outputs": [],
      "source": [
        "# Word Similarity Evaluation\n",
        "model.wv.evaluate_word_pairs(datapath('wordsim353.tsv'))"
      ],
      "id": "ZaYnW9PUFAhN"
    },
    {
      "cell_type": "markdown",
      "metadata": {
        "id": "2MILZ4HxKEft"
      },
      "source": [
        "* Pearson correlation coefficient: 0.41\n",
        "* Significance: p-value = very close to zero\n",
        "* Spearman rank-order correlation coefficient: 0.41869577705312544\n",
        "* Coverage: 18.69% (percentage of word pairs covered by the model)\n",
        "\n",
        "The Pearson correlation coefficient measures the linear relationship between the model's similarity scores and the human similarity judgments. In this case, the low p-value suggests that the correlation is statistically significant.\n",
        "\n",
        "The Spearman rank-order correlation measures how consistently two sets of rankings are related. A higher Spearman coefficient indicates a better performance in capturing the ordinal relationships.\n",
        "\n",
        "The coverage indicates the percentage of word pairs from the evaluation set that are present in the model's vocabulary.\n",
        "\n",
        "Overall, these metrics provide insights into how well the Word2Vec model aligns with human judgments of word similarity."
      ],
      "id": "2MILZ4HxKEft"
    },
    {
      "cell_type": "code",
      "source": [
        "keys = ['energy', 'gas', 'wind', 'solar', 'geothermal', 'hydrogen', 'carbon',\n",
        "        'electric', 'renewable', 'technology', 'clean']\n",
        "\n",
        "embedding_clusters = []\n",
        "word_clusters = []\n",
        "for word in keys:\n",
        "    embeddings = []\n",
        "    words = []\n",
        "    for similar_word, _ in model.wv.most_similar(word, topn=30):\n",
        "        words.append(similar_word)\n",
        "        embeddings.append(model.wv.get_vector(similar_word))\n",
        "    embedding_clusters.append(embeddings)\n",
        "    word_clusters.append(words)\n",
        "\n",
        "embedding_clusters = np.array(embedding_clusters)\n",
        "n, m, k = embedding_clusters.shape\n",
        "tsne_model_en_2d = TSNE(perplexity=15, n_components=2, init='pca', n_iter=3500, random_state=32)\n",
        "embeddings_en_2d = np.array(tsne_model_en_2d.fit_transform(embedding_clusters.reshape(n * m, k))).reshape(n, m, 2)"
      ],
      "metadata": {
        "id": "vn54PvNAv1cw"
      },
      "id": "vn54PvNAv1cw",
      "execution_count": null,
      "outputs": []
    },
    {
      "cell_type": "code",
      "source": [
        "import matplotlib.pyplot as plt\n",
        "import matplotlib.cm as cm\n",
        "\n",
        "\n",
        "def tsne_plot_similar_words(title, labels, embedding_clusters, word_clusters, a, filename=None):\n",
        "    plt.figure(figsize=(16, 9))\n",
        "    colors = cm.rainbow(np.linspace(0, 1, len(labels)))\n",
        "    for label, embeddings, words, color in zip(labels, embedding_clusters, word_clusters, colors):\n",
        "        x = embeddings[:, 0]\n",
        "        y = embeddings[:, 1]\n",
        "        plt.scatter(x, y, c=color, alpha=a, label=label)\n",
        "        for i, word in enumerate(words):\n",
        "            plt.annotate(word, alpha=0.5, xy=(x[i], y[i]), xytext=(5, 2),\n",
        "                         textcoords='offset points', ha='right', va='bottom', size=8)\n",
        "    plt.legend(loc=4)\n",
        "    plt.title(title)\n",
        "    plt.grid(True)\n",
        "    if filename:\n",
        "        plt.savefig(filename, format='png', dpi=150, bbox_inches='tight')\n",
        "    plt.show()\n",
        "\n",
        "\n",
        "tsne_plot_similar_words('Similar words from Word2Vec CBOW', keys, embeddings_en_2d, word_clusters, 0.7,\n",
        "                        'similar_words.png')"
      ],
      "metadata": {
        "id": "W3MWPXz8yyf7"
      },
      "id": "W3MWPXz8yyf7",
      "execution_count": null,
      "outputs": []
    },
    {
      "cell_type": "code",
      "source": [
        "words = []\n",
        "embeddings = []\n",
        "for word in list(model.wv.key_to_index.keys()):\n",
        "    embeddings.append(model.wv[word])\n",
        "    words.append(word)\n",
        "\n",
        "embeddings = np.array(embeddings)  # Convert the list to a NumPy array\n",
        "tsne_2d = TSNE(perplexity=30, n_components=2, init='pca', n_iter=3500, random_state=32)\n",
        "embeddings_2d = tsne_2d.fit_transform(embeddings)\n",
        "\n",
        "def tsne_plot_2d(label, embeddings, a=1):\n",
        "    plt.figure(figsize=(16, 9))\n",
        "    colors = cm.rainbow(np.linspace(0, 1, 1))\n",
        "    x = embeddings[:, 0]\n",
        "    y = embeddings[:, 1]\n",
        "    plt.scatter(x, y, c=colors, alpha=a)\n",
        "    plt.legend(loc=4)\n",
        "    plt.grid(True)\n",
        "    plt.show()\n",
        "\n",
        "tsne_plot_2d('Word2Vec CBOW Embeddings', embeddings_2d, a=0.1)"
      ],
      "metadata": {
        "id": "75Hw0W1_0Km8"
      },
      "id": "75Hw0W1_0Km8",
      "execution_count": null,
      "outputs": []
    },
    {
      "cell_type": "code",
      "source": [
        "model.wv.save_word2vec_format(\"/content/drive/My Drive/NLP_models/CBOW_model.model\")"
      ],
      "metadata": {
        "id": "bRx73YWaC4Os"
      },
      "id": "bRx73YWaC4Os",
      "execution_count": null,
      "outputs": []
    },
    {
      "cell_type": "markdown",
      "source": [
        "### Skip-Gram"
      ],
      "metadata": {
        "id": "9gFJgk8ujy9W"
      },
      "id": "9gFJgk8ujy9W"
    },
    {
      "cell_type": "markdown",
      "metadata": {
        "id": "-DzGzAJq_eDM"
      },
      "source": [
        "Build a new model using skip-gram."
      ],
      "id": "-DzGzAJq_eDM"
    },
    {
      "cell_type": "code",
      "execution_count": 31,
      "metadata": {
        "id": "OeTZwscU_ZQC",
        "colab": {
          "base_uri": "https://localhost:8080/",
          "height": 254
        },
        "outputId": "5c568eb2-6b91-451f-c15a-417c66421c84"
      },
      "outputs": [
        {
          "output_type": "error",
          "ename": "NameError",
          "evalue": "ignored",
          "traceback": [
            "\u001b[0;31m---------------------------------------------------------------------------\u001b[0m",
            "\u001b[0;31mNameError\u001b[0m                                 Traceback (most recent call last)",
            "\u001b[0;32m<ipython-input-31-586df07f5fee>\u001b[0m in \u001b[0;36m<cell line: 8>\u001b[0;34m()\u001b[0m\n\u001b[1;32m      6\u001b[0m \u001b[0mworkers\u001b[0m\u001b[0;34m=\u001b[0m\u001b[0;36m4\u001b[0m\u001b[0;34m\u001b[0m\u001b[0;34m\u001b[0m\u001b[0m\n\u001b[1;32m      7\u001b[0m \u001b[0;34m\u001b[0m\u001b[0m\n\u001b[0;32m----> 8\u001b[0;31m skip_model = gensim.models.Word2Vec(sentences=train_data, min_count=min_count,\n\u001b[0m\u001b[1;32m      9\u001b[0m                                \u001b[0mvector_size\u001b[0m\u001b[0;34m=\u001b[0m\u001b[0mvector_size\u001b[0m\u001b[0;34m,\u001b[0m\u001b[0mworkers\u001b[0m\u001b[0;34m=\u001b[0m\u001b[0mworkers\u001b[0m\u001b[0;34m,\u001b[0m\u001b[0;34m\u001b[0m\u001b[0;34m\u001b[0m\u001b[0m\n\u001b[1;32m     10\u001b[0m                                compute_loss=True, seed = 72, sg=1, hs=0, epochs=50 )\n",
            "\u001b[0;31mNameError\u001b[0m: name 'train_data' is not defined"
          ]
        }
      ],
      "source": [
        "# min_count = removes words with a frequency less than listed\n",
        "# Vector size = the number of dimensions that gensim Word2Vec maps the words into. Bigger size requires more training data, but can lead to better models\n",
        "# Workers = parallelization to speeed up training\n",
        "min_count = 5\n",
        "vector_size = 200\n",
        "workers=4\n",
        "\n",
        "skip_model = gensim.models.Word2Vec(sentences=train_data, min_count=min_count,\n",
        "                               vector_size=vector_size,workers=workers,\n",
        "                               compute_loss=True, seed = 72, sg=1, hs=0, epochs=50 )"
      ],
      "id": "OeTZwscU_ZQC"
    },
    {
      "cell_type": "code",
      "execution_count": null,
      "metadata": {
        "id": "Ehn0HpQZ_-dz"
      },
      "outputs": [],
      "source": [
        "# getting the training loss value\n",
        "training_loss = skip_model.get_latest_training_loss()\n",
        "print(training_loss)"
      ],
      "id": "Ehn0HpQZ_-dz"
    },
    {
      "cell_type": "code",
      "execution_count": null,
      "metadata": {
        "id": "oPK6svDVHInP"
      },
      "outputs": [],
      "source": [
        "pairs = [\n",
        "    ('energy', 'electricity'),\n",
        "    ('energy', 'solar'),\n",
        "    ('energy', 'gas'),\n",
        "    ('energy', 'clean'),\n",
        "    ('energy', 'climate'),\n",
        "]\n",
        "for w1, w2 in pairs:\n",
        "    print('%r\\t%r\\t%.2f' % (w1, w2, skip_model.wv.similarity(w1, w2)))"
      ],
      "id": "oPK6svDVHInP"
    },
    {
      "cell_type": "code",
      "execution_count": null,
      "metadata": {
        "id": "JRmUEsSDAl9_"
      },
      "outputs": [],
      "source": [
        "# 5 most similar words to energy\n",
        "skip_model.wv.most_similar(positive=['energy'], topn=5)"
      ],
      "id": "JRmUEsSDAl9_"
    },
    {
      "cell_type": "code",
      "execution_count": null,
      "metadata": {
        "id": "axbZdIqvFxRO"
      },
      "outputs": [],
      "source": [
        "# Word Analogy Evaluation\n",
        "analogies = skip_model.wv.evaluate_word_analogies(datapath('questions-words.txt'))\n",
        "print(\"Analogies Score:\", analogies[0])"
      ],
      "id": "axbZdIqvFxRO"
    },
    {
      "cell_type": "code",
      "execution_count": null,
      "metadata": {
        "id": "LkkHaNIyFxRV"
      },
      "outputs": [],
      "source": [
        "# Word Similarity Evaluation\n",
        "skip_model.wv.evaluate_word_pairs(datapath('wordsim353.tsv'))"
      ],
      "id": "LkkHaNIyFxRV"
    },
    {
      "cell_type": "markdown",
      "metadata": {
        "id": "mLsoGeLVRUsj"
      },
      "source": [
        "* Pearson correlation coefficient: 0.41\n",
        "* Significance: p-value = very close to zero\n",
        "* Spearman rank-order correlation coefficient: 0.4\n",
        "* Coverage: 18% (percentage of word pairs covered by the model)\n",
        "\n",
        "The Pearson correlation coefficient measures the linear relationship between the model's similarity scores and the human similarity judgments. In this case, the low p-value suggests that the correlation is statistically significant.\n",
        "\n",
        "The Spearman rank-order correlation measures how consistently two sets of rankings are related. A higher Spearman coefficient indicates a better performance in capturing the ordinal relationships.\n",
        "\n",
        "The coverage indicates the percentage of word pairs from the evaluation set that are present in the model's vocabulary.\n",
        "\n",
        "Overall, these metrics show a slight improvement from the CBOW word2vec model."
      ],
      "id": "mLsoGeLVRUsj"
    },
    {
      "cell_type": "markdown",
      "metadata": {
        "id": "W3FVn_oDA3Wo"
      },
      "source": [
        "The word embeddings made by the model can be visualised by reducing dimensionality of the words to 2 dimensions using tSNE."
      ],
      "id": "W3FVn_oDA3Wo"
    },
    {
      "cell_type": "code",
      "source": [
        "keys = ['energy', 'gas', 'wind', 'solar', 'geothermal', 'hydrogen', 'carbon',\n",
        "        'electric', 'renewable', 'technology', 'clean']\n",
        "\n",
        "embedding_clusters = []\n",
        "word_clusters = []\n",
        "for word in keys:\n",
        "    embeddings = []\n",
        "    words = []\n",
        "    for similar_word, _ in skip_model.wv.most_similar(word, topn=30):\n",
        "        words.append(similar_word)\n",
        "        embeddings.append(skip_model.wv.get_vector(similar_word))\n",
        "    embedding_clusters.append(embeddings)\n",
        "    word_clusters.append(words)\n",
        "\n",
        "embedding_clusters = np.array(embedding_clusters)\n",
        "n, m, k = embedding_clusters.shape\n",
        "tsne_model_en_2d = TSNE(perplexity=15, n_components=2, init='pca', n_iter=3500, random_state=32)\n",
        "embeddings_en_2d = np.array(tsne_model_en_2d.fit_transform(embedding_clusters.reshape(n * m, k))).reshape(n, m, 2)"
      ],
      "metadata": {
        "id": "r68k3ZRH2pu5"
      },
      "id": "r68k3ZRH2pu5",
      "execution_count": null,
      "outputs": []
    },
    {
      "cell_type": "code",
      "source": [
        "tsne_plot_similar_words('Similar words from Word2Vec Skip Gram', keys, embeddings_en_2d, word_clusters, 0.7,\n",
        "                        'similar_words.png')"
      ],
      "metadata": {
        "id": "Bu_hAzb027yY"
      },
      "id": "Bu_hAzb027yY",
      "execution_count": null,
      "outputs": []
    },
    {
      "cell_type": "code",
      "source": [
        "words = []\n",
        "embeddings = []\n",
        "for word in list(skip_model.wv.key_to_index.keys()):\n",
        "    embeddings.append(skip_model.wv[word])\n",
        "    words.append(word)\n",
        "\n",
        "embeddings = np.array(embeddings)  # Convert the list to a NumPy array\n",
        "tsne_2d = TSNE(perplexity=30, n_components=2, init='pca', n_iter=3500, random_state=32)\n",
        "embeddings_2d = tsne_2d.fit_transform(embeddings)\n",
        "\n",
        "tsne_plot_2d('Word2Vec Skip Gram Embeddings', embeddings_2d, a=0.1)"
      ],
      "metadata": {
        "id": "-QwMto_h8wAp"
      },
      "id": "-QwMto_h8wAp",
      "execution_count": null,
      "outputs": []
    },
    {
      "cell_type": "markdown",
      "source": [
        "The skip gram model has done a much better job of grouping the embeddings and identifying the word similarities."
      ],
      "metadata": {
        "id": "sYDU2omyBzdR"
      },
      "id": "sYDU2omyBzdR"
    },
    {
      "cell_type": "code",
      "source": [
        "skip_model.wv.save_word2vec_format(\"/content/drive/My Drive/NLP_models/skip_gram_model.model\")"
      ],
      "metadata": {
        "id": "csmYWFK7Bx2k"
      },
      "id": "csmYWFK7Bx2k",
      "execution_count": null,
      "outputs": []
    },
    {
      "cell_type": "markdown",
      "source": [
        "### FastText"
      ],
      "metadata": {
        "id": "jy6ZWPaxSDa7"
      },
      "id": "jy6ZWPaxSDa7"
    },
    {
      "cell_type": "code",
      "source": [
        "from gensim.models import FastText\n",
        "from nltk.tokenize import word_tokenize, sent_tokenize\n",
        "import nltk\n",
        "import pandas as pd\n",
        "import string\n",
        "import re"
      ],
      "metadata": {
        "id": "aXHrJsRNSCk0"
      },
      "id": "aXHrJsRNSCk0",
      "execution_count": 32,
      "outputs": []
    },
    {
      "cell_type": "markdown",
      "source": [
        "First a dictionary is created to contain the information about the article title and article contents. This will allow us to later keep track of which embeddings belong to which article."
      ],
      "metadata": {
        "id": "RV-_gbz9S1r6"
      },
      "id": "RV-_gbz9S1r6"
    },
    {
      "cell_type": "code",
      "source": [
        "data_ids = []\n",
        "\n",
        "for index, row in df.iterrows():\n",
        "    article_id = row['title']\n",
        "    article = row['content_cleaned']\n",
        "\n",
        "    data_ids.append({'article_id': article_id, 'content': article})\n"
      ],
      "metadata": {
        "id": "uqfv7EVvS2Pt"
      },
      "id": "uqfv7EVvS2Pt",
      "execution_count": 37,
      "outputs": []
    },
    {
      "cell_type": "code",
      "source": [
        "data_ids[0]"
      ],
      "metadata": {
        "colab": {
          "base_uri": "https://localhost:8080/"
        },
        "id": "HNt_R_pUSPAl",
        "outputId": "83b38da2-e51d-4b53-d0f8-f248924caf90"
      },
      "id": "HNt_R_pUSPAl",
      "execution_count": 38,
      "outputs": [
        {
          "output_type": "execute_result",
          "data": {
            "text/plain": [
              "{'article_id': 'Qatar to Slash Emissions as LNG Expansion Advances',\n",
              " 'content': 'qatar petroleum  qp is targeting aggressive cuts in its greenhouse gas emissions as it prepares to launch phase  of its planned  million ton per year lng expansion in its latest sustainability report published on wednesday qp said its goals include  reducing the emissions intensity of qatars lng facilities by  and of its upstream facilities by at least   the company is also aiming to reduce gas flaring intensity across its upstream facilities by more than  and has raised its carbon capture and storage ambitions from  million tonsyr to  million tonsyr by  about  million tonsyr of the carbon capture goal will come from the  million tonyr phase  of the lng expansion also known as the north field east project a further  million tonsyr will come from phase  known as the north field south project which will raise qatars lng capacity by a further  million tonsyr qatar currently has an lng production capacity of around  million tonsyr and is eyeing a phased expansion to  million tonsyr qp says it should be able to eliminate routine gas flaring by  with methane emissions limited  by setting a methane intensity target of  across all facilities by   the company also plans to build some  gigawatts of solar energy capacity by  half of which should come from the siraj solar power project next year  eif jan until this month there had been little news about phase  of qatars massive lng expansion but mcdermott international said last week that it had been awarded the frontend engineering and design contract for five offshore wellhead platforms  lngi jan bids for construction of all four trains for phase  of the lng expansion were submitted in september  lngi sep but qp judged them to be too expensive and none met its targeted week construction schedule shortlisted contractors were asked to look for cost savings and submit new bids the contract which consultancy rystad estimates to be worth around   billion is expected to be awarded by mar  shortly after the construction contract is awarded qp is expected to select foreign investments partners to take stakes of up to  in the phase  trains exxon mobil royal dutch shell total chevron conocophillips and eni have been shortlisted qp has repeatedly said that it is prepared to proceed without international investment partners if it determines that the offers it receives are not sufficiently attractive but the shortlisted companies are expected to bid aggressively for what is expected to be the worlds lowestcost and most environmentally friendly lng  lngi nov rafiq latta nicosia'}"
            ]
          },
          "metadata": {},
          "execution_count": 38
        }
      ]
    },
    {
      "cell_type": "markdown",
      "source": [
        "Data is split into training and validation sets."
      ],
      "metadata": {
        "id": "1CiMz_7wTUaM"
      },
      "id": "1CiMz_7wTUaM"
    },
    {
      "cell_type": "code",
      "source": [
        "from sklearn.model_selection import train_test_split\n",
        "\n",
        "# Split data into train and test sets\n",
        "train_x, valid_x = train_test_split(\n",
        "    data_ids,\n",
        "    test_size=0.5,\n",
        "    random_state=42\n",
        "    )"
      ],
      "metadata": {
        "id": "tq6NR_qVTRqP"
      },
      "id": "tq6NR_qVTRqP",
      "execution_count": 49,
      "outputs": []
    },
    {
      "cell_type": "markdown",
      "source": [
        "Sanity check to ensure traininga and validation data are correct sizes."
      ],
      "metadata": {
        "id": "wao8DWNRThmX"
      },
      "id": "wao8DWNRThmX"
    },
    {
      "cell_type": "code",
      "source": [
        "# Sanity check\n",
        "len(train_x) + len(valid_x)  == len(data_ids)\n",
        "print(len(train_x), len(test_x))"
      ],
      "metadata": {
        "colab": {
          "base_uri": "https://localhost:8080/"
        },
        "id": "L-CEfzYjTerl",
        "outputId": "ae4872af-6e07-4544-9437-db2f9487f720"
      },
      "id": "L-CEfzYjTerl",
      "execution_count": 50,
      "outputs": [
        {
          "output_type": "stream",
          "name": "stdout",
          "text": [
            "4803 961\n"
          ]
        }
      ]
    },
    {
      "cell_type": "markdown",
      "source": [
        "We check the size of the training vocabulary. If it is too large we will have to reduce it in the model training in order to increase efficiency.\n",
        "\n"
      ],
      "metadata": {
        "id": "JhsCKDMBTme5"
      },
      "id": "JhsCKDMBTme5"
    },
    {
      "cell_type": "code",
      "source": [
        "vocabulary = set()\n",
        "for article in train_x:\n",
        "    tokens = article['content'].split()\n",
        "    vocabulary.update(tokens)\n",
        "\n",
        "print(\"Vocabulary size:\", len(vocabulary))"
      ],
      "metadata": {
        "colab": {
          "base_uri": "https://localhost:8080/"
        },
        "id": "cSkOAQTRTkcQ",
        "outputId": "81104947-42ed-4db9-f605-dadd358f57ec"
      },
      "id": "cSkOAQTRTkcQ",
      "execution_count": 51,
      "outputs": [
        {
          "output_type": "stream",
          "name": "stdout",
          "text": [
            "Vocabulary size: 61260\n"
          ]
        }
      ]
    },
    {
      "cell_type": "markdown",
      "source": [
        "The vocabulary is too large (>30K words). We should reduce it when training our word embedding model.\n",
        "\n",
        "Content has to be tokenized in order to train the FastText word embedding model.\n",
        "\n"
      ],
      "metadata": {
        "id": "I3mzmCObTTwB"
      },
      "id": "I3mzmCObTTwB"
    },
    {
      "cell_type": "code",
      "source": [
        "corpus_tokens = [doc['content'].split() for doc in train_x]"
      ],
      "metadata": {
        "id": "Sj4qqk4ETzP8"
      },
      "id": "Sj4qqk4ETzP8",
      "execution_count": 52,
      "outputs": []
    },
    {
      "cell_type": "markdown",
      "source": [
        "We check to make sure the tokenization worked:"
      ],
      "metadata": {
        "id": "S0aEBZXrUAf_"
      },
      "id": "S0aEBZXrUAf_"
    },
    {
      "cell_type": "code",
      "source": [
        "corpus_tokens[0][:5]"
      ],
      "metadata": {
        "colab": {
          "base_uri": "https://localhost:8080/"
        },
        "id": "QNArOopHT9CG",
        "outputId": "8addc756-7edf-4753-c497-ae72236902df"
      },
      "id": "QNArOopHT9CG",
      "execution_count": 53,
      "outputs": [
        {
          "output_type": "execute_result",
          "data": {
            "text/plain": [
              "['oil', 'and', 'gas', 'price', 'spikes']"
            ]
          },
          "metadata": {},
          "execution_count": 53
        }
      ]
    },
    {
      "cell_type": "markdown",
      "source": [
        "Now we train some word embedding models. We set the max vocabulary size to 30,000. Other parameters are set randomly initially. The only parameter that is changed between the two models is vector size. We will then perform some intrinsic evaluation to see which model performs better."
      ],
      "metadata": {
        "id": "9z2ESn33UGXj"
      },
      "id": "9z2ESn33UGXj"
    },
    {
      "cell_type": "code",
      "source": [
        "max_vocab_size = 30000\n",
        "\n",
        "# Train FastText model 1\n",
        "model1 = FastText(sentences=corpus_tokens, vector_size=100, window=5, min_count=1, workers=4, sg=1, max_vocab_size=max_vocab_size)"
      ],
      "metadata": {
        "id": "7WJgGhnNUD60"
      },
      "id": "7WJgGhnNUD60",
      "execution_count": 54,
      "outputs": []
    },
    {
      "cell_type": "code",
      "source": [
        "model2 = FastText(sentences=corpus_tokens, vector_size=200, window=5, min_count=1, workers=4, sg=1, max_vocab_size=max_vocab_size)"
      ],
      "metadata": {
        "id": "KLwWajt_Vshs"
      },
      "id": "KLwWajt_Vshs",
      "execution_count": 80,
      "outputs": []
    },
    {
      "cell_type": "markdown",
      "source": [
        "We define some intrinsic tests such as word similarity tests and analogy tests to perform using our models. We use a combination of self-made similarity tests, using words regarding cleantech topics, and premade tests. The better performing model should show better recognition of similar words, as well as a higher pearson's correlation on the analogy test. Which indicates a correlation between the model's predicted word and a human's predicted word."
      ],
      "metadata": {
        "id": "m-tAF_qdXFmz"
      },
      "id": "m-tAF_qdXFmz"
    },
    {
      "cell_type": "code",
      "source": [
        "def word_similarity(model, word1, word2):\n",
        "    if word1 in model.wv and word2 in model.wv:\n",
        "        return model.wv.similarity(word1, word2)\n",
        "    else:\n",
        "        return None\n",
        "\n",
        "def run_similarity_tests(models, similarity_tests, analogy_tests=None, word_similarity_tests=None):\n",
        "    for model_name, model in models.items():\n",
        "        print(f\"\\nTesting Model: {model_name}\")\n",
        "\n",
        "        for test_name, (word1, word2) in similarity_tests.items():\n",
        "            similarity_score = word_similarity(model, word1, word2)\n",
        "\n",
        "            if similarity_score is not None:\n",
        "                print(f\"{test_name} - Similarity between '{word1}' and '{word2}': {similarity_score:.4f}\")\n",
        "            else:\n",
        "                print(f\"{test_name} - One or both words not in the vocabulary.\")\n",
        "\n",
        "        if analogy_tests is not None:\n",
        "            analogy_score = model.wv.evaluate_word_analogies(datapath(analogy_tests))\n",
        "            print(f\"\\nAnalogy Score for {model_name}: {analogy_score[0]}\")\n",
        "\n",
        "        if word_similarity_tests is not None:\n",
        "            word_similarity_score = model.wv.evaluate_word_pairs(datapath(word_similarity_tests))\n",
        "            print(f\"Word Similarity Score for {model_name}: {word_similarity_score[0]}\")\n"
      ],
      "metadata": {
        "id": "cbeHiIyvXB11"
      },
      "id": "cbeHiIyvXB11",
      "execution_count": 81,
      "outputs": []
    },
    {
      "cell_type": "code",
      "source": [
        "models = {\n",
        "    \"Model1\": model1,\n",
        "    \"Model2\": model2,\n",
        "}\n",
        "\n",
        "similarity_tests = {\n",
        "    \"Renewable Energy\": (\"renewable\", \"green\"),\n",
        "    \"Solar Power\": (\"photovoltaic\", \"pv\"),\n",
        "    \"Clean Technology\": (\"tech\", \"technology\"),\n",
        "    \"Climate Change\": (\"climate\", \"weather\"),\n",
        "    \"Electric Vehicles\": (\"car\", \"vehicle\"),\n",
        "    \"Sustainability\": (\"sustainability\", \"sustainable\"),\n",
        "}\n",
        "\n",
        "# Specify analogy and word similarity tests\n",
        "analogy_tests = 'questions-words.txt'\n",
        "word_similarity_tests = 'wordsim353.tsv'\n",
        "\n",
        "# Run all tests on multiple models\n",
        "run_similarity_tests(models, similarity_tests, analogy_tests, word_similarity_tests)\n"
      ],
      "metadata": {
        "colab": {
          "base_uri": "https://localhost:8080/"
        },
        "id": "guSr__FYYO8V",
        "outputId": "7caf723a-4b2a-4e5d-d5ee-1f870bac75b2"
      },
      "id": "guSr__FYYO8V",
      "execution_count": 82,
      "outputs": [
        {
          "output_type": "stream",
          "name": "stdout",
          "text": [
            "\n",
            "Testing Model: Model1\n",
            "Renewable Energy - Similarity between 'renewable' and 'green': 0.6083\n",
            "Solar Power - Similarity between 'photovoltaic' and 'pv': 0.7447\n",
            "Clean Technology - Similarity between 'tech' and 'technology': 0.5842\n",
            "Climate Change - Similarity between 'climate' and 'weather': 0.4179\n",
            "Electric Vehicles - Similarity between 'car' and 'vehicle': 0.7488\n",
            "Sustainability - Similarity between 'sustainability' and 'sustainable': 0.5471\n",
            "\n",
            "Analogy Score for Model1: 0.4161628078454505\n",
            "Word Similarity Score for Model1: PearsonRResult(statistic=0.42124133552082066, pvalue=4.812093583463818e-12)\n",
            "\n",
            "Testing Model: Model2\n",
            "Renewable Energy - Similarity between 'renewable' and 'green': 0.3717\n",
            "Solar Power - Similarity between 'photovoltaic' and 'pv': 0.6400\n",
            "Clean Technology - Similarity between 'tech' and 'technology': 0.5603\n",
            "Climate Change - Similarity between 'climate' and 'weather': 0.3355\n",
            "Electric Vehicles - Similarity between 'car' and 'vehicle': 0.6235\n",
            "Sustainability - Similarity between 'sustainability' and 'sustainable': 0.5966\n",
            "\n",
            "Analogy Score for Model2: 0.4620262498156614\n",
            "Word Similarity Score for Model2: PearsonRResult(statistic=0.4213655102512491, pvalue=4.7363493080452666e-12)\n"
          ]
        }
      ]
    },
    {
      "cell_type": "markdown",
      "source": [
        "As we can see from the tests above model two performs slightly better on the Analogy Score and Word Similarity Score. On the word similarities that we created regarding clean-tech topics, however, model 1 seems to perform better. This could mean model 1 is better at capturing semantic detail, this is interesting because usually a larger word_vector size corresponds to better embeddings. It could also be that our self-made similarity tests are not as robust as the pre-made similarity tests."
      ],
      "metadata": {
        "id": "7mqhxjUKZhQv"
      },
      "id": "7mqhxjUKZhQv"
    },
    {
      "cell_type": "markdown",
      "source": [
        "# Sentence Embeddings"
      ],
      "metadata": {
        "id": "kDs_yji9DtLy"
      },
      "id": "kDs_yji9DtLy"
    },
    {
      "cell_type": "markdown",
      "metadata": {
        "id": "ddOw6YQARd0V"
      },
      "source": [
        "## Doc2Vec"
      ],
      "id": "ddOw6YQARd0V"
    },
    {
      "cell_type": "markdown",
      "source": [
        "Prepare training and test data."
      ],
      "metadata": {
        "id": "MYIfP5MpARD9"
      },
      "id": "MYIfP5MpARD9"
    },
    {
      "cell_type": "code",
      "source": [
        "# Set seeds for reproducibility\n",
        "SEED = 99\n",
        "torch.manual_seed(SEED)\n",
        "random.seed(SEED)\n",
        "np.random.seed(SEED)\n",
        "\n",
        "# Splitting the dataset into Training and Testing Data\n",
        "train_data, test_data, train_labels, test_labels = train_test_split(df_labeled[\"final_cleaned\"], df_labeled[\"topic\"], train_size=0.7, random_state=5)\n",
        "\n",
        "print(len(train_data), len(test_data), len(train_labels), len(test_labels))"
      ],
      "metadata": {
        "id": "dOM2M0rrAWlq"
      },
      "id": "dOM2M0rrAWlq",
      "execution_count": null,
      "outputs": []
    },
    {
      "cell_type": "markdown",
      "metadata": {
        "id": "8YizawG4XShu"
      },
      "source": [
        "We define a funciton to read the corpus line by line (each line of the corpus represents a document), tokenize text into individual words, remove puctuation and set to lowercase. To train the model, we need to associate a tag/number with each document of the training corpus. In our case, the tag is simply the zero-based line number."
      ],
      "id": "8YizawG4XShu"
    },
    {
      "cell_type": "code",
      "execution_count": null,
      "metadata": {
        "id": "mJVQUFEyU3Qj"
      },
      "outputs": [],
      "source": [
        "def read_corpus(data, tokens_only=False):\n",
        "    for i, line in enumerate(data):\n",
        "        tokens = gensim.utils.simple_preprocess(line)\n",
        "        if tokens_only:\n",
        "            yield tokens\n",
        "        else:\n",
        "            yield gensim.models.doc2vec.TaggedDocument(tokens, [i])\n",
        "\n",
        "train_corpus = list(read_corpus(train_data,))\n",
        "test_corpus = list(read_corpus(test_data, tokens_only=True))"
      ],
      "id": "mJVQUFEyU3Qj"
    },
    {
      "cell_type": "code",
      "execution_count": null,
      "metadata": {
        "id": "JWzUji7kUX3P"
      },
      "outputs": [],
      "source": [
        "# Look at training and test corpus\n",
        "print(train_corpus[:2])\n",
        "print(test_corpus[:2])"
      ],
      "id": "JWzUji7kUX3P"
    },
    {
      "cell_type": "markdown",
      "metadata": {
        "id": "5QTv_2mDX-UE"
      },
      "source": [
        "The testing is just a list of lists and should not contain any tags."
      ],
      "id": "5QTv_2mDX-UE"
    },
    {
      "cell_type": "markdown",
      "metadata": {
        "id": "Wwku07DaYR4e"
      },
      "source": [
        "Now we intitiate a Doc2Vec model with a vector size with 50 dimensions and iterating over the training corpus 40 times. The minimum word count is set to 2 in order to discard words with very few occurences."
      ],
      "id": "Wwku07DaYR4e"
    },
    {
      "cell_type": "code",
      "execution_count": null,
      "metadata": {
        "id": "ZK3RzulCWqNo"
      },
      "outputs": [],
      "source": [
        "doc_model = gensim.models.doc2vec.Doc2Vec(vector_size=50, min_count=2, epochs=40)"
      ],
      "id": "ZK3RzulCWqNo"
    },
    {
      "cell_type": "markdown",
      "metadata": {
        "id": "V0tgANveZDKy"
      },
      "source": [
        "Build the vocabulary which is a list of all the unique words extracted from the training corpus."
      ],
      "id": "V0tgANveZDKy"
    },
    {
      "cell_type": "code",
      "execution_count": null,
      "metadata": {
        "id": "nSRgPF5YZGbb"
      },
      "outputs": [],
      "source": [
        "doc_model.build_vocab(train_corpus)"
      ],
      "id": "nSRgPF5YZGbb"
    },
    {
      "cell_type": "code",
      "execution_count": null,
      "metadata": {
        "id": "2bxbaGtVZzQE"
      },
      "outputs": [],
      "source": [
        "# Can view the vocabulary below\n",
        "doc_model.wv.index_to_key"
      ],
      "id": "2bxbaGtVZzQE"
    },
    {
      "cell_type": "code",
      "execution_count": null,
      "metadata": {
        "id": "arkkMbSpaAWM"
      },
      "outputs": [],
      "source": [
        "# Can view additional attributes using the get_vecattr method\n",
        "print(f\"Word 'energy' appeared {doc_model.wv.get_vecattr('energy', 'count')} times in the training corpus.\")"
      ],
      "id": "arkkMbSpaAWM"
    },
    {
      "cell_type": "markdown",
      "metadata": {
        "id": "lhA5VqU3aUWz"
      },
      "source": [
        "Next, we train the model."
      ],
      "id": "lhA5VqU3aUWz"
    },
    {
      "cell_type": "code",
      "execution_count": null,
      "metadata": {
        "id": "atLu5tAraTCR"
      },
      "outputs": [],
      "source": [
        "doc_model.train(train_corpus, total_examples=doc_model.corpus_count, epochs=doc_model.epochs)"
      ],
      "id": "atLu5tAraTCR"
    },
    {
      "cell_type": "markdown",
      "metadata": {
        "id": "tLjzpmO9az-1"
      },
      "source": [
        "Use the trained model to infer a vector for any piece of text to ensure the model is working."
      ],
      "id": "tLjzpmO9az-1"
    },
    {
      "cell_type": "code",
      "execution_count": null,
      "metadata": {
        "id": "DLDHVnoZayza"
      },
      "outputs": [],
      "source": [
        "vector = doc_model.infer_vector([ 'instead','quickly','creating','neutral','planned','farms'])\n",
        "print(vector)"
      ],
      "id": "DLDHVnoZayza"
    },
    {
      "cell_type": "markdown",
      "metadata": {
        "id": "DHF8dCKFbuXi"
      },
      "source": [
        "Assess the model by obtaining vector representations for each document in the training set. The idea is to rank the documents based on their self-similarity. The expectation is that, if the model has overfit the training data, all the ranks will be less than 2. This is because a document is most similar to itself, and potentially one other document, indicating overfitting. If overfitting has occurred, the model should be able to find similar documents very easily among the training corpus. Additionally, the second ranks are tracked. This is useful for comparing less similar documents. If the model has overfit, the second-ranked documents should be less similar, reflecting a distinction between very similar and less similar documents."
      ],
      "id": "DHF8dCKFbuXi"
    },
    {
      "cell_type": "code",
      "execution_count": null,
      "metadata": {
        "id": "9xuN_cBcbuD_"
      },
      "outputs": [],
      "source": [
        "ranks = []\n",
        "second_ranks = []\n",
        "for doc_id in range(len(train_corpus)):\n",
        "    inferred_vector = doc_model.infer_vector(train_corpus[doc_id].words)\n",
        "    sims = doc_model.dv.most_similar([inferred_vector], topn=len(doc_model.dv))\n",
        "    rank = [docid for docid, sim in sims].index(doc_id)\n",
        "    ranks.append(rank)\n",
        "\n",
        "    second_ranks.append(sims[1])"
      ],
      "id": "9xuN_cBcbuD_"
    },
    {
      "cell_type": "markdown",
      "metadata": {
        "id": "kwFwMZtudOBQ"
      },
      "source": [
        "Now we will count how each document ranks with respect to the training corpus."
      ],
      "id": "kwFwMZtudOBQ"
    },
    {
      "cell_type": "code",
      "execution_count": null,
      "metadata": {
        "id": "4UFj28x6dNnT"
      },
      "outputs": [],
      "source": [
        "import collections\n",
        "\n",
        "counter = collections.Counter(ranks)\n",
        "print(counter)"
      ],
      "id": "4UFj28x6dNnT"
    },
    {
      "cell_type": "markdown",
      "metadata": {
        "id": "so-SwY00dspt"
      },
      "source": [
        "Basically, greater than 99% of the inferred documents are found to be most similar to itself and about 1% of the time it is mistakenly most similar to another document. Checking the inferred-vector against a training-vector is a sort of ‘sanity check’ as to whether the model is behaving in a usefully consistent manner, though not a real ‘accuracy’ value."
      ],
      "id": "so-SwY00dspt"
    },
    {
      "cell_type": "code",
      "execution_count": null,
      "metadata": {
        "id": "GdrUveY3de9V"
      },
      "outputs": [],
      "source": [
        "print('Document ({}): «{}»\\n'.format(doc_id, ' '.join(train_corpus[doc_id].words)))\n",
        "print(u'SIMILAR/DISSIMILAR DOCS PER MODEL %s:\\n' % doc_model)\n",
        "for label, index in [('MOST', 0), ('SECOND-MOST', 1), ('MEDIAN', len(sims)//2), ('LEAST', len(sims) - 1)]:\n",
        "    print(u'%s %s: «%s»\\n' % (label, sims[index], ' '.join(train_corpus[sims[index][0]].words)))"
      ],
      "id": "GdrUveY3de9V"
    },
    {
      "cell_type": "markdown",
      "metadata": {
        "id": "Pny3_x0dhhW0"
      },
      "source": [
        "The most similar document usually has a similarity score close to 1.0, while the second-ranked document should have a significantly lower similarity score, assuming the documents are different. However, the documents in our corpus show more similarieties because the documents all discuss various forms of clean energy. This can also be seen by running the below cell mutliple times."
      ],
      "id": "Pny3_x0dhhW0"
    },
    {
      "cell_type": "code",
      "execution_count": null,
      "metadata": {
        "id": "LYOwo_gtdd0Z"
      },
      "outputs": [],
      "source": [
        "# Pick a random document from the corpus and infer a vector from the model\n",
        "import random\n",
        "doc_id = random.randint(0, len(train_corpus) - 1)\n",
        "\n",
        "# Compare and print the second-most-similar document\n",
        "print('Train Document ({}): «{}»\\n'.format(doc_id, ' '.join(train_corpus[doc_id].words)))\n",
        "sim_id = second_ranks[doc_id]\n",
        "print('Similar Document {}: «{}»\\n'.format(sim_id, ' '.join(train_corpus[sim_id[0]].words)))"
      ],
      "id": "LYOwo_gtdd0Z"
    },
    {
      "cell_type": "markdown",
      "metadata": {
        "id": "pPAgMPG1iERd"
      },
      "source": [
        "Using the same approach as above, we will infer the vector for a randomly chosen test document and compare the results."
      ],
      "id": "pPAgMPG1iERd"
    },
    {
      "cell_type": "code",
      "execution_count": null,
      "metadata": {
        "id": "CIqKcDtgiSBp"
      },
      "outputs": [],
      "source": [
        "# Pick a random document from the test corpus and infer a vector from the model\n",
        "doc_id = random.randint(0, len(test_corpus) - 1)\n",
        "inferred_vector = doc_model.infer_vector(test_corpus[doc_id])\n",
        "sims = doc_model.dv.most_similar([inferred_vector], topn=len(doc_model.dv))\n",
        "\n",
        "# Compare and print the most/median/least similar documents from the train corpus\n",
        "print('Test Document ({}): «{}»\\n'.format(doc_id, ' '.join(test_corpus[doc_id])))\n",
        "print(u'SIMILAR/DISSIMILAR DOCS PER MODEL %s:\\n' % doc_model)\n",
        "for label, index in [('MOST', 0), ('MEDIAN', len(sims)//2), ('LEAST', len(sims) - 1)]:\n",
        "    print(u'%s %s: «%s»\\n' % (label, sims[index], ' '.join(train_corpus[sims[index][0]].words)))"
      ],
      "id": "CIqKcDtgiSBp"
    },
    {
      "cell_type": "code",
      "source": [
        "# Get document vectors and corresponding tags\n",
        "doc_tags = doc_model.dv.index_to_key\n",
        "doc_vectors = [doc_model.dv[tag] for tag in doc_tags]\n",
        "\n",
        "# Convert the list to a NumPy array\n",
        "doc_vectors = np.array(doc_vectors)\n",
        "\n",
        "tsne_2d = TSNE(perplexity=30, n_components=2, init='pca', n_iter=3500, random_state=32)\n",
        "embeddings_2d = tsne_2d.fit_transform(doc_vectors)\n",
        "\n",
        "tsne_plot_2d('Doc2Vec Embeddings', embeddings_2d, a=0.1)"
      ],
      "metadata": {
        "id": "aIMyIIltSyY2"
      },
      "id": "aIMyIIltSyY2",
      "execution_count": null,
      "outputs": []
    },
    {
      "cell_type": "markdown",
      "source": [
        "### S-BERT"
      ],
      "metadata": {
        "id": "k5VYtHAoccig"
      },
      "id": "k5VYtHAoccig"
    },
    {
      "cell_type": "markdown",
      "source": [
        "We now try to make sentence embeddings using S-BERT. We will use a pre-trained model to encode our sentences."
      ],
      "metadata": {
        "id": "Rw1KRrK5cu81"
      },
      "id": "Rw1KRrK5cu81"
    },
    {
      "cell_type": "code",
      "source": [
        "%%capture\n",
        "%pip install -U sentence-transformers"
      ],
      "metadata": {
        "id": "j39JZr19cfXA"
      },
      "id": "j39JZr19cfXA",
      "execution_count": 83,
      "outputs": []
    },
    {
      "cell_type": "code",
      "source": [
        "from sentence_transformers import SentenceTransformer, util"
      ],
      "metadata": {
        "id": "esRYnOw2cntG"
      },
      "id": "esRYnOw2cntG",
      "execution_count": 96,
      "outputs": []
    },
    {
      "cell_type": "code",
      "source": [
        "model = SentenceTransformer('all-MiniLM-L6-v2', device='cuda')"
      ],
      "metadata": {
        "colab": {
          "base_uri": "https://localhost:8080/",
          "height": 465,
          "referenced_widgets": [
            "73310a3f78524e4789582eef3984ee8c",
            "f150cabb0a074877a14c8894ec6f6dad",
            "46e7b5f500d94c7694f52ed045d259b2",
            "17a7ecda8ee2409aa5cb6cb680b07e3c",
            "1292c65644944523be7a11f85f2d3171",
            "c3564b0f6dc945619a2cc682eebd2212",
            "eb7d269ac9cf47ff9660ad2716ff5209",
            "08460b0cf32f49da82782afa3d52fee7",
            "07b72c4120d447639b71be339818eda0",
            "7da67893f413499ebdac2f6140626762",
            "6e1d222d0d0842a5ad3575d551a3692c",
            "0e490b5aa1d8408f8242a0ae1faedd0c",
            "1883cd5bfbf443e7b5e3b5304e78b87a",
            "5f434136de5947e998c8339bffcee663",
            "c8bec419c1224d798eeef0be48bc800c",
            "41bcd0f0cb1b478e8afad2236b08b615",
            "1df80624095d477287821cf385e8f861",
            "6833ecf056de4ce980a80bef609c9d9e",
            "3c68f87380cc4b889441e5a7f4163bac",
            "1a0871ffeeed4450b63e820753ff3bf2",
            "1a38c24cb8b14b7db012428058d1399b",
            "ec1eabae9f924916b12854a5140862dd",
            "829c904720cd4399a68bd02b0cf66600",
            "103bebafe08c4374bb82892836ffc810",
            "ce9e2b298a064e4586947f595985a46d",
            "0bef5104beaa4310b10a5d5fb0321d70",
            "0c16c2c0ebea4a8aa564e3756384ea3e",
            "f11b15fafc0b43d6be98f1d8f7955fae",
            "5aa1e243f563425ba86604dc9db67734",
            "82a19dfc65a44fdc97285235d4c0a7fc",
            "379ad52418d448a9ac0359555389e8d5",
            "317ad3a154bb44939d52b923c6f209b1",
            "0b4a5e83e3274c668b3f0602eb23be47",
            "bcbc5a24044144edbc0e83d6f6717c4b",
            "17970fc94db8499880a9036db48c08dc",
            "fe3674aaaadd4839bdc683633d3d9370",
            "eb0f4d25b9d74eedb97478e05cac9ebb",
            "a793e24415a74dac97c7e8233250cb31",
            "4eda535ac69c44339b748328e818ac28",
            "e4bdd0dec2b34a24b1cbea62f97a4f04",
            "bcd2368f22da4d1a800830c07f943534",
            "708dfa662028405aa975b083ba2ef785",
            "a9480cfccd8047e2975e7dcf4cedff14",
            "ab768b2f452946a3bb9340ffbd91ddc3",
            "fa96c8b65fba4471905479ae43fa6ede",
            "4577169c736d40e1baa5505c3f6ab04c",
            "d9bec2cba1db43f4be1e4239eb01c8ca",
            "0891c156d6e24abb91ef22224dddbf80",
            "6f9270ad57bf432198ae9ffbbdbd15aa",
            "c953c511e9b94e9ab25dba5a4c8e1abb",
            "7a23a860700d464495cc57f82d8e02bb",
            "e122a5f4de13474b921b5d20c663814a",
            "8440619b19a04ffdb3ad6f9a85a18560",
            "15161aeb03594048a749d01780b564f1",
            "ec9269d5c0014e39a22cb8a2b083be64",
            "07e60f1c442143398faab98f457f5896",
            "efa9fff6704e450588e9dc2a4b4df001",
            "8a92179ed64f4273b62530da143dfd18",
            "dfb64f6163bc447c81fa86fd80c38a77",
            "b05c58fdfad346dda91e1c17ba32482b",
            "29fa673917ff4469a2436f395fab66b6",
            "95e884dc0ca940a2af1ff7cbac78059b",
            "232078443a0d46fc87add4abfd3bedaa",
            "91dfc5da86ae44339cc114012218dc61",
            "46f776e380a04ce4ac8ed54ff303389e",
            "fd57efd2fe844f93b1aa854aa28a00f7",
            "04077d872c7340bc835812d57f698798",
            "508651e98d87482e9f2fb7ad22dffc31",
            "02da2ea23ad1489d91a7957547d6f513",
            "536d9b7bf0614a99ab088bc2cd236233",
            "1bad5a27fe3c4ac5b9eacc195de303e5",
            "06e04d201a1f43709c754f62e2311dbe",
            "3873f5749fb7416ea889128e96ddc8c1",
            "0a8f6038b3144de78007e3e03f2d5312",
            "47968f64e6ec405f9343a6c46cb117d7",
            "eda869258f53492cad89591085287a45",
            "948a8ff0f6344a32956e89b4984f0d1c",
            "0e461f3c4afc4c13b42124e669ac95a5",
            "a313f4957f2246c8885ff6f2223a6791",
            "5b3ac04d2e3342478c14fa271ff88d38",
            "0f55231c64b3484888202a88284eca56",
            "1985b7666bbb48b3b551a9952eedf8bf",
            "3d9f4b9bb23348619049e2b636553419",
            "6a36e3b02a434bdb8f45afd751f7c2e3",
            "94e0f686043b457882ef00bb07373ec4",
            "c0a2eed719584a7b954e8ca304785fc6",
            "5970c628eca1459b8e7303480064b9bb",
            "e57dde4a794a4957bc2c85f01d2bba5f",
            "6a1e548c1fd645e8ad76ceb38fab396c",
            "366a6b270a81422bb821ac175f163c93",
            "ebf9e9529d944953ad69a999aed65c37",
            "57aa2ba9f4b544098777560bbda05b3b",
            "183110e4ec3c4b8880f6d0abd35e8409",
            "9ec3f0f32d2044fbab81dd09e59647b5",
            "1392cad8acbd489ba4c04e5398de4e60",
            "3290792397804727b34678889e2d2551",
            "2e6a388392d34ba48f23fc867998c7c5",
            "f7343e6520a443ff9ef85d3cea3bce24",
            "9cdbf4a7b54d4d839b62afa9e6927574",
            "b1681a15197543bf8ff26e18481acd32",
            "c07ea5056b2842ac9a6a2edc25c53df8",
            "40a5facffd6b4dc382b87726ebfb3a6e",
            "5e011e45236b41a585d91870920b28b0",
            "ce6b674ee98644179467775c5c5f0985",
            "6f7cd6482d824308a03137da8b92bd08",
            "183d6471cfb14fac902faad10ed06dba",
            "5bfe31ae105845cea6f85465dbf0f4e6",
            "5ca3d1260cee45cdaf1a5432375b4fcf",
            "8aaf93b2479a47fe99a39f2178ea0fda",
            "994474bd8b3341b694bdec32c6094ab1",
            "e10718c150dc479bbaf9546bb642d05f",
            "415bc30a35834af28e2577137bdb5aab",
            "46bc340d4e3e4854882ccf147ef24b12",
            "4b6f839810974e61a491bed0ce0690c0",
            "43b992f8160645be90fdfcf30a301b51",
            "d3144be596874959bcc2c4f071631b76",
            "be0217138efe4d8ca9b67c382d80f6c3",
            "6e53489794454f04b1ce3a238e10e6f2",
            "a701629440b841a0aad7f729af2077d8",
            "56eebd87a882458faf259a36234d8868",
            "852d663dbc5c44eb80bf04a63a9d779e",
            "ddb4ba8c129647f49ceeccf733f5e700",
            "23627296388f4d1abdaeff22078317a0",
            "1d71fe15189644bb80272b9b7e378339",
            "2cd11e6c230e479282620de969aaca85",
            "b795896361874de5b33da286db8b2863",
            "1e8caa18ac8c4b94be1c9a2f16925ff6",
            "e6a3745ffae44e73bd11ae96cd3b053d",
            "b502a2e277b94f6dbf489e753993ac64",
            "350a4819acce4a5885769673477a4a3e",
            "e846a2d6751f49128c7ad4a9a9792874",
            "1a95f457ca034f06b377d7d6b76f85bf",
            "d1853193278846cb8bee788a9a3c9326",
            "7a7681d4cca448499baa954381399279",
            "7080a6a53b3141559397e5dc2a84d87d",
            "f3cf94a08b5a4f08bc6fefa403dcd219",
            "995b377c1d3f48ad83979d6df170a6a1",
            "15ce3013eebb4028955c0596fe66fb08",
            "12a626e575004c388419e953005a5cb9",
            "b392fd9e1af34299b42b931858ae2c6d",
            "4fbd5abf50664cd68956e68cbf547437",
            "ed90510a02534ae3bcf5da72aed44e5a",
            "7c5d44c61e414b168f43afd4a0c71579",
            "d6f655ceeb05443c8b4db19e58accca0",
            "3aae5d146d884e24bc2c450e85e7c9cd",
            "b053e41300ff4823bcef4338f74d22b9",
            "144fb385574b4ac19c5ea959480578d3",
            "f8a119013eb14ba898ec69fb36db63c9",
            "fd06c06b7dec4cb4a8751b1bb54874b9",
            "438e023590f5426397cc4018100ad6a2",
            "914f6aeacfd04d1f9df96f22c513da9a",
            "19cf117ba5b44d969fb94fe66f249ff1",
            "ef3c5a5f5dc74c1eb806b35a68fdf663",
            "7fd313c4736048ec949d3d7afc8f299b"
          ]
        },
        "id": "BR91huc-cqrA",
        "outputId": "630cfcd7-ff36-415e-e21b-369a36c215d3"
      },
      "id": "BR91huc-cqrA",
      "execution_count": 85,
      "outputs": [
        {
          "output_type": "display_data",
          "data": {
            "text/plain": [
              ".gitattributes:   0%|          | 0.00/1.18k [00:00<?, ?B/s]"
            ],
            "application/vnd.jupyter.widget-view+json": {
              "version_major": 2,
              "version_minor": 0,
              "model_id": "73310a3f78524e4789582eef3984ee8c"
            }
          },
          "metadata": {}
        },
        {
          "output_type": "display_data",
          "data": {
            "text/plain": [
              "1_Pooling/config.json:   0%|          | 0.00/190 [00:00<?, ?B/s]"
            ],
            "application/vnd.jupyter.widget-view+json": {
              "version_major": 2,
              "version_minor": 0,
              "model_id": "0e490b5aa1d8408f8242a0ae1faedd0c"
            }
          },
          "metadata": {}
        },
        {
          "output_type": "display_data",
          "data": {
            "text/plain": [
              "README.md:   0%|          | 0.00/10.6k [00:00<?, ?B/s]"
            ],
            "application/vnd.jupyter.widget-view+json": {
              "version_major": 2,
              "version_minor": 0,
              "model_id": "829c904720cd4399a68bd02b0cf66600"
            }
          },
          "metadata": {}
        },
        {
          "output_type": "display_data",
          "data": {
            "text/plain": [
              "config.json:   0%|          | 0.00/612 [00:00<?, ?B/s]"
            ],
            "application/vnd.jupyter.widget-view+json": {
              "version_major": 2,
              "version_minor": 0,
              "model_id": "bcbc5a24044144edbc0e83d6f6717c4b"
            }
          },
          "metadata": {}
        },
        {
          "output_type": "display_data",
          "data": {
            "text/plain": [
              "config_sentence_transformers.json:   0%|          | 0.00/116 [00:00<?, ?B/s]"
            ],
            "application/vnd.jupyter.widget-view+json": {
              "version_major": 2,
              "version_minor": 0,
              "model_id": "fa96c8b65fba4471905479ae43fa6ede"
            }
          },
          "metadata": {}
        },
        {
          "output_type": "display_data",
          "data": {
            "text/plain": [
              "data_config.json:   0%|          | 0.00/39.3k [00:00<?, ?B/s]"
            ],
            "application/vnd.jupyter.widget-view+json": {
              "version_major": 2,
              "version_minor": 0,
              "model_id": "07e60f1c442143398faab98f457f5896"
            }
          },
          "metadata": {}
        },
        {
          "output_type": "display_data",
          "data": {
            "text/plain": [
              "pytorch_model.bin:   0%|          | 0.00/90.9M [00:00<?, ?B/s]"
            ],
            "application/vnd.jupyter.widget-view+json": {
              "version_major": 2,
              "version_minor": 0,
              "model_id": "04077d872c7340bc835812d57f698798"
            }
          },
          "metadata": {}
        },
        {
          "output_type": "display_data",
          "data": {
            "text/plain": [
              "sentence_bert_config.json:   0%|          | 0.00/53.0 [00:00<?, ?B/s]"
            ],
            "application/vnd.jupyter.widget-view+json": {
              "version_major": 2,
              "version_minor": 0,
              "model_id": "0e461f3c4afc4c13b42124e669ac95a5"
            }
          },
          "metadata": {}
        },
        {
          "output_type": "display_data",
          "data": {
            "text/plain": [
              "special_tokens_map.json:   0%|          | 0.00/112 [00:00<?, ?B/s]"
            ],
            "application/vnd.jupyter.widget-view+json": {
              "version_major": 2,
              "version_minor": 0,
              "model_id": "6a1e548c1fd645e8ad76ceb38fab396c"
            }
          },
          "metadata": {}
        },
        {
          "output_type": "display_data",
          "data": {
            "text/plain": [
              "tokenizer.json:   0%|          | 0.00/466k [00:00<?, ?B/s]"
            ],
            "application/vnd.jupyter.widget-view+json": {
              "version_major": 2,
              "version_minor": 0,
              "model_id": "b1681a15197543bf8ff26e18481acd32"
            }
          },
          "metadata": {}
        },
        {
          "output_type": "display_data",
          "data": {
            "text/plain": [
              "tokenizer_config.json:   0%|          | 0.00/350 [00:00<?, ?B/s]"
            ],
            "application/vnd.jupyter.widget-view+json": {
              "version_major": 2,
              "version_minor": 0,
              "model_id": "e10718c150dc479bbaf9546bb642d05f"
            }
          },
          "metadata": {}
        },
        {
          "output_type": "display_data",
          "data": {
            "text/plain": [
              "train_script.py:   0%|          | 0.00/13.2k [00:00<?, ?B/s]"
            ],
            "application/vnd.jupyter.widget-view+json": {
              "version_major": 2,
              "version_minor": 0,
              "model_id": "ddb4ba8c129647f49ceeccf733f5e700"
            }
          },
          "metadata": {}
        },
        {
          "output_type": "display_data",
          "data": {
            "text/plain": [
              "vocab.txt:   0%|          | 0.00/232k [00:00<?, ?B/s]"
            ],
            "application/vnd.jupyter.widget-view+json": {
              "version_major": 2,
              "version_minor": 0,
              "model_id": "d1853193278846cb8bee788a9a3c9326"
            }
          },
          "metadata": {}
        },
        {
          "output_type": "display_data",
          "data": {
            "text/plain": [
              "modules.json:   0%|          | 0.00/349 [00:00<?, ?B/s]"
            ],
            "application/vnd.jupyter.widget-view+json": {
              "version_major": 2,
              "version_minor": 0,
              "model_id": "d6f655ceeb05443c8b4db19e58accca0"
            }
          },
          "metadata": {}
        }
      ]
    },
    {
      "cell_type": "code",
      "source": [
        "df['content_cleaned_sent'][0]"
      ],
      "metadata": {
        "colab": {
          "base_uri": "https://localhost:8080/",
          "height": 183
        },
        "id": "M-Aiam-uc4RC",
        "outputId": "ce88e934-c113-4a95-f6ce-fa6ef59a497c"
      },
      "id": "M-Aiam-uc4RC",
      "execution_count": 86,
      "outputs": [
        {
          "output_type": "execute_result",
          "data": {
            "text/plain": [
              "' qatar petroleum qp is targeting aggressive cuts in its greenhouse gas emissions as it prepares to launch phase of its planned million ton per year lng expansion. in its latest sustainability report published on wednesday qp said its goals include reducing the emissions intensity of qatar s lng facilities by and of its upstream facilities by at least . the company is also aiming to reduce gas flaring intensity across its upstream facilities by more than and has raised its carbon capture and storage ambitions from million tons yr to million tons yr by . about . million tons yr of the carbon capture goal will come from the million ton yr phase of the lng expansion also known as the north field east project. a further . million tons yr will come from phase known as the north field south project which will raise qatar s lng capacity by a further million tons yr. qatar currently has an lng production capacity of around million tons yr and is eyeing a phased expansion to million tons yr. qp says it should be able to eliminate routine gas flaring by with methane emissions limited by setting a methane intensity target of . across all facilities by . the company also plans to build some . gigawatts of solar energy capacity by half of which should come from the siraj solar power project next year eif jan. . until this month there had been little news about phase of qatar s massive lng expansion. but mcdermott international said last week that it had been awarded the front end engineering and design contract for five offshore wellhead platforms lngi jan. . bids for construction of all four trains for phase of the lng expansion were submitted in september lngi sep. . but qp judged them to be too expensive and none met its targeted week construction schedule. shortlisted contractors were asked to look for cost savings and submit new bids. the contract which consultancy rystad estimates to be worth around billion is expected to be awarded by mar. . shortly after the construction contract is awarded qp is expected to select foreign investments partners to take stakes of up to in the phase trains. exxon mobil royal dutch shell total chevron conocophillips and eni have been shortlisted. qp has repeatedly said that it is prepared to proceed without international investment partners if it determines that the offers it receives are not sufficiently attractive. but the shortlisted companies are expected to bid aggressively for what is expected to be the world s lowest cost and most environmentally friendly lng lngi nov. . rafiq latta nicosia '"
            ],
            "application/vnd.google.colaboratory.intrinsic+json": {
              "type": "string"
            }
          },
          "metadata": {},
          "execution_count": 86
        }
      ]
    },
    {
      "cell_type": "code",
      "source": [
        "data_ids_sent = []\n",
        "\n",
        "for index, row in df.iterrows():\n",
        "    article_id = row['title']\n",
        "    article = row['content_cleaned_sent']\n",
        "\n",
        "    data_ids_sent.append({'article_id': article_id, 'content': article})\n"
      ],
      "metadata": {
        "id": "ksjkA06xc7F9"
      },
      "id": "ksjkA06xc7F9",
      "execution_count": 88,
      "outputs": []
    },
    {
      "cell_type": "markdown",
      "source": [
        "In order to train the S-BERT model we must tokenize the data into sentences instead of words."
      ],
      "metadata": {
        "id": "PDWpwh-TgWde"
      },
      "id": "PDWpwh-TgWde"
    },
    {
      "cell_type": "code",
      "source": [
        "corpus_sent_train = [entry['content'] for entry in data_ids_sent]\n",
        "# Tokenize the text into sentences\n",
        "tokenized_sentences = [sent_tokenize(article) for article in corpus_sent_train]\n",
        "# Flatten\n",
        "flattened_sentences = [sentence for sentences in tokenized_sentences for sentence in sentences]\n",
        "flattened_sentences[:10]"
      ],
      "metadata": {
        "colab": {
          "base_uri": "https://localhost:8080/"
        },
        "id": "5CHKtH_NdFpT",
        "outputId": "08b1ec1f-3ca5-4d90-b5af-0e7661675951"
      },
      "id": "5CHKtH_NdFpT",
      "execution_count": 103,
      "outputs": [
        {
          "output_type": "execute_result",
          "data": {
            "text/plain": [
              "[' qatar petroleum qp is targeting aggressive cuts in its greenhouse gas emissions as it prepares to launch phase of its planned million ton per year lng expansion.',\n",
              " 'in its latest sustainability report published on wednesday qp said its goals include reducing the emissions intensity of qatar s lng facilities by and of its upstream facilities by at least .',\n",
              " 'the company is also aiming to reduce gas flaring intensity across its upstream facilities by more than and has raised its carbon capture and storage ambitions from million tons yr to million tons yr by .',\n",
              " 'about .',\n",
              " 'million tons yr of the carbon capture goal will come from the million ton yr phase of the lng expansion also known as the north field east project.',\n",
              " 'a further .',\n",
              " 'million tons yr will come from phase known as the north field south project which will raise qatar s lng capacity by a further million tons yr. qatar currently has an lng production capacity of around million tons yr and is eyeing a phased expansion to million tons yr. qp says it should be able to eliminate routine gas flaring by with methane emissions limited by setting a methane intensity target of .',\n",
              " 'across all facilities by .',\n",
              " 'the company also plans to build some .',\n",
              " 'gigawatts of solar energy capacity by half of which should come from the siraj solar power project next year eif jan. .']"
            ]
          },
          "metadata": {},
          "execution_count": 103
        }
      ]
    },
    {
      "cell_type": "markdown",
      "source": [
        "Next we use the pre-trained S-BERT model to create embeddings for these sentences."
      ],
      "metadata": {
        "id": "aMjh0YFkgeBK"
      },
      "id": "aMjh0YFkgeBK"
    },
    {
      "cell_type": "code",
      "source": [
        "embeddings = model.encode(flattened_sentences, convert_to_tensor=True)"
      ],
      "metadata": {
        "id": "LN6VxszZdJxY"
      },
      "id": "LN6VxszZdJxY",
      "execution_count": 104,
      "outputs": []
    },
    {
      "cell_type": "markdown",
      "source": [
        "In order to see how successful our embeddings are we can query our embedded corpus. First we create some sample queries. We then create embeddings for these queries, and use the cosine similarity to find the sentences that are the most similar to our queries."
      ],
      "metadata": {
        "id": "iypKF7q4gq9k"
      },
      "id": "iypKF7q4gq9k"
    },
    {
      "cell_type": "code",
      "source": [
        "# Query sentences:\n",
        "queries = ['Cost of solar panels', 'Where is geothermal useful', 'Fossil fuel extraction projects']\n",
        "\n",
        "\n",
        "# Find the closest 5 sentences of the corpus for each query sentence based on cosine similarity\n",
        "top_k = min(5, len(flattened_sentences))\n",
        "for query in queries:\n",
        "    query_embedding = model.encode(query, convert_to_tensor=True)\n",
        "\n",
        "    # We use cosine-similarity and torch.topk to find the highest 5 scores\n",
        "    cos_scores = util.cos_sim(query_embedding, embeddings)[0]\n",
        "    top_results = torch.topk(cos_scores, k=top_k)\n",
        "\n",
        "    print(\"\\n\\n======================\\n\\n\")\n",
        "    print(\"Query:\", query)\n",
        "    print(\"\\nTop 5 most similar sentences in corpus:\")\n",
        "\n",
        "    for score, idx in zip(top_results[0], top_results[1]):\n",
        "        print(flattened_sentences[idx], \"(Score: {:.4f})\".format(score))"
      ],
      "metadata": {
        "colab": {
          "base_uri": "https://localhost:8080/"
        },
        "id": "QUvwbuA0eEXV",
        "outputId": "bec75330-dc6e-4dda-e099-49efa42ab765"
      },
      "id": "QUvwbuA0eEXV",
      "execution_count": 105,
      "outputs": [
        {
          "output_type": "stream",
          "name": "stdout",
          "text": [
            "\n",
            "\n",
            "======================\n",
            "\n",
            "\n",
            "Query: Cost of solar panels\n",
            "\n",
            "Top 5 most similar sentences in corpus:\n",
            "purchasing a solar panel is a hard cost. (Score: 0.7810)\n",
            "google cost per what solar panel . (Score: 0.7592)\n",
            "solar panels? (Score: 0.6995)\n",
            "with the average cost per watt of solar in the us at around . (Score: 0.6967)\n",
            "solar panels are such cheap commodities that they don t have to be more efficient than they are although lots of money is going into trying to eke out a bit more because when you are delivering billions of something a efficiency gain turns into a lot of electricity. (Score: 0.6881)\n",
            "\n",
            "\n",
            "======================\n",
            "\n",
            "\n",
            "Query: Where is geothermal useful\n",
            "\n",
            "Top 5 most similar sentences in corpus:\n",
            "familiar with geothermal technologies. (Score: 0.8605)\n",
            "geothermal is a burgeoning technology which has been picked up in some countries like iceland and the philippines which harnesses heat in the subsurface of the earth to generate electricity. (Score: 0.8440)\n",
            "geothermal is a burgeoning technology which has been picked up in some countries like iceland and the philippines which harnesses heat in the subsurface of the earth to generate electricity. (Score: 0.8440)\n",
            "today geothermal is mostly used for heating baths and swimming pools as well as for space and greenhouse heating. (Score: 0.8386)\n",
            "why do we love geothermal? (Score: 0.8375)\n",
            "\n",
            "\n",
            "======================\n",
            "\n",
            "\n",
            "Query: Fossil fuel extraction projects\n",
            "\n",
            "Top 5 most similar sentences in corpus:\n",
            "impact for natural gas extraction . (Score: 0.6533)\n",
            "much of the savings would come from greater efficiencies in fossil fuel extraction processing and delivery. (Score: 0.6272)\n",
            "many fossil fuel assets are simply old coal power plants and oil refineries in north america and europe being prime examples. (Score: 0.6172)\n",
            "remaining fossil fuels are used in the production of non energy goods like plastics in plants fitted with carbon capture and in sectors where low emissions technology options are scarce. (Score: 0.6169)\n",
            "the first is that the most accessible and cheapest to extract fossil fuels have already been dug up. (Score: 0.6169)\n"
          ]
        }
      ]
    },
    {
      "cell_type": "markdown",
      "source": [
        "The 'answers' to our queries are actually quite good. For instance the most similar sentences to \"Cost of solar panels\" successfully found references to prices. Something to note here is that it may be useful to retain the numbers in our corpus in case this information is useful for our final project. As in this case, this information is crucial for answering this question but is missing.\n",
        "\n",
        "Pre-trained sentence embedding models can be fine-tuned. This usually requires a dataset of sentences with some kind of similarity labelling, often done by hand. It may be possible to create such a dataset in our case by for example: labelling all sentences from the same article as having a high similarity. But this would be quite imprecise."
      ],
      "metadata": {
        "id": "WBPGFcw3hZGp"
      },
      "id": "WBPGFcw3hZGp"
    },
    {
      "cell_type": "markdown",
      "metadata": {
        "id": "-faQFpnZCZsV"
      },
      "source": [
        "# Model Evaluation"
      ],
      "id": "-faQFpnZCZsV"
    },
    {
      "cell_type": "markdown",
      "metadata": {
        "id": "buUgr_BqCgSr"
      },
      "source": [
        "Now we will compare our in house train word2vec models with a pre-trained model."
      ],
      "id": "buUgr_BqCgSr"
    },
    {
      "cell_type": "code",
      "source": [
        "# Set seeds for reproducibility\n",
        "SEED = 40\n",
        "torch.manual_seed(SEED)\n",
        "random.seed(SEED)\n",
        "np.random.seed(SEED)\n",
        "\n",
        "# Splitting the dataset into Training and Testing Data\n",
        "train_data, test_data, train_labels, test_labels = train_test_split(df_labeled[\"final_cleaned\"], df_labeled[\"topic\"], train_size=0.7, random_state=5)\n",
        "\n",
        "print(len(train_data), len(test_data), len(train_labels), len(test_labels))"
      ],
      "metadata": {
        "id": "TjPOBVS6dK1l"
      },
      "id": "TjPOBVS6dK1l",
      "execution_count": null,
      "outputs": []
    },
    {
      "cell_type": "code",
      "source": [
        "def read_corpus(data, tokens_only=False):\n",
        "    for i, line in enumerate(data):\n",
        "        tokens = gensim.utils.simple_preprocess(line)\n",
        "        if tokens_only:\n",
        "            yield tokens\n",
        "        else:\n",
        "            yield gensim.models.doc2vec.TaggedDocument(tokens, [i])\n",
        "\n",
        "train_corpus = list(read_corpus(train_data,tokens_only=True))\n",
        "test_corpus = list(read_corpus(test_data, tokens_only=True))"
      ],
      "metadata": {
        "id": "NmhLIIiApm55"
      },
      "id": "NmhLIIiApm55",
      "execution_count": null,
      "outputs": []
    },
    {
      "cell_type": "code",
      "execution_count": null,
      "metadata": {
        "id": "mvoyjI7nCctv"
      },
      "outputs": [],
      "source": [
        "\n",
        "import gensim.downloader as api\n",
        "wv = api.load('word2vec-google-news-300')"
      ],
      "id": "mvoyjI7nCctv"
    },
    {
      "cell_type": "code",
      "source": [
        "min_count = 5\n",
        "vector_size = 200\n",
        "workers=4\n",
        "\n",
        "gnews_model = Word2Vec(sentences=train_corpus, min_count=min_count,\n",
        "                               vector_size=vector_size,workers=workers,\n",
        "                               compute_loss=True, seed = 72, sg=1, hs=0, epochs=50)"
      ],
      "metadata": {
        "id": "MkfEhTUhc7o-"
      },
      "id": "MkfEhTUhc7o-",
      "execution_count": null,
      "outputs": []
    },
    {
      "cell_type": "code",
      "execution_count": null,
      "metadata": {
        "id": "HtaQl66lkDOq"
      },
      "outputs": [],
      "source": [
        "# getting the training loss value\n",
        "training_loss = gnews_model.get_latest_training_loss()\n",
        "print(training_loss)"
      ],
      "id": "HtaQl66lkDOq"
    },
    {
      "cell_type": "markdown",
      "metadata": {
        "id": "rvK9AYfrGU7M"
      },
      "source": [
        "Retrieve the vocabulary."
      ],
      "id": "rvK9AYfrGU7M"
    },
    {
      "cell_type": "code",
      "execution_count": null,
      "metadata": {
        "id": "TvYHCk0gGNZI"
      },
      "outputs": [],
      "source": [
        "for index, word in enumerate(gnews_model.wv.index_to_key):\n",
        "    if index == 10:\n",
        "        break\n",
        "    print(f\"word #{index}/{len(gnews_model.wv.index_to_key)} is {word}\")"
      ],
      "id": "TvYHCk0gGNZI"
    },
    {
      "cell_type": "markdown",
      "metadata": {
        "id": "xshK-CPqGYiI"
      },
      "source": [
        "Obtain word vectors availablie in the model"
      ],
      "id": "xshK-CPqGYiI"
    },
    {
      "cell_type": "code",
      "execution_count": null,
      "metadata": {
        "id": "_07n5D3oGTSe"
      },
      "outputs": [],
      "source": [
        "try:\n",
        "    vec_energy = gnews_model.wv['energy']\n",
        "except KeyError:\n",
        "    print(\"The word does not appear in this model\")"
      ],
      "id": "_07n5D3oGTSe"
    },
    {
      "cell_type": "code",
      "execution_count": null,
      "metadata": {
        "id": "X5Q-hjbiG6Yz"
      },
      "outputs": [],
      "source": [
        "# 5 most similar words to energy\n",
        "gnews_model.wv.most_similar(positive=['energy'], topn=5)"
      ],
      "id": "X5Q-hjbiG6Yz"
    },
    {
      "cell_type": "code",
      "execution_count": null,
      "metadata": {
        "id": "EdIKNssKGYE5"
      },
      "outputs": [],
      "source": [
        "pairs = [\n",
        "    ('energy', 'electricity'),\n",
        "    ('energy', 'solar'),\n",
        "    ('energy', 'gas'),\n",
        "    ('energy', 'clean'),\n",
        "    ('energy', 'climate'),\n",
        "]\n",
        "for w1, w2 in pairs:\n",
        "    print('%r\\t%r\\t%.2f' % (w1, w2, gnews_model.wv.similarity(w1, w2)))"
      ],
      "id": "EdIKNssKGYE5"
    },
    {
      "cell_type": "code",
      "execution_count": null,
      "metadata": {
        "id": "jKxesjwqkDOr"
      },
      "outputs": [],
      "source": [
        "# Word Analogy Evaluation\n",
        "analogies = gnews_model.wv.evaluate_word_analogies(datapath('questions-words.txt'))\n",
        "print(\"Analogies Score:\", analogies[0])"
      ],
      "id": "jKxesjwqkDOr"
    },
    {
      "cell_type": "code",
      "execution_count": null,
      "metadata": {
        "id": "bp6lIEf9kDOr"
      },
      "outputs": [],
      "source": [
        "# Word Similarity Evaluation\n",
        "gnews_model.wv.evaluate_word_pairs(datapath('wordsim353.tsv'))"
      ],
      "id": "bp6lIEf9kDOr"
    },
    {
      "cell_type": "markdown",
      "metadata": {
        "id": "1U35YdufkDOr"
      },
      "source": [
        "* Pearson correlation coefficient: 0.43\n",
        "* Significance: p-value = very close to zero\n",
        "* Spearman rank-order correlation coefficient: 0.4\n",
        "* Coverage: 18% (percentage of word pairs covered by the model)\n",
        "\n",
        "The Pearson correlation coefficient measures the linear relationship between the model's similarity scores and the human similarity judgments. In this case, the low p-value suggests that the correlation is statistically significant.\n",
        "\n",
        "The Spearman rank-order correlation measures how consistently two sets of rankings are related. A higher Spearman coefficient indicates a better performance in capturing the ordinal relationships.\n",
        "\n",
        "The coverage indicates the percentage of word pairs from the evaluation set that are present in the model's vocabulary.\n",
        "\n",
        "Overall, these metrics show a slight improvement from the CBOW word2vec model."
      ],
      "id": "1U35YdufkDOr"
    },
    {
      "cell_type": "markdown",
      "metadata": {
        "id": "i9RVFnlskDOr"
      },
      "source": [
        "The word embeddings made by the model can be visualised by reducing dimensionality of the words to 2 dimensions using tSNE."
      ],
      "id": "i9RVFnlskDOr"
    },
    {
      "cell_type": "code",
      "source": [
        "keys = ['energy', 'gas', 'wind', 'solar', 'geothermal', 'hydrogen', 'carbon',\n",
        "        'electric', 'renewable', 'technology', 'clean']\n",
        "\n",
        "embedding_clusters = []\n",
        "word_clusters = []\n",
        "for word in keys:\n",
        "    embeddings = []\n",
        "    words = []\n",
        "    for similar_word, _ in gnews_model.wv.most_similar(word, topn=30):\n",
        "        words.append(similar_word)\n",
        "        embeddings.append(gnews_model.wv.get_vector(similar_word))\n",
        "    embedding_clusters.append(embeddings)\n",
        "    word_clusters.append(words)\n",
        "\n",
        "embedding_clusters = np.array(embedding_clusters)\n",
        "n, m, k = embedding_clusters.shape\n",
        "tsne_model_en_2d = TSNE(perplexity=15, n_components=2, init='pca', n_iter=3500, random_state=32)\n",
        "embeddings_en_2d = np.array(tsne_model_en_2d.fit_transform(embedding_clusters.reshape(n * m, k))).reshape(n, m, 2)"
      ],
      "metadata": {
        "id": "RXdHSMcokDOr"
      },
      "execution_count": null,
      "outputs": [],
      "id": "RXdHSMcokDOr"
    },
    {
      "cell_type": "code",
      "source": [
        "tsne_plot_similar_words('Similar words from Pre-trained Word2Vec', keys, embeddings_en_2d, word_clusters, 0.7,\n",
        "                        'similar_words.png')"
      ],
      "metadata": {
        "id": "4eJSkIOskDOs"
      },
      "execution_count": null,
      "outputs": [],
      "id": "4eJSkIOskDOs"
    },
    {
      "cell_type": "code",
      "source": [
        "words = []\n",
        "embeddings = []\n",
        "for word in list(gnews_model.wv.key_to_index.keys()):\n",
        "    embeddings.append(skip_model.wv[word])\n",
        "    words.append(word)\n",
        "\n",
        "embeddings = np.array(embeddings)  # Convert the list to a NumPy array\n",
        "tsne_2d = TSNE(perplexity=30, n_components=2, init='pca', n_iter=3500, random_state=32)\n",
        "embeddings_2d = tsne_2d.fit_transform(embeddings)\n",
        "\n",
        "tsne_plot_2d('Word2Vec Pretrained Embeddings', embeddings_2d, a=0.1)"
      ],
      "metadata": {
        "id": "e7TqUkE3kDOs"
      },
      "execution_count": null,
      "outputs": [],
      "id": "e7TqUkE3kDOs"
    },
    {
      "cell_type": "markdown",
      "source": [
        "# RNN Classification"
      ],
      "metadata": {
        "id": "QABWHzKIuH3i"
      },
      "id": "QABWHzKIuH3i"
    },
    {
      "cell_type": "markdown",
      "metadata": {
        "id": "5gBjFPkvSA_G"
      },
      "source": [
        "RNN classification"
      ],
      "id": "5gBjFPkvSA_G"
    },
    {
      "cell_type": "code",
      "execution_count": null,
      "metadata": {
        "id": "d3fwF5YOSFVn"
      },
      "outputs": [],
      "source": [
        "# Complete the RNN class\n",
        "class RNNModel(nn.Module):\n",
        "    def __init__(self, input_size, hidden_size, num_layers, num_classes):\n",
        "        super(RNNModel, self).__init__()\n",
        "        self.hidden_size = hidden_size\n",
        "        self.num_layers = num_layers\n",
        "        self.rnn = nn.RNN(input_size, hidden_size, num_layers, batch_first=True)\n",
        "        self.fc = nn.Linear(hidden_size, num_classes)\n",
        "    def forward(self, x):\n",
        "        h0 = torch.zeros(self.num_layers, x.size(0), self.hidden_size)\n",
        "        out, _ = self.rnn(x, h0)\n",
        "        out = out[:, -1, :]\n",
        "        out = self.fc(out)\n",
        "        return out\n",
        "\n",
        "# # Initialize the model\n",
        "# rnn_model = RNNModel(input_size, hidden_size, num_layers, num_classes)\n",
        "# criterion = nn.CrossEntropyLoss()\n",
        "# optimizer = optim.Adam(rnn_model.parameters(), lr=0.01)\n",
        "\n",
        "# # Train the model for ten epochs and zero the gradients\n",
        "# for epoch in range(10):\n",
        "#     optimizer.zero_grad()\n",
        "#     outputs = rnn_model(X_train_seq)\n",
        "#     loss = criterion(outputs, y_train_seq)\n",
        "#     loss.backward()\n",
        "#     optimizer.step()\n",
        "#     print(f'Epoch: {epoch+1}, Loss: {loss.item()}')"
      ],
      "id": "d3fwF5YOSFVn"
    },
    {
      "cell_type": "code",
      "source": [
        "# from torch.nn.utils.rnn import pad_sequence\n",
        "\n",
        "# # Vectorize the training data\n",
        "# def vectorize_sequences(sequences, model):\n",
        "#     vectors = []\n",
        "#     for sequence in sequences:\n",
        "#         sequence_vectors = [skip_model.wv[word] for word in sequence if word in skip_model.wv]\n",
        "#         vectors.append(sequence_vectors)\n",
        "#     return np.array(vectors)\n",
        "\n",
        "# X_train_vectors = vectorize_sequences(train_data, skip_model)\n",
        "\n",
        "# padded_sequences = pad_sequence([torch.tensor(seq) for seq in X_train_vectors], batch_first=True)\n",
        "# X_train_tensors = padded_sequences\n",
        "\n",
        "# # Convert the vectors to PyTorch tensors\n",
        "# #X_train_tensors = torch.tensor(X_train_vectors)\n",
        "# y_train_tensors = torch.tensor(train_labels, dtype=torch.long)\n",
        "\n",
        "# # Split the data\n",
        "# X_train_tensors, X_val_tensors, y_train_tensors, y_val_tensors = train_test_split(\n",
        "#     X_train_tensors, y_train_tensors, test_size=0.2, random_state=42\n",
        "# )\n",
        "\n",
        "# # Define RNN parameters\n",
        "# input_size = X_train_tensors.shape[2]  # Number of features in the input (size of word embeddings)\n",
        "# hidden_size = 128\n",
        "# num_layers = 2\n",
        "# num_classes = len(set(y_train_seq))\n",
        "\n",
        "# # Initialize the model\n",
        "# rnn_model = RNNModel(input_size, hidden_size, num_layers, num_classes)\n",
        "# criterion = nn.CrossEntropyLoss()\n",
        "# optimizer = optim.Adam(rnn_model.parameters(), lr=0.01)\n",
        "\n",
        "# # Train the model for ten epochs and zero the gradients\n",
        "# for epoch in range(10):\n",
        "#     optimizer.zero_grad()\n",
        "#     outputs = rnn_model(X_train_tensors)\n",
        "#     loss = criterion(outputs, y_train_tensors)\n",
        "#     loss.backward()\n",
        "#     optimizer.step()\n",
        "    # print(f'Epoch: {epoch + 1}, Loss: {loss.item()}')"
      ],
      "metadata": {
        "id": "Jc4jebXD8wzh"
      },
      "execution_count": null,
      "outputs": [],
      "id": "Jc4jebXD8wzh"
    },
    {
      "cell_type": "markdown",
      "metadata": {
        "id": "h_y37lYMenJJ"
      },
      "source": [
        "Evaluate RNN model"
      ],
      "id": "h_y37lYMenJJ"
    },
    {
      "cell_type": "code",
      "execution_count": null,
      "metadata": {
        "id": "epJCj2nsemm4"
      },
      "outputs": [],
      "source": [
        "# # Create an instance of the metrics\n",
        "# accuracy = Accuracy(task=\"multiclass\", num_classes=3)\n",
        "# precision = Precision(task=\"multiclass\", num_classes=3)\n",
        "# recall = Recall(task=\"multiclass\", num_classes=3)\n",
        "# f1 = F1Score(task=\"multiclass\", num_classes=3)\n",
        "\n",
        "# # Generate the predictions\n",
        "# outputs = rnn_model(X_test_seq)\n",
        "# _, predicted = torch.max(outputs, 1)\n",
        "\n",
        "# # Calculate the metrics\n",
        "# accuracy_score = accuracy(predicted, y_test_seq)\n",
        "# precision_score = precision(predicted, y_test_seq)\n",
        "# recall_score = recall(predicted, y_test_seq)\n",
        "# f1_score = f1(predicted, y_test_seq)\n",
        "# print(\"RNN Model - Accuracy: {}, Precision: {}, Recall: {}, F1 Score: {}\".format(accuracy_score, precision_score, recall_score, f1_score))"
      ],
      "id": "epJCj2nsemm4"
    }
  ],
  "metadata": {
    "accelerator": "GPU",
    "colab": {
      "machine_shape": "hm",
      "provenance": [],
      "toc_visible": true,
      "include_colab_link": true
    },
    "kernelspec": {
      "display_name": "Python 3",
      "name": "python3"
    },
    "language_info": {
      "codemirror_mode": {
        "name": "ipython",
        "version": 3
      },
      "file_extension": ".py",
      "mimetype": "text/x-python",
      "name": "python",
      "nbconvert_exporter": "python",
      "pygments_lexer": "ipython3",
      "version": "3.9.13"
    },
    "toc": {
      "base_numbering": 1,
      "nav_menu": {},
      "number_sections": true,
      "sideBar": true,
      "skip_h1_title": false,
      "title_cell": "Table of Contents",
      "title_sidebar": "Contents",
      "toc_cell": false,
      "toc_position": {},
      "toc_section_display": true,
      "toc_window_display": false
    },
    "widgets": {
      "application/vnd.jupyter.widget-state+json": {
        "73310a3f78524e4789582eef3984ee8c": {
          "model_module": "@jupyter-widgets/controls",
          "model_name": "HBoxModel",
          "model_module_version": "1.5.0",
          "state": {
            "_dom_classes": [],
            "_model_module": "@jupyter-widgets/controls",
            "_model_module_version": "1.5.0",
            "_model_name": "HBoxModel",
            "_view_count": null,
            "_view_module": "@jupyter-widgets/controls",
            "_view_module_version": "1.5.0",
            "_view_name": "HBoxView",
            "box_style": "",
            "children": [
              "IPY_MODEL_f150cabb0a074877a14c8894ec6f6dad",
              "IPY_MODEL_46e7b5f500d94c7694f52ed045d259b2",
              "IPY_MODEL_17a7ecda8ee2409aa5cb6cb680b07e3c"
            ],
            "layout": "IPY_MODEL_1292c65644944523be7a11f85f2d3171"
          }
        },
        "f150cabb0a074877a14c8894ec6f6dad": {
          "model_module": "@jupyter-widgets/controls",
          "model_name": "HTMLModel",
          "model_module_version": "1.5.0",
          "state": {
            "_dom_classes": [],
            "_model_module": "@jupyter-widgets/controls",
            "_model_module_version": "1.5.0",
            "_model_name": "HTMLModel",
            "_view_count": null,
            "_view_module": "@jupyter-widgets/controls",
            "_view_module_version": "1.5.0",
            "_view_name": "HTMLView",
            "description": "",
            "description_tooltip": null,
            "layout": "IPY_MODEL_c3564b0f6dc945619a2cc682eebd2212",
            "placeholder": "​",
            "style": "IPY_MODEL_eb7d269ac9cf47ff9660ad2716ff5209",
            "value": ".gitattributes: 100%"
          }
        },
        "46e7b5f500d94c7694f52ed045d259b2": {
          "model_module": "@jupyter-widgets/controls",
          "model_name": "FloatProgressModel",
          "model_module_version": "1.5.0",
          "state": {
            "_dom_classes": [],
            "_model_module": "@jupyter-widgets/controls",
            "_model_module_version": "1.5.0",
            "_model_name": "FloatProgressModel",
            "_view_count": null,
            "_view_module": "@jupyter-widgets/controls",
            "_view_module_version": "1.5.0",
            "_view_name": "ProgressView",
            "bar_style": "success",
            "description": "",
            "description_tooltip": null,
            "layout": "IPY_MODEL_08460b0cf32f49da82782afa3d52fee7",
            "max": 1175,
            "min": 0,
            "orientation": "horizontal",
            "style": "IPY_MODEL_07b72c4120d447639b71be339818eda0",
            "value": 1175
          }
        },
        "17a7ecda8ee2409aa5cb6cb680b07e3c": {
          "model_module": "@jupyter-widgets/controls",
          "model_name": "HTMLModel",
          "model_module_version": "1.5.0",
          "state": {
            "_dom_classes": [],
            "_model_module": "@jupyter-widgets/controls",
            "_model_module_version": "1.5.0",
            "_model_name": "HTMLModel",
            "_view_count": null,
            "_view_module": "@jupyter-widgets/controls",
            "_view_module_version": "1.5.0",
            "_view_name": "HTMLView",
            "description": "",
            "description_tooltip": null,
            "layout": "IPY_MODEL_7da67893f413499ebdac2f6140626762",
            "placeholder": "​",
            "style": "IPY_MODEL_6e1d222d0d0842a5ad3575d551a3692c",
            "value": " 1.18k/1.18k [00:00&lt;00:00, 33.0kB/s]"
          }
        },
        "1292c65644944523be7a11f85f2d3171": {
          "model_module": "@jupyter-widgets/base",
          "model_name": "LayoutModel",
          "model_module_version": "1.2.0",
          "state": {
            "_model_module": "@jupyter-widgets/base",
            "_model_module_version": "1.2.0",
            "_model_name": "LayoutModel",
            "_view_count": null,
            "_view_module": "@jupyter-widgets/base",
            "_view_module_version": "1.2.0",
            "_view_name": "LayoutView",
            "align_content": null,
            "align_items": null,
            "align_self": null,
            "border": null,
            "bottom": null,
            "display": null,
            "flex": null,
            "flex_flow": null,
            "grid_area": null,
            "grid_auto_columns": null,
            "grid_auto_flow": null,
            "grid_auto_rows": null,
            "grid_column": null,
            "grid_gap": null,
            "grid_row": null,
            "grid_template_areas": null,
            "grid_template_columns": null,
            "grid_template_rows": null,
            "height": null,
            "justify_content": null,
            "justify_items": null,
            "left": null,
            "margin": null,
            "max_height": null,
            "max_width": null,
            "min_height": null,
            "min_width": null,
            "object_fit": null,
            "object_position": null,
            "order": null,
            "overflow": null,
            "overflow_x": null,
            "overflow_y": null,
            "padding": null,
            "right": null,
            "top": null,
            "visibility": null,
            "width": null
          }
        },
        "c3564b0f6dc945619a2cc682eebd2212": {
          "model_module": "@jupyter-widgets/base",
          "model_name": "LayoutModel",
          "model_module_version": "1.2.0",
          "state": {
            "_model_module": "@jupyter-widgets/base",
            "_model_module_version": "1.2.0",
            "_model_name": "LayoutModel",
            "_view_count": null,
            "_view_module": "@jupyter-widgets/base",
            "_view_module_version": "1.2.0",
            "_view_name": "LayoutView",
            "align_content": null,
            "align_items": null,
            "align_self": null,
            "border": null,
            "bottom": null,
            "display": null,
            "flex": null,
            "flex_flow": null,
            "grid_area": null,
            "grid_auto_columns": null,
            "grid_auto_flow": null,
            "grid_auto_rows": null,
            "grid_column": null,
            "grid_gap": null,
            "grid_row": null,
            "grid_template_areas": null,
            "grid_template_columns": null,
            "grid_template_rows": null,
            "height": null,
            "justify_content": null,
            "justify_items": null,
            "left": null,
            "margin": null,
            "max_height": null,
            "max_width": null,
            "min_height": null,
            "min_width": null,
            "object_fit": null,
            "object_position": null,
            "order": null,
            "overflow": null,
            "overflow_x": null,
            "overflow_y": null,
            "padding": null,
            "right": null,
            "top": null,
            "visibility": null,
            "width": null
          }
        },
        "eb7d269ac9cf47ff9660ad2716ff5209": {
          "model_module": "@jupyter-widgets/controls",
          "model_name": "DescriptionStyleModel",
          "model_module_version": "1.5.0",
          "state": {
            "_model_module": "@jupyter-widgets/controls",
            "_model_module_version": "1.5.0",
            "_model_name": "DescriptionStyleModel",
            "_view_count": null,
            "_view_module": "@jupyter-widgets/base",
            "_view_module_version": "1.2.0",
            "_view_name": "StyleView",
            "description_width": ""
          }
        },
        "08460b0cf32f49da82782afa3d52fee7": {
          "model_module": "@jupyter-widgets/base",
          "model_name": "LayoutModel",
          "model_module_version": "1.2.0",
          "state": {
            "_model_module": "@jupyter-widgets/base",
            "_model_module_version": "1.2.0",
            "_model_name": "LayoutModel",
            "_view_count": null,
            "_view_module": "@jupyter-widgets/base",
            "_view_module_version": "1.2.0",
            "_view_name": "LayoutView",
            "align_content": null,
            "align_items": null,
            "align_self": null,
            "border": null,
            "bottom": null,
            "display": null,
            "flex": null,
            "flex_flow": null,
            "grid_area": null,
            "grid_auto_columns": null,
            "grid_auto_flow": null,
            "grid_auto_rows": null,
            "grid_column": null,
            "grid_gap": null,
            "grid_row": null,
            "grid_template_areas": null,
            "grid_template_columns": null,
            "grid_template_rows": null,
            "height": null,
            "justify_content": null,
            "justify_items": null,
            "left": null,
            "margin": null,
            "max_height": null,
            "max_width": null,
            "min_height": null,
            "min_width": null,
            "object_fit": null,
            "object_position": null,
            "order": null,
            "overflow": null,
            "overflow_x": null,
            "overflow_y": null,
            "padding": null,
            "right": null,
            "top": null,
            "visibility": null,
            "width": null
          }
        },
        "07b72c4120d447639b71be339818eda0": {
          "model_module": "@jupyter-widgets/controls",
          "model_name": "ProgressStyleModel",
          "model_module_version": "1.5.0",
          "state": {
            "_model_module": "@jupyter-widgets/controls",
            "_model_module_version": "1.5.0",
            "_model_name": "ProgressStyleModel",
            "_view_count": null,
            "_view_module": "@jupyter-widgets/base",
            "_view_module_version": "1.2.0",
            "_view_name": "StyleView",
            "bar_color": null,
            "description_width": ""
          }
        },
        "7da67893f413499ebdac2f6140626762": {
          "model_module": "@jupyter-widgets/base",
          "model_name": "LayoutModel",
          "model_module_version": "1.2.0",
          "state": {
            "_model_module": "@jupyter-widgets/base",
            "_model_module_version": "1.2.0",
            "_model_name": "LayoutModel",
            "_view_count": null,
            "_view_module": "@jupyter-widgets/base",
            "_view_module_version": "1.2.0",
            "_view_name": "LayoutView",
            "align_content": null,
            "align_items": null,
            "align_self": null,
            "border": null,
            "bottom": null,
            "display": null,
            "flex": null,
            "flex_flow": null,
            "grid_area": null,
            "grid_auto_columns": null,
            "grid_auto_flow": null,
            "grid_auto_rows": null,
            "grid_column": null,
            "grid_gap": null,
            "grid_row": null,
            "grid_template_areas": null,
            "grid_template_columns": null,
            "grid_template_rows": null,
            "height": null,
            "justify_content": null,
            "justify_items": null,
            "left": null,
            "margin": null,
            "max_height": null,
            "max_width": null,
            "min_height": null,
            "min_width": null,
            "object_fit": null,
            "object_position": null,
            "order": null,
            "overflow": null,
            "overflow_x": null,
            "overflow_y": null,
            "padding": null,
            "right": null,
            "top": null,
            "visibility": null,
            "width": null
          }
        },
        "6e1d222d0d0842a5ad3575d551a3692c": {
          "model_module": "@jupyter-widgets/controls",
          "model_name": "DescriptionStyleModel",
          "model_module_version": "1.5.0",
          "state": {
            "_model_module": "@jupyter-widgets/controls",
            "_model_module_version": "1.5.0",
            "_model_name": "DescriptionStyleModel",
            "_view_count": null,
            "_view_module": "@jupyter-widgets/base",
            "_view_module_version": "1.2.0",
            "_view_name": "StyleView",
            "description_width": ""
          }
        },
        "0e490b5aa1d8408f8242a0ae1faedd0c": {
          "model_module": "@jupyter-widgets/controls",
          "model_name": "HBoxModel",
          "model_module_version": "1.5.0",
          "state": {
            "_dom_classes": [],
            "_model_module": "@jupyter-widgets/controls",
            "_model_module_version": "1.5.0",
            "_model_name": "HBoxModel",
            "_view_count": null,
            "_view_module": "@jupyter-widgets/controls",
            "_view_module_version": "1.5.0",
            "_view_name": "HBoxView",
            "box_style": "",
            "children": [
              "IPY_MODEL_1883cd5bfbf443e7b5e3b5304e78b87a",
              "IPY_MODEL_5f434136de5947e998c8339bffcee663",
              "IPY_MODEL_c8bec419c1224d798eeef0be48bc800c"
            ],
            "layout": "IPY_MODEL_41bcd0f0cb1b478e8afad2236b08b615"
          }
        },
        "1883cd5bfbf443e7b5e3b5304e78b87a": {
          "model_module": "@jupyter-widgets/controls",
          "model_name": "HTMLModel",
          "model_module_version": "1.5.0",
          "state": {
            "_dom_classes": [],
            "_model_module": "@jupyter-widgets/controls",
            "_model_module_version": "1.5.0",
            "_model_name": "HTMLModel",
            "_view_count": null,
            "_view_module": "@jupyter-widgets/controls",
            "_view_module_version": "1.5.0",
            "_view_name": "HTMLView",
            "description": "",
            "description_tooltip": null,
            "layout": "IPY_MODEL_1df80624095d477287821cf385e8f861",
            "placeholder": "​",
            "style": "IPY_MODEL_6833ecf056de4ce980a80bef609c9d9e",
            "value": "1_Pooling/config.json: 100%"
          }
        },
        "5f434136de5947e998c8339bffcee663": {
          "model_module": "@jupyter-widgets/controls",
          "model_name": "FloatProgressModel",
          "model_module_version": "1.5.0",
          "state": {
            "_dom_classes": [],
            "_model_module": "@jupyter-widgets/controls",
            "_model_module_version": "1.5.0",
            "_model_name": "FloatProgressModel",
            "_view_count": null,
            "_view_module": "@jupyter-widgets/controls",
            "_view_module_version": "1.5.0",
            "_view_name": "ProgressView",
            "bar_style": "success",
            "description": "",
            "description_tooltip": null,
            "layout": "IPY_MODEL_3c68f87380cc4b889441e5a7f4163bac",
            "max": 190,
            "min": 0,
            "orientation": "horizontal",
            "style": "IPY_MODEL_1a0871ffeeed4450b63e820753ff3bf2",
            "value": 190
          }
        },
        "c8bec419c1224d798eeef0be48bc800c": {
          "model_module": "@jupyter-widgets/controls",
          "model_name": "HTMLModel",
          "model_module_version": "1.5.0",
          "state": {
            "_dom_classes": [],
            "_model_module": "@jupyter-widgets/controls",
            "_model_module_version": "1.5.0",
            "_model_name": "HTMLModel",
            "_view_count": null,
            "_view_module": "@jupyter-widgets/controls",
            "_view_module_version": "1.5.0",
            "_view_name": "HTMLView",
            "description": "",
            "description_tooltip": null,
            "layout": "IPY_MODEL_1a38c24cb8b14b7db012428058d1399b",
            "placeholder": "​",
            "style": "IPY_MODEL_ec1eabae9f924916b12854a5140862dd",
            "value": " 190/190 [00:00&lt;00:00, 4.96kB/s]"
          }
        },
        "41bcd0f0cb1b478e8afad2236b08b615": {
          "model_module": "@jupyter-widgets/base",
          "model_name": "LayoutModel",
          "model_module_version": "1.2.0",
          "state": {
            "_model_module": "@jupyter-widgets/base",
            "_model_module_version": "1.2.0",
            "_model_name": "LayoutModel",
            "_view_count": null,
            "_view_module": "@jupyter-widgets/base",
            "_view_module_version": "1.2.0",
            "_view_name": "LayoutView",
            "align_content": null,
            "align_items": null,
            "align_self": null,
            "border": null,
            "bottom": null,
            "display": null,
            "flex": null,
            "flex_flow": null,
            "grid_area": null,
            "grid_auto_columns": null,
            "grid_auto_flow": null,
            "grid_auto_rows": null,
            "grid_column": null,
            "grid_gap": null,
            "grid_row": null,
            "grid_template_areas": null,
            "grid_template_columns": null,
            "grid_template_rows": null,
            "height": null,
            "justify_content": null,
            "justify_items": null,
            "left": null,
            "margin": null,
            "max_height": null,
            "max_width": null,
            "min_height": null,
            "min_width": null,
            "object_fit": null,
            "object_position": null,
            "order": null,
            "overflow": null,
            "overflow_x": null,
            "overflow_y": null,
            "padding": null,
            "right": null,
            "top": null,
            "visibility": null,
            "width": null
          }
        },
        "1df80624095d477287821cf385e8f861": {
          "model_module": "@jupyter-widgets/base",
          "model_name": "LayoutModel",
          "model_module_version": "1.2.0",
          "state": {
            "_model_module": "@jupyter-widgets/base",
            "_model_module_version": "1.2.0",
            "_model_name": "LayoutModel",
            "_view_count": null,
            "_view_module": "@jupyter-widgets/base",
            "_view_module_version": "1.2.0",
            "_view_name": "LayoutView",
            "align_content": null,
            "align_items": null,
            "align_self": null,
            "border": null,
            "bottom": null,
            "display": null,
            "flex": null,
            "flex_flow": null,
            "grid_area": null,
            "grid_auto_columns": null,
            "grid_auto_flow": null,
            "grid_auto_rows": null,
            "grid_column": null,
            "grid_gap": null,
            "grid_row": null,
            "grid_template_areas": null,
            "grid_template_columns": null,
            "grid_template_rows": null,
            "height": null,
            "justify_content": null,
            "justify_items": null,
            "left": null,
            "margin": null,
            "max_height": null,
            "max_width": null,
            "min_height": null,
            "min_width": null,
            "object_fit": null,
            "object_position": null,
            "order": null,
            "overflow": null,
            "overflow_x": null,
            "overflow_y": null,
            "padding": null,
            "right": null,
            "top": null,
            "visibility": null,
            "width": null
          }
        },
        "6833ecf056de4ce980a80bef609c9d9e": {
          "model_module": "@jupyter-widgets/controls",
          "model_name": "DescriptionStyleModel",
          "model_module_version": "1.5.0",
          "state": {
            "_model_module": "@jupyter-widgets/controls",
            "_model_module_version": "1.5.0",
            "_model_name": "DescriptionStyleModel",
            "_view_count": null,
            "_view_module": "@jupyter-widgets/base",
            "_view_module_version": "1.2.0",
            "_view_name": "StyleView",
            "description_width": ""
          }
        },
        "3c68f87380cc4b889441e5a7f4163bac": {
          "model_module": "@jupyter-widgets/base",
          "model_name": "LayoutModel",
          "model_module_version": "1.2.0",
          "state": {
            "_model_module": "@jupyter-widgets/base",
            "_model_module_version": "1.2.0",
            "_model_name": "LayoutModel",
            "_view_count": null,
            "_view_module": "@jupyter-widgets/base",
            "_view_module_version": "1.2.0",
            "_view_name": "LayoutView",
            "align_content": null,
            "align_items": null,
            "align_self": null,
            "border": null,
            "bottom": null,
            "display": null,
            "flex": null,
            "flex_flow": null,
            "grid_area": null,
            "grid_auto_columns": null,
            "grid_auto_flow": null,
            "grid_auto_rows": null,
            "grid_column": null,
            "grid_gap": null,
            "grid_row": null,
            "grid_template_areas": null,
            "grid_template_columns": null,
            "grid_template_rows": null,
            "height": null,
            "justify_content": null,
            "justify_items": null,
            "left": null,
            "margin": null,
            "max_height": null,
            "max_width": null,
            "min_height": null,
            "min_width": null,
            "object_fit": null,
            "object_position": null,
            "order": null,
            "overflow": null,
            "overflow_x": null,
            "overflow_y": null,
            "padding": null,
            "right": null,
            "top": null,
            "visibility": null,
            "width": null
          }
        },
        "1a0871ffeeed4450b63e820753ff3bf2": {
          "model_module": "@jupyter-widgets/controls",
          "model_name": "ProgressStyleModel",
          "model_module_version": "1.5.0",
          "state": {
            "_model_module": "@jupyter-widgets/controls",
            "_model_module_version": "1.5.0",
            "_model_name": "ProgressStyleModel",
            "_view_count": null,
            "_view_module": "@jupyter-widgets/base",
            "_view_module_version": "1.2.0",
            "_view_name": "StyleView",
            "bar_color": null,
            "description_width": ""
          }
        },
        "1a38c24cb8b14b7db012428058d1399b": {
          "model_module": "@jupyter-widgets/base",
          "model_name": "LayoutModel",
          "model_module_version": "1.2.0",
          "state": {
            "_model_module": "@jupyter-widgets/base",
            "_model_module_version": "1.2.0",
            "_model_name": "LayoutModel",
            "_view_count": null,
            "_view_module": "@jupyter-widgets/base",
            "_view_module_version": "1.2.0",
            "_view_name": "LayoutView",
            "align_content": null,
            "align_items": null,
            "align_self": null,
            "border": null,
            "bottom": null,
            "display": null,
            "flex": null,
            "flex_flow": null,
            "grid_area": null,
            "grid_auto_columns": null,
            "grid_auto_flow": null,
            "grid_auto_rows": null,
            "grid_column": null,
            "grid_gap": null,
            "grid_row": null,
            "grid_template_areas": null,
            "grid_template_columns": null,
            "grid_template_rows": null,
            "height": null,
            "justify_content": null,
            "justify_items": null,
            "left": null,
            "margin": null,
            "max_height": null,
            "max_width": null,
            "min_height": null,
            "min_width": null,
            "object_fit": null,
            "object_position": null,
            "order": null,
            "overflow": null,
            "overflow_x": null,
            "overflow_y": null,
            "padding": null,
            "right": null,
            "top": null,
            "visibility": null,
            "width": null
          }
        },
        "ec1eabae9f924916b12854a5140862dd": {
          "model_module": "@jupyter-widgets/controls",
          "model_name": "DescriptionStyleModel",
          "model_module_version": "1.5.0",
          "state": {
            "_model_module": "@jupyter-widgets/controls",
            "_model_module_version": "1.5.0",
            "_model_name": "DescriptionStyleModel",
            "_view_count": null,
            "_view_module": "@jupyter-widgets/base",
            "_view_module_version": "1.2.0",
            "_view_name": "StyleView",
            "description_width": ""
          }
        },
        "829c904720cd4399a68bd02b0cf66600": {
          "model_module": "@jupyter-widgets/controls",
          "model_name": "HBoxModel",
          "model_module_version": "1.5.0",
          "state": {
            "_dom_classes": [],
            "_model_module": "@jupyter-widgets/controls",
            "_model_module_version": "1.5.0",
            "_model_name": "HBoxModel",
            "_view_count": null,
            "_view_module": "@jupyter-widgets/controls",
            "_view_module_version": "1.5.0",
            "_view_name": "HBoxView",
            "box_style": "",
            "children": [
              "IPY_MODEL_103bebafe08c4374bb82892836ffc810",
              "IPY_MODEL_ce9e2b298a064e4586947f595985a46d",
              "IPY_MODEL_0bef5104beaa4310b10a5d5fb0321d70"
            ],
            "layout": "IPY_MODEL_0c16c2c0ebea4a8aa564e3756384ea3e"
          }
        },
        "103bebafe08c4374bb82892836ffc810": {
          "model_module": "@jupyter-widgets/controls",
          "model_name": "HTMLModel",
          "model_module_version": "1.5.0",
          "state": {
            "_dom_classes": [],
            "_model_module": "@jupyter-widgets/controls",
            "_model_module_version": "1.5.0",
            "_model_name": "HTMLModel",
            "_view_count": null,
            "_view_module": "@jupyter-widgets/controls",
            "_view_module_version": "1.5.0",
            "_view_name": "HTMLView",
            "description": "",
            "description_tooltip": null,
            "layout": "IPY_MODEL_f11b15fafc0b43d6be98f1d8f7955fae",
            "placeholder": "​",
            "style": "IPY_MODEL_5aa1e243f563425ba86604dc9db67734",
            "value": "README.md: 100%"
          }
        },
        "ce9e2b298a064e4586947f595985a46d": {
          "model_module": "@jupyter-widgets/controls",
          "model_name": "FloatProgressModel",
          "model_module_version": "1.5.0",
          "state": {
            "_dom_classes": [],
            "_model_module": "@jupyter-widgets/controls",
            "_model_module_version": "1.5.0",
            "_model_name": "FloatProgressModel",
            "_view_count": null,
            "_view_module": "@jupyter-widgets/controls",
            "_view_module_version": "1.5.0",
            "_view_name": "ProgressView",
            "bar_style": "success",
            "description": "",
            "description_tooltip": null,
            "layout": "IPY_MODEL_82a19dfc65a44fdc97285235d4c0a7fc",
            "max": 10610,
            "min": 0,
            "orientation": "horizontal",
            "style": "IPY_MODEL_379ad52418d448a9ac0359555389e8d5",
            "value": 10610
          }
        },
        "0bef5104beaa4310b10a5d5fb0321d70": {
          "model_module": "@jupyter-widgets/controls",
          "model_name": "HTMLModel",
          "model_module_version": "1.5.0",
          "state": {
            "_dom_classes": [],
            "_model_module": "@jupyter-widgets/controls",
            "_model_module_version": "1.5.0",
            "_model_name": "HTMLModel",
            "_view_count": null,
            "_view_module": "@jupyter-widgets/controls",
            "_view_module_version": "1.5.0",
            "_view_name": "HTMLView",
            "description": "",
            "description_tooltip": null,
            "layout": "IPY_MODEL_317ad3a154bb44939d52b923c6f209b1",
            "placeholder": "​",
            "style": "IPY_MODEL_0b4a5e83e3274c668b3f0602eb23be47",
            "value": " 10.6k/10.6k [00:00&lt;00:00, 306kB/s]"
          }
        },
        "0c16c2c0ebea4a8aa564e3756384ea3e": {
          "model_module": "@jupyter-widgets/base",
          "model_name": "LayoutModel",
          "model_module_version": "1.2.0",
          "state": {
            "_model_module": "@jupyter-widgets/base",
            "_model_module_version": "1.2.0",
            "_model_name": "LayoutModel",
            "_view_count": null,
            "_view_module": "@jupyter-widgets/base",
            "_view_module_version": "1.2.0",
            "_view_name": "LayoutView",
            "align_content": null,
            "align_items": null,
            "align_self": null,
            "border": null,
            "bottom": null,
            "display": null,
            "flex": null,
            "flex_flow": null,
            "grid_area": null,
            "grid_auto_columns": null,
            "grid_auto_flow": null,
            "grid_auto_rows": null,
            "grid_column": null,
            "grid_gap": null,
            "grid_row": null,
            "grid_template_areas": null,
            "grid_template_columns": null,
            "grid_template_rows": null,
            "height": null,
            "justify_content": null,
            "justify_items": null,
            "left": null,
            "margin": null,
            "max_height": null,
            "max_width": null,
            "min_height": null,
            "min_width": null,
            "object_fit": null,
            "object_position": null,
            "order": null,
            "overflow": null,
            "overflow_x": null,
            "overflow_y": null,
            "padding": null,
            "right": null,
            "top": null,
            "visibility": null,
            "width": null
          }
        },
        "f11b15fafc0b43d6be98f1d8f7955fae": {
          "model_module": "@jupyter-widgets/base",
          "model_name": "LayoutModel",
          "model_module_version": "1.2.0",
          "state": {
            "_model_module": "@jupyter-widgets/base",
            "_model_module_version": "1.2.0",
            "_model_name": "LayoutModel",
            "_view_count": null,
            "_view_module": "@jupyter-widgets/base",
            "_view_module_version": "1.2.0",
            "_view_name": "LayoutView",
            "align_content": null,
            "align_items": null,
            "align_self": null,
            "border": null,
            "bottom": null,
            "display": null,
            "flex": null,
            "flex_flow": null,
            "grid_area": null,
            "grid_auto_columns": null,
            "grid_auto_flow": null,
            "grid_auto_rows": null,
            "grid_column": null,
            "grid_gap": null,
            "grid_row": null,
            "grid_template_areas": null,
            "grid_template_columns": null,
            "grid_template_rows": null,
            "height": null,
            "justify_content": null,
            "justify_items": null,
            "left": null,
            "margin": null,
            "max_height": null,
            "max_width": null,
            "min_height": null,
            "min_width": null,
            "object_fit": null,
            "object_position": null,
            "order": null,
            "overflow": null,
            "overflow_x": null,
            "overflow_y": null,
            "padding": null,
            "right": null,
            "top": null,
            "visibility": null,
            "width": null
          }
        },
        "5aa1e243f563425ba86604dc9db67734": {
          "model_module": "@jupyter-widgets/controls",
          "model_name": "DescriptionStyleModel",
          "model_module_version": "1.5.0",
          "state": {
            "_model_module": "@jupyter-widgets/controls",
            "_model_module_version": "1.5.0",
            "_model_name": "DescriptionStyleModel",
            "_view_count": null,
            "_view_module": "@jupyter-widgets/base",
            "_view_module_version": "1.2.0",
            "_view_name": "StyleView",
            "description_width": ""
          }
        },
        "82a19dfc65a44fdc97285235d4c0a7fc": {
          "model_module": "@jupyter-widgets/base",
          "model_name": "LayoutModel",
          "model_module_version": "1.2.0",
          "state": {
            "_model_module": "@jupyter-widgets/base",
            "_model_module_version": "1.2.0",
            "_model_name": "LayoutModel",
            "_view_count": null,
            "_view_module": "@jupyter-widgets/base",
            "_view_module_version": "1.2.0",
            "_view_name": "LayoutView",
            "align_content": null,
            "align_items": null,
            "align_self": null,
            "border": null,
            "bottom": null,
            "display": null,
            "flex": null,
            "flex_flow": null,
            "grid_area": null,
            "grid_auto_columns": null,
            "grid_auto_flow": null,
            "grid_auto_rows": null,
            "grid_column": null,
            "grid_gap": null,
            "grid_row": null,
            "grid_template_areas": null,
            "grid_template_columns": null,
            "grid_template_rows": null,
            "height": null,
            "justify_content": null,
            "justify_items": null,
            "left": null,
            "margin": null,
            "max_height": null,
            "max_width": null,
            "min_height": null,
            "min_width": null,
            "object_fit": null,
            "object_position": null,
            "order": null,
            "overflow": null,
            "overflow_x": null,
            "overflow_y": null,
            "padding": null,
            "right": null,
            "top": null,
            "visibility": null,
            "width": null
          }
        },
        "379ad52418d448a9ac0359555389e8d5": {
          "model_module": "@jupyter-widgets/controls",
          "model_name": "ProgressStyleModel",
          "model_module_version": "1.5.0",
          "state": {
            "_model_module": "@jupyter-widgets/controls",
            "_model_module_version": "1.5.0",
            "_model_name": "ProgressStyleModel",
            "_view_count": null,
            "_view_module": "@jupyter-widgets/base",
            "_view_module_version": "1.2.0",
            "_view_name": "StyleView",
            "bar_color": null,
            "description_width": ""
          }
        },
        "317ad3a154bb44939d52b923c6f209b1": {
          "model_module": "@jupyter-widgets/base",
          "model_name": "LayoutModel",
          "model_module_version": "1.2.0",
          "state": {
            "_model_module": "@jupyter-widgets/base",
            "_model_module_version": "1.2.0",
            "_model_name": "LayoutModel",
            "_view_count": null,
            "_view_module": "@jupyter-widgets/base",
            "_view_module_version": "1.2.0",
            "_view_name": "LayoutView",
            "align_content": null,
            "align_items": null,
            "align_self": null,
            "border": null,
            "bottom": null,
            "display": null,
            "flex": null,
            "flex_flow": null,
            "grid_area": null,
            "grid_auto_columns": null,
            "grid_auto_flow": null,
            "grid_auto_rows": null,
            "grid_column": null,
            "grid_gap": null,
            "grid_row": null,
            "grid_template_areas": null,
            "grid_template_columns": null,
            "grid_template_rows": null,
            "height": null,
            "justify_content": null,
            "justify_items": null,
            "left": null,
            "margin": null,
            "max_height": null,
            "max_width": null,
            "min_height": null,
            "min_width": null,
            "object_fit": null,
            "object_position": null,
            "order": null,
            "overflow": null,
            "overflow_x": null,
            "overflow_y": null,
            "padding": null,
            "right": null,
            "top": null,
            "visibility": null,
            "width": null
          }
        },
        "0b4a5e83e3274c668b3f0602eb23be47": {
          "model_module": "@jupyter-widgets/controls",
          "model_name": "DescriptionStyleModel",
          "model_module_version": "1.5.0",
          "state": {
            "_model_module": "@jupyter-widgets/controls",
            "_model_module_version": "1.5.0",
            "_model_name": "DescriptionStyleModel",
            "_view_count": null,
            "_view_module": "@jupyter-widgets/base",
            "_view_module_version": "1.2.0",
            "_view_name": "StyleView",
            "description_width": ""
          }
        },
        "bcbc5a24044144edbc0e83d6f6717c4b": {
          "model_module": "@jupyter-widgets/controls",
          "model_name": "HBoxModel",
          "model_module_version": "1.5.0",
          "state": {
            "_dom_classes": [],
            "_model_module": "@jupyter-widgets/controls",
            "_model_module_version": "1.5.0",
            "_model_name": "HBoxModel",
            "_view_count": null,
            "_view_module": "@jupyter-widgets/controls",
            "_view_module_version": "1.5.0",
            "_view_name": "HBoxView",
            "box_style": "",
            "children": [
              "IPY_MODEL_17970fc94db8499880a9036db48c08dc",
              "IPY_MODEL_fe3674aaaadd4839bdc683633d3d9370",
              "IPY_MODEL_eb0f4d25b9d74eedb97478e05cac9ebb"
            ],
            "layout": "IPY_MODEL_a793e24415a74dac97c7e8233250cb31"
          }
        },
        "17970fc94db8499880a9036db48c08dc": {
          "model_module": "@jupyter-widgets/controls",
          "model_name": "HTMLModel",
          "model_module_version": "1.5.0",
          "state": {
            "_dom_classes": [],
            "_model_module": "@jupyter-widgets/controls",
            "_model_module_version": "1.5.0",
            "_model_name": "HTMLModel",
            "_view_count": null,
            "_view_module": "@jupyter-widgets/controls",
            "_view_module_version": "1.5.0",
            "_view_name": "HTMLView",
            "description": "",
            "description_tooltip": null,
            "layout": "IPY_MODEL_4eda535ac69c44339b748328e818ac28",
            "placeholder": "​",
            "style": "IPY_MODEL_e4bdd0dec2b34a24b1cbea62f97a4f04",
            "value": "config.json: 100%"
          }
        },
        "fe3674aaaadd4839bdc683633d3d9370": {
          "model_module": "@jupyter-widgets/controls",
          "model_name": "FloatProgressModel",
          "model_module_version": "1.5.0",
          "state": {
            "_dom_classes": [],
            "_model_module": "@jupyter-widgets/controls",
            "_model_module_version": "1.5.0",
            "_model_name": "FloatProgressModel",
            "_view_count": null,
            "_view_module": "@jupyter-widgets/controls",
            "_view_module_version": "1.5.0",
            "_view_name": "ProgressView",
            "bar_style": "success",
            "description": "",
            "description_tooltip": null,
            "layout": "IPY_MODEL_bcd2368f22da4d1a800830c07f943534",
            "max": 612,
            "min": 0,
            "orientation": "horizontal",
            "style": "IPY_MODEL_708dfa662028405aa975b083ba2ef785",
            "value": 612
          }
        },
        "eb0f4d25b9d74eedb97478e05cac9ebb": {
          "model_module": "@jupyter-widgets/controls",
          "model_name": "HTMLModel",
          "model_module_version": "1.5.0",
          "state": {
            "_dom_classes": [],
            "_model_module": "@jupyter-widgets/controls",
            "_model_module_version": "1.5.0",
            "_model_name": "HTMLModel",
            "_view_count": null,
            "_view_module": "@jupyter-widgets/controls",
            "_view_module_version": "1.5.0",
            "_view_name": "HTMLView",
            "description": "",
            "description_tooltip": null,
            "layout": "IPY_MODEL_a9480cfccd8047e2975e7dcf4cedff14",
            "placeholder": "​",
            "style": "IPY_MODEL_ab768b2f452946a3bb9340ffbd91ddc3",
            "value": " 612/612 [00:00&lt;00:00, 16.6kB/s]"
          }
        },
        "a793e24415a74dac97c7e8233250cb31": {
          "model_module": "@jupyter-widgets/base",
          "model_name": "LayoutModel",
          "model_module_version": "1.2.0",
          "state": {
            "_model_module": "@jupyter-widgets/base",
            "_model_module_version": "1.2.0",
            "_model_name": "LayoutModel",
            "_view_count": null,
            "_view_module": "@jupyter-widgets/base",
            "_view_module_version": "1.2.0",
            "_view_name": "LayoutView",
            "align_content": null,
            "align_items": null,
            "align_self": null,
            "border": null,
            "bottom": null,
            "display": null,
            "flex": null,
            "flex_flow": null,
            "grid_area": null,
            "grid_auto_columns": null,
            "grid_auto_flow": null,
            "grid_auto_rows": null,
            "grid_column": null,
            "grid_gap": null,
            "grid_row": null,
            "grid_template_areas": null,
            "grid_template_columns": null,
            "grid_template_rows": null,
            "height": null,
            "justify_content": null,
            "justify_items": null,
            "left": null,
            "margin": null,
            "max_height": null,
            "max_width": null,
            "min_height": null,
            "min_width": null,
            "object_fit": null,
            "object_position": null,
            "order": null,
            "overflow": null,
            "overflow_x": null,
            "overflow_y": null,
            "padding": null,
            "right": null,
            "top": null,
            "visibility": null,
            "width": null
          }
        },
        "4eda535ac69c44339b748328e818ac28": {
          "model_module": "@jupyter-widgets/base",
          "model_name": "LayoutModel",
          "model_module_version": "1.2.0",
          "state": {
            "_model_module": "@jupyter-widgets/base",
            "_model_module_version": "1.2.0",
            "_model_name": "LayoutModel",
            "_view_count": null,
            "_view_module": "@jupyter-widgets/base",
            "_view_module_version": "1.2.0",
            "_view_name": "LayoutView",
            "align_content": null,
            "align_items": null,
            "align_self": null,
            "border": null,
            "bottom": null,
            "display": null,
            "flex": null,
            "flex_flow": null,
            "grid_area": null,
            "grid_auto_columns": null,
            "grid_auto_flow": null,
            "grid_auto_rows": null,
            "grid_column": null,
            "grid_gap": null,
            "grid_row": null,
            "grid_template_areas": null,
            "grid_template_columns": null,
            "grid_template_rows": null,
            "height": null,
            "justify_content": null,
            "justify_items": null,
            "left": null,
            "margin": null,
            "max_height": null,
            "max_width": null,
            "min_height": null,
            "min_width": null,
            "object_fit": null,
            "object_position": null,
            "order": null,
            "overflow": null,
            "overflow_x": null,
            "overflow_y": null,
            "padding": null,
            "right": null,
            "top": null,
            "visibility": null,
            "width": null
          }
        },
        "e4bdd0dec2b34a24b1cbea62f97a4f04": {
          "model_module": "@jupyter-widgets/controls",
          "model_name": "DescriptionStyleModel",
          "model_module_version": "1.5.0",
          "state": {
            "_model_module": "@jupyter-widgets/controls",
            "_model_module_version": "1.5.0",
            "_model_name": "DescriptionStyleModel",
            "_view_count": null,
            "_view_module": "@jupyter-widgets/base",
            "_view_module_version": "1.2.0",
            "_view_name": "StyleView",
            "description_width": ""
          }
        },
        "bcd2368f22da4d1a800830c07f943534": {
          "model_module": "@jupyter-widgets/base",
          "model_name": "LayoutModel",
          "model_module_version": "1.2.0",
          "state": {
            "_model_module": "@jupyter-widgets/base",
            "_model_module_version": "1.2.0",
            "_model_name": "LayoutModel",
            "_view_count": null,
            "_view_module": "@jupyter-widgets/base",
            "_view_module_version": "1.2.0",
            "_view_name": "LayoutView",
            "align_content": null,
            "align_items": null,
            "align_self": null,
            "border": null,
            "bottom": null,
            "display": null,
            "flex": null,
            "flex_flow": null,
            "grid_area": null,
            "grid_auto_columns": null,
            "grid_auto_flow": null,
            "grid_auto_rows": null,
            "grid_column": null,
            "grid_gap": null,
            "grid_row": null,
            "grid_template_areas": null,
            "grid_template_columns": null,
            "grid_template_rows": null,
            "height": null,
            "justify_content": null,
            "justify_items": null,
            "left": null,
            "margin": null,
            "max_height": null,
            "max_width": null,
            "min_height": null,
            "min_width": null,
            "object_fit": null,
            "object_position": null,
            "order": null,
            "overflow": null,
            "overflow_x": null,
            "overflow_y": null,
            "padding": null,
            "right": null,
            "top": null,
            "visibility": null,
            "width": null
          }
        },
        "708dfa662028405aa975b083ba2ef785": {
          "model_module": "@jupyter-widgets/controls",
          "model_name": "ProgressStyleModel",
          "model_module_version": "1.5.0",
          "state": {
            "_model_module": "@jupyter-widgets/controls",
            "_model_module_version": "1.5.0",
            "_model_name": "ProgressStyleModel",
            "_view_count": null,
            "_view_module": "@jupyter-widgets/base",
            "_view_module_version": "1.2.0",
            "_view_name": "StyleView",
            "bar_color": null,
            "description_width": ""
          }
        },
        "a9480cfccd8047e2975e7dcf4cedff14": {
          "model_module": "@jupyter-widgets/base",
          "model_name": "LayoutModel",
          "model_module_version": "1.2.0",
          "state": {
            "_model_module": "@jupyter-widgets/base",
            "_model_module_version": "1.2.0",
            "_model_name": "LayoutModel",
            "_view_count": null,
            "_view_module": "@jupyter-widgets/base",
            "_view_module_version": "1.2.0",
            "_view_name": "LayoutView",
            "align_content": null,
            "align_items": null,
            "align_self": null,
            "border": null,
            "bottom": null,
            "display": null,
            "flex": null,
            "flex_flow": null,
            "grid_area": null,
            "grid_auto_columns": null,
            "grid_auto_flow": null,
            "grid_auto_rows": null,
            "grid_column": null,
            "grid_gap": null,
            "grid_row": null,
            "grid_template_areas": null,
            "grid_template_columns": null,
            "grid_template_rows": null,
            "height": null,
            "justify_content": null,
            "justify_items": null,
            "left": null,
            "margin": null,
            "max_height": null,
            "max_width": null,
            "min_height": null,
            "min_width": null,
            "object_fit": null,
            "object_position": null,
            "order": null,
            "overflow": null,
            "overflow_x": null,
            "overflow_y": null,
            "padding": null,
            "right": null,
            "top": null,
            "visibility": null,
            "width": null
          }
        },
        "ab768b2f452946a3bb9340ffbd91ddc3": {
          "model_module": "@jupyter-widgets/controls",
          "model_name": "DescriptionStyleModel",
          "model_module_version": "1.5.0",
          "state": {
            "_model_module": "@jupyter-widgets/controls",
            "_model_module_version": "1.5.0",
            "_model_name": "DescriptionStyleModel",
            "_view_count": null,
            "_view_module": "@jupyter-widgets/base",
            "_view_module_version": "1.2.0",
            "_view_name": "StyleView",
            "description_width": ""
          }
        },
        "fa96c8b65fba4471905479ae43fa6ede": {
          "model_module": "@jupyter-widgets/controls",
          "model_name": "HBoxModel",
          "model_module_version": "1.5.0",
          "state": {
            "_dom_classes": [],
            "_model_module": "@jupyter-widgets/controls",
            "_model_module_version": "1.5.0",
            "_model_name": "HBoxModel",
            "_view_count": null,
            "_view_module": "@jupyter-widgets/controls",
            "_view_module_version": "1.5.0",
            "_view_name": "HBoxView",
            "box_style": "",
            "children": [
              "IPY_MODEL_4577169c736d40e1baa5505c3f6ab04c",
              "IPY_MODEL_d9bec2cba1db43f4be1e4239eb01c8ca",
              "IPY_MODEL_0891c156d6e24abb91ef22224dddbf80"
            ],
            "layout": "IPY_MODEL_6f9270ad57bf432198ae9ffbbdbd15aa"
          }
        },
        "4577169c736d40e1baa5505c3f6ab04c": {
          "model_module": "@jupyter-widgets/controls",
          "model_name": "HTMLModel",
          "model_module_version": "1.5.0",
          "state": {
            "_dom_classes": [],
            "_model_module": "@jupyter-widgets/controls",
            "_model_module_version": "1.5.0",
            "_model_name": "HTMLModel",
            "_view_count": null,
            "_view_module": "@jupyter-widgets/controls",
            "_view_module_version": "1.5.0",
            "_view_name": "HTMLView",
            "description": "",
            "description_tooltip": null,
            "layout": "IPY_MODEL_c953c511e9b94e9ab25dba5a4c8e1abb",
            "placeholder": "​",
            "style": "IPY_MODEL_7a23a860700d464495cc57f82d8e02bb",
            "value": "config_sentence_transformers.json: 100%"
          }
        },
        "d9bec2cba1db43f4be1e4239eb01c8ca": {
          "model_module": "@jupyter-widgets/controls",
          "model_name": "FloatProgressModel",
          "model_module_version": "1.5.0",
          "state": {
            "_dom_classes": [],
            "_model_module": "@jupyter-widgets/controls",
            "_model_module_version": "1.5.0",
            "_model_name": "FloatProgressModel",
            "_view_count": null,
            "_view_module": "@jupyter-widgets/controls",
            "_view_module_version": "1.5.0",
            "_view_name": "ProgressView",
            "bar_style": "success",
            "description": "",
            "description_tooltip": null,
            "layout": "IPY_MODEL_e122a5f4de13474b921b5d20c663814a",
            "max": 116,
            "min": 0,
            "orientation": "horizontal",
            "style": "IPY_MODEL_8440619b19a04ffdb3ad6f9a85a18560",
            "value": 116
          }
        },
        "0891c156d6e24abb91ef22224dddbf80": {
          "model_module": "@jupyter-widgets/controls",
          "model_name": "HTMLModel",
          "model_module_version": "1.5.0",
          "state": {
            "_dom_classes": [],
            "_model_module": "@jupyter-widgets/controls",
            "_model_module_version": "1.5.0",
            "_model_name": "HTMLModel",
            "_view_count": null,
            "_view_module": "@jupyter-widgets/controls",
            "_view_module_version": "1.5.0",
            "_view_name": "HTMLView",
            "description": "",
            "description_tooltip": null,
            "layout": "IPY_MODEL_15161aeb03594048a749d01780b564f1",
            "placeholder": "​",
            "style": "IPY_MODEL_ec9269d5c0014e39a22cb8a2b083be64",
            "value": " 116/116 [00:00&lt;00:00, 3.31kB/s]"
          }
        },
        "6f9270ad57bf432198ae9ffbbdbd15aa": {
          "model_module": "@jupyter-widgets/base",
          "model_name": "LayoutModel",
          "model_module_version": "1.2.0",
          "state": {
            "_model_module": "@jupyter-widgets/base",
            "_model_module_version": "1.2.0",
            "_model_name": "LayoutModel",
            "_view_count": null,
            "_view_module": "@jupyter-widgets/base",
            "_view_module_version": "1.2.0",
            "_view_name": "LayoutView",
            "align_content": null,
            "align_items": null,
            "align_self": null,
            "border": null,
            "bottom": null,
            "display": null,
            "flex": null,
            "flex_flow": null,
            "grid_area": null,
            "grid_auto_columns": null,
            "grid_auto_flow": null,
            "grid_auto_rows": null,
            "grid_column": null,
            "grid_gap": null,
            "grid_row": null,
            "grid_template_areas": null,
            "grid_template_columns": null,
            "grid_template_rows": null,
            "height": null,
            "justify_content": null,
            "justify_items": null,
            "left": null,
            "margin": null,
            "max_height": null,
            "max_width": null,
            "min_height": null,
            "min_width": null,
            "object_fit": null,
            "object_position": null,
            "order": null,
            "overflow": null,
            "overflow_x": null,
            "overflow_y": null,
            "padding": null,
            "right": null,
            "top": null,
            "visibility": null,
            "width": null
          }
        },
        "c953c511e9b94e9ab25dba5a4c8e1abb": {
          "model_module": "@jupyter-widgets/base",
          "model_name": "LayoutModel",
          "model_module_version": "1.2.0",
          "state": {
            "_model_module": "@jupyter-widgets/base",
            "_model_module_version": "1.2.0",
            "_model_name": "LayoutModel",
            "_view_count": null,
            "_view_module": "@jupyter-widgets/base",
            "_view_module_version": "1.2.0",
            "_view_name": "LayoutView",
            "align_content": null,
            "align_items": null,
            "align_self": null,
            "border": null,
            "bottom": null,
            "display": null,
            "flex": null,
            "flex_flow": null,
            "grid_area": null,
            "grid_auto_columns": null,
            "grid_auto_flow": null,
            "grid_auto_rows": null,
            "grid_column": null,
            "grid_gap": null,
            "grid_row": null,
            "grid_template_areas": null,
            "grid_template_columns": null,
            "grid_template_rows": null,
            "height": null,
            "justify_content": null,
            "justify_items": null,
            "left": null,
            "margin": null,
            "max_height": null,
            "max_width": null,
            "min_height": null,
            "min_width": null,
            "object_fit": null,
            "object_position": null,
            "order": null,
            "overflow": null,
            "overflow_x": null,
            "overflow_y": null,
            "padding": null,
            "right": null,
            "top": null,
            "visibility": null,
            "width": null
          }
        },
        "7a23a860700d464495cc57f82d8e02bb": {
          "model_module": "@jupyter-widgets/controls",
          "model_name": "DescriptionStyleModel",
          "model_module_version": "1.5.0",
          "state": {
            "_model_module": "@jupyter-widgets/controls",
            "_model_module_version": "1.5.0",
            "_model_name": "DescriptionStyleModel",
            "_view_count": null,
            "_view_module": "@jupyter-widgets/base",
            "_view_module_version": "1.2.0",
            "_view_name": "StyleView",
            "description_width": ""
          }
        },
        "e122a5f4de13474b921b5d20c663814a": {
          "model_module": "@jupyter-widgets/base",
          "model_name": "LayoutModel",
          "model_module_version": "1.2.0",
          "state": {
            "_model_module": "@jupyter-widgets/base",
            "_model_module_version": "1.2.0",
            "_model_name": "LayoutModel",
            "_view_count": null,
            "_view_module": "@jupyter-widgets/base",
            "_view_module_version": "1.2.0",
            "_view_name": "LayoutView",
            "align_content": null,
            "align_items": null,
            "align_self": null,
            "border": null,
            "bottom": null,
            "display": null,
            "flex": null,
            "flex_flow": null,
            "grid_area": null,
            "grid_auto_columns": null,
            "grid_auto_flow": null,
            "grid_auto_rows": null,
            "grid_column": null,
            "grid_gap": null,
            "grid_row": null,
            "grid_template_areas": null,
            "grid_template_columns": null,
            "grid_template_rows": null,
            "height": null,
            "justify_content": null,
            "justify_items": null,
            "left": null,
            "margin": null,
            "max_height": null,
            "max_width": null,
            "min_height": null,
            "min_width": null,
            "object_fit": null,
            "object_position": null,
            "order": null,
            "overflow": null,
            "overflow_x": null,
            "overflow_y": null,
            "padding": null,
            "right": null,
            "top": null,
            "visibility": null,
            "width": null
          }
        },
        "8440619b19a04ffdb3ad6f9a85a18560": {
          "model_module": "@jupyter-widgets/controls",
          "model_name": "ProgressStyleModel",
          "model_module_version": "1.5.0",
          "state": {
            "_model_module": "@jupyter-widgets/controls",
            "_model_module_version": "1.5.0",
            "_model_name": "ProgressStyleModel",
            "_view_count": null,
            "_view_module": "@jupyter-widgets/base",
            "_view_module_version": "1.2.0",
            "_view_name": "StyleView",
            "bar_color": null,
            "description_width": ""
          }
        },
        "15161aeb03594048a749d01780b564f1": {
          "model_module": "@jupyter-widgets/base",
          "model_name": "LayoutModel",
          "model_module_version": "1.2.0",
          "state": {
            "_model_module": "@jupyter-widgets/base",
            "_model_module_version": "1.2.0",
            "_model_name": "LayoutModel",
            "_view_count": null,
            "_view_module": "@jupyter-widgets/base",
            "_view_module_version": "1.2.0",
            "_view_name": "LayoutView",
            "align_content": null,
            "align_items": null,
            "align_self": null,
            "border": null,
            "bottom": null,
            "display": null,
            "flex": null,
            "flex_flow": null,
            "grid_area": null,
            "grid_auto_columns": null,
            "grid_auto_flow": null,
            "grid_auto_rows": null,
            "grid_column": null,
            "grid_gap": null,
            "grid_row": null,
            "grid_template_areas": null,
            "grid_template_columns": null,
            "grid_template_rows": null,
            "height": null,
            "justify_content": null,
            "justify_items": null,
            "left": null,
            "margin": null,
            "max_height": null,
            "max_width": null,
            "min_height": null,
            "min_width": null,
            "object_fit": null,
            "object_position": null,
            "order": null,
            "overflow": null,
            "overflow_x": null,
            "overflow_y": null,
            "padding": null,
            "right": null,
            "top": null,
            "visibility": null,
            "width": null
          }
        },
        "ec9269d5c0014e39a22cb8a2b083be64": {
          "model_module": "@jupyter-widgets/controls",
          "model_name": "DescriptionStyleModel",
          "model_module_version": "1.5.0",
          "state": {
            "_model_module": "@jupyter-widgets/controls",
            "_model_module_version": "1.5.0",
            "_model_name": "DescriptionStyleModel",
            "_view_count": null,
            "_view_module": "@jupyter-widgets/base",
            "_view_module_version": "1.2.0",
            "_view_name": "StyleView",
            "description_width": ""
          }
        },
        "07e60f1c442143398faab98f457f5896": {
          "model_module": "@jupyter-widgets/controls",
          "model_name": "HBoxModel",
          "model_module_version": "1.5.0",
          "state": {
            "_dom_classes": [],
            "_model_module": "@jupyter-widgets/controls",
            "_model_module_version": "1.5.0",
            "_model_name": "HBoxModel",
            "_view_count": null,
            "_view_module": "@jupyter-widgets/controls",
            "_view_module_version": "1.5.0",
            "_view_name": "HBoxView",
            "box_style": "",
            "children": [
              "IPY_MODEL_efa9fff6704e450588e9dc2a4b4df001",
              "IPY_MODEL_8a92179ed64f4273b62530da143dfd18",
              "IPY_MODEL_dfb64f6163bc447c81fa86fd80c38a77"
            ],
            "layout": "IPY_MODEL_b05c58fdfad346dda91e1c17ba32482b"
          }
        },
        "efa9fff6704e450588e9dc2a4b4df001": {
          "model_module": "@jupyter-widgets/controls",
          "model_name": "HTMLModel",
          "model_module_version": "1.5.0",
          "state": {
            "_dom_classes": [],
            "_model_module": "@jupyter-widgets/controls",
            "_model_module_version": "1.5.0",
            "_model_name": "HTMLModel",
            "_view_count": null,
            "_view_module": "@jupyter-widgets/controls",
            "_view_module_version": "1.5.0",
            "_view_name": "HTMLView",
            "description": "",
            "description_tooltip": null,
            "layout": "IPY_MODEL_29fa673917ff4469a2436f395fab66b6",
            "placeholder": "​",
            "style": "IPY_MODEL_95e884dc0ca940a2af1ff7cbac78059b",
            "value": "data_config.json: 100%"
          }
        },
        "8a92179ed64f4273b62530da143dfd18": {
          "model_module": "@jupyter-widgets/controls",
          "model_name": "FloatProgressModel",
          "model_module_version": "1.5.0",
          "state": {
            "_dom_classes": [],
            "_model_module": "@jupyter-widgets/controls",
            "_model_module_version": "1.5.0",
            "_model_name": "FloatProgressModel",
            "_view_count": null,
            "_view_module": "@jupyter-widgets/controls",
            "_view_module_version": "1.5.0",
            "_view_name": "ProgressView",
            "bar_style": "success",
            "description": "",
            "description_tooltip": null,
            "layout": "IPY_MODEL_232078443a0d46fc87add4abfd3bedaa",
            "max": 39265,
            "min": 0,
            "orientation": "horizontal",
            "style": "IPY_MODEL_91dfc5da86ae44339cc114012218dc61",
            "value": 39265
          }
        },
        "dfb64f6163bc447c81fa86fd80c38a77": {
          "model_module": "@jupyter-widgets/controls",
          "model_name": "HTMLModel",
          "model_module_version": "1.5.0",
          "state": {
            "_dom_classes": [],
            "_model_module": "@jupyter-widgets/controls",
            "_model_module_version": "1.5.0",
            "_model_name": "HTMLModel",
            "_view_count": null,
            "_view_module": "@jupyter-widgets/controls",
            "_view_module_version": "1.5.0",
            "_view_name": "HTMLView",
            "description": "",
            "description_tooltip": null,
            "layout": "IPY_MODEL_46f776e380a04ce4ac8ed54ff303389e",
            "placeholder": "​",
            "style": "IPY_MODEL_fd57efd2fe844f93b1aa854aa28a00f7",
            "value": " 39.3k/39.3k [00:00&lt;00:00, 715kB/s]"
          }
        },
        "b05c58fdfad346dda91e1c17ba32482b": {
          "model_module": "@jupyter-widgets/base",
          "model_name": "LayoutModel",
          "model_module_version": "1.2.0",
          "state": {
            "_model_module": "@jupyter-widgets/base",
            "_model_module_version": "1.2.0",
            "_model_name": "LayoutModel",
            "_view_count": null,
            "_view_module": "@jupyter-widgets/base",
            "_view_module_version": "1.2.0",
            "_view_name": "LayoutView",
            "align_content": null,
            "align_items": null,
            "align_self": null,
            "border": null,
            "bottom": null,
            "display": null,
            "flex": null,
            "flex_flow": null,
            "grid_area": null,
            "grid_auto_columns": null,
            "grid_auto_flow": null,
            "grid_auto_rows": null,
            "grid_column": null,
            "grid_gap": null,
            "grid_row": null,
            "grid_template_areas": null,
            "grid_template_columns": null,
            "grid_template_rows": null,
            "height": null,
            "justify_content": null,
            "justify_items": null,
            "left": null,
            "margin": null,
            "max_height": null,
            "max_width": null,
            "min_height": null,
            "min_width": null,
            "object_fit": null,
            "object_position": null,
            "order": null,
            "overflow": null,
            "overflow_x": null,
            "overflow_y": null,
            "padding": null,
            "right": null,
            "top": null,
            "visibility": null,
            "width": null
          }
        },
        "29fa673917ff4469a2436f395fab66b6": {
          "model_module": "@jupyter-widgets/base",
          "model_name": "LayoutModel",
          "model_module_version": "1.2.0",
          "state": {
            "_model_module": "@jupyter-widgets/base",
            "_model_module_version": "1.2.0",
            "_model_name": "LayoutModel",
            "_view_count": null,
            "_view_module": "@jupyter-widgets/base",
            "_view_module_version": "1.2.0",
            "_view_name": "LayoutView",
            "align_content": null,
            "align_items": null,
            "align_self": null,
            "border": null,
            "bottom": null,
            "display": null,
            "flex": null,
            "flex_flow": null,
            "grid_area": null,
            "grid_auto_columns": null,
            "grid_auto_flow": null,
            "grid_auto_rows": null,
            "grid_column": null,
            "grid_gap": null,
            "grid_row": null,
            "grid_template_areas": null,
            "grid_template_columns": null,
            "grid_template_rows": null,
            "height": null,
            "justify_content": null,
            "justify_items": null,
            "left": null,
            "margin": null,
            "max_height": null,
            "max_width": null,
            "min_height": null,
            "min_width": null,
            "object_fit": null,
            "object_position": null,
            "order": null,
            "overflow": null,
            "overflow_x": null,
            "overflow_y": null,
            "padding": null,
            "right": null,
            "top": null,
            "visibility": null,
            "width": null
          }
        },
        "95e884dc0ca940a2af1ff7cbac78059b": {
          "model_module": "@jupyter-widgets/controls",
          "model_name": "DescriptionStyleModel",
          "model_module_version": "1.5.0",
          "state": {
            "_model_module": "@jupyter-widgets/controls",
            "_model_module_version": "1.5.0",
            "_model_name": "DescriptionStyleModel",
            "_view_count": null,
            "_view_module": "@jupyter-widgets/base",
            "_view_module_version": "1.2.0",
            "_view_name": "StyleView",
            "description_width": ""
          }
        },
        "232078443a0d46fc87add4abfd3bedaa": {
          "model_module": "@jupyter-widgets/base",
          "model_name": "LayoutModel",
          "model_module_version": "1.2.0",
          "state": {
            "_model_module": "@jupyter-widgets/base",
            "_model_module_version": "1.2.0",
            "_model_name": "LayoutModel",
            "_view_count": null,
            "_view_module": "@jupyter-widgets/base",
            "_view_module_version": "1.2.0",
            "_view_name": "LayoutView",
            "align_content": null,
            "align_items": null,
            "align_self": null,
            "border": null,
            "bottom": null,
            "display": null,
            "flex": null,
            "flex_flow": null,
            "grid_area": null,
            "grid_auto_columns": null,
            "grid_auto_flow": null,
            "grid_auto_rows": null,
            "grid_column": null,
            "grid_gap": null,
            "grid_row": null,
            "grid_template_areas": null,
            "grid_template_columns": null,
            "grid_template_rows": null,
            "height": null,
            "justify_content": null,
            "justify_items": null,
            "left": null,
            "margin": null,
            "max_height": null,
            "max_width": null,
            "min_height": null,
            "min_width": null,
            "object_fit": null,
            "object_position": null,
            "order": null,
            "overflow": null,
            "overflow_x": null,
            "overflow_y": null,
            "padding": null,
            "right": null,
            "top": null,
            "visibility": null,
            "width": null
          }
        },
        "91dfc5da86ae44339cc114012218dc61": {
          "model_module": "@jupyter-widgets/controls",
          "model_name": "ProgressStyleModel",
          "model_module_version": "1.5.0",
          "state": {
            "_model_module": "@jupyter-widgets/controls",
            "_model_module_version": "1.5.0",
            "_model_name": "ProgressStyleModel",
            "_view_count": null,
            "_view_module": "@jupyter-widgets/base",
            "_view_module_version": "1.2.0",
            "_view_name": "StyleView",
            "bar_color": null,
            "description_width": ""
          }
        },
        "46f776e380a04ce4ac8ed54ff303389e": {
          "model_module": "@jupyter-widgets/base",
          "model_name": "LayoutModel",
          "model_module_version": "1.2.0",
          "state": {
            "_model_module": "@jupyter-widgets/base",
            "_model_module_version": "1.2.0",
            "_model_name": "LayoutModel",
            "_view_count": null,
            "_view_module": "@jupyter-widgets/base",
            "_view_module_version": "1.2.0",
            "_view_name": "LayoutView",
            "align_content": null,
            "align_items": null,
            "align_self": null,
            "border": null,
            "bottom": null,
            "display": null,
            "flex": null,
            "flex_flow": null,
            "grid_area": null,
            "grid_auto_columns": null,
            "grid_auto_flow": null,
            "grid_auto_rows": null,
            "grid_column": null,
            "grid_gap": null,
            "grid_row": null,
            "grid_template_areas": null,
            "grid_template_columns": null,
            "grid_template_rows": null,
            "height": null,
            "justify_content": null,
            "justify_items": null,
            "left": null,
            "margin": null,
            "max_height": null,
            "max_width": null,
            "min_height": null,
            "min_width": null,
            "object_fit": null,
            "object_position": null,
            "order": null,
            "overflow": null,
            "overflow_x": null,
            "overflow_y": null,
            "padding": null,
            "right": null,
            "top": null,
            "visibility": null,
            "width": null
          }
        },
        "fd57efd2fe844f93b1aa854aa28a00f7": {
          "model_module": "@jupyter-widgets/controls",
          "model_name": "DescriptionStyleModel",
          "model_module_version": "1.5.0",
          "state": {
            "_model_module": "@jupyter-widgets/controls",
            "_model_module_version": "1.5.0",
            "_model_name": "DescriptionStyleModel",
            "_view_count": null,
            "_view_module": "@jupyter-widgets/base",
            "_view_module_version": "1.2.0",
            "_view_name": "StyleView",
            "description_width": ""
          }
        },
        "04077d872c7340bc835812d57f698798": {
          "model_module": "@jupyter-widgets/controls",
          "model_name": "HBoxModel",
          "model_module_version": "1.5.0",
          "state": {
            "_dom_classes": [],
            "_model_module": "@jupyter-widgets/controls",
            "_model_module_version": "1.5.0",
            "_model_name": "HBoxModel",
            "_view_count": null,
            "_view_module": "@jupyter-widgets/controls",
            "_view_module_version": "1.5.0",
            "_view_name": "HBoxView",
            "box_style": "",
            "children": [
              "IPY_MODEL_508651e98d87482e9f2fb7ad22dffc31",
              "IPY_MODEL_02da2ea23ad1489d91a7957547d6f513",
              "IPY_MODEL_536d9b7bf0614a99ab088bc2cd236233"
            ],
            "layout": "IPY_MODEL_1bad5a27fe3c4ac5b9eacc195de303e5"
          }
        },
        "508651e98d87482e9f2fb7ad22dffc31": {
          "model_module": "@jupyter-widgets/controls",
          "model_name": "HTMLModel",
          "model_module_version": "1.5.0",
          "state": {
            "_dom_classes": [],
            "_model_module": "@jupyter-widgets/controls",
            "_model_module_version": "1.5.0",
            "_model_name": "HTMLModel",
            "_view_count": null,
            "_view_module": "@jupyter-widgets/controls",
            "_view_module_version": "1.5.0",
            "_view_name": "HTMLView",
            "description": "",
            "description_tooltip": null,
            "layout": "IPY_MODEL_06e04d201a1f43709c754f62e2311dbe",
            "placeholder": "​",
            "style": "IPY_MODEL_3873f5749fb7416ea889128e96ddc8c1",
            "value": "pytorch_model.bin: 100%"
          }
        },
        "02da2ea23ad1489d91a7957547d6f513": {
          "model_module": "@jupyter-widgets/controls",
          "model_name": "FloatProgressModel",
          "model_module_version": "1.5.0",
          "state": {
            "_dom_classes": [],
            "_model_module": "@jupyter-widgets/controls",
            "_model_module_version": "1.5.0",
            "_model_name": "FloatProgressModel",
            "_view_count": null,
            "_view_module": "@jupyter-widgets/controls",
            "_view_module_version": "1.5.0",
            "_view_name": "ProgressView",
            "bar_style": "success",
            "description": "",
            "description_tooltip": null,
            "layout": "IPY_MODEL_0a8f6038b3144de78007e3e03f2d5312",
            "max": 90888945,
            "min": 0,
            "orientation": "horizontal",
            "style": "IPY_MODEL_47968f64e6ec405f9343a6c46cb117d7",
            "value": 90888945
          }
        },
        "536d9b7bf0614a99ab088bc2cd236233": {
          "model_module": "@jupyter-widgets/controls",
          "model_name": "HTMLModel",
          "model_module_version": "1.5.0",
          "state": {
            "_dom_classes": [],
            "_model_module": "@jupyter-widgets/controls",
            "_model_module_version": "1.5.0",
            "_model_name": "HTMLModel",
            "_view_count": null,
            "_view_module": "@jupyter-widgets/controls",
            "_view_module_version": "1.5.0",
            "_view_name": "HTMLView",
            "description": "",
            "description_tooltip": null,
            "layout": "IPY_MODEL_eda869258f53492cad89591085287a45",
            "placeholder": "​",
            "style": "IPY_MODEL_948a8ff0f6344a32956e89b4984f0d1c",
            "value": " 90.9M/90.9M [00:01&lt;00:00, 38.5MB/s]"
          }
        },
        "1bad5a27fe3c4ac5b9eacc195de303e5": {
          "model_module": "@jupyter-widgets/base",
          "model_name": "LayoutModel",
          "model_module_version": "1.2.0",
          "state": {
            "_model_module": "@jupyter-widgets/base",
            "_model_module_version": "1.2.0",
            "_model_name": "LayoutModel",
            "_view_count": null,
            "_view_module": "@jupyter-widgets/base",
            "_view_module_version": "1.2.0",
            "_view_name": "LayoutView",
            "align_content": null,
            "align_items": null,
            "align_self": null,
            "border": null,
            "bottom": null,
            "display": null,
            "flex": null,
            "flex_flow": null,
            "grid_area": null,
            "grid_auto_columns": null,
            "grid_auto_flow": null,
            "grid_auto_rows": null,
            "grid_column": null,
            "grid_gap": null,
            "grid_row": null,
            "grid_template_areas": null,
            "grid_template_columns": null,
            "grid_template_rows": null,
            "height": null,
            "justify_content": null,
            "justify_items": null,
            "left": null,
            "margin": null,
            "max_height": null,
            "max_width": null,
            "min_height": null,
            "min_width": null,
            "object_fit": null,
            "object_position": null,
            "order": null,
            "overflow": null,
            "overflow_x": null,
            "overflow_y": null,
            "padding": null,
            "right": null,
            "top": null,
            "visibility": null,
            "width": null
          }
        },
        "06e04d201a1f43709c754f62e2311dbe": {
          "model_module": "@jupyter-widgets/base",
          "model_name": "LayoutModel",
          "model_module_version": "1.2.0",
          "state": {
            "_model_module": "@jupyter-widgets/base",
            "_model_module_version": "1.2.0",
            "_model_name": "LayoutModel",
            "_view_count": null,
            "_view_module": "@jupyter-widgets/base",
            "_view_module_version": "1.2.0",
            "_view_name": "LayoutView",
            "align_content": null,
            "align_items": null,
            "align_self": null,
            "border": null,
            "bottom": null,
            "display": null,
            "flex": null,
            "flex_flow": null,
            "grid_area": null,
            "grid_auto_columns": null,
            "grid_auto_flow": null,
            "grid_auto_rows": null,
            "grid_column": null,
            "grid_gap": null,
            "grid_row": null,
            "grid_template_areas": null,
            "grid_template_columns": null,
            "grid_template_rows": null,
            "height": null,
            "justify_content": null,
            "justify_items": null,
            "left": null,
            "margin": null,
            "max_height": null,
            "max_width": null,
            "min_height": null,
            "min_width": null,
            "object_fit": null,
            "object_position": null,
            "order": null,
            "overflow": null,
            "overflow_x": null,
            "overflow_y": null,
            "padding": null,
            "right": null,
            "top": null,
            "visibility": null,
            "width": null
          }
        },
        "3873f5749fb7416ea889128e96ddc8c1": {
          "model_module": "@jupyter-widgets/controls",
          "model_name": "DescriptionStyleModel",
          "model_module_version": "1.5.0",
          "state": {
            "_model_module": "@jupyter-widgets/controls",
            "_model_module_version": "1.5.0",
            "_model_name": "DescriptionStyleModel",
            "_view_count": null,
            "_view_module": "@jupyter-widgets/base",
            "_view_module_version": "1.2.0",
            "_view_name": "StyleView",
            "description_width": ""
          }
        },
        "0a8f6038b3144de78007e3e03f2d5312": {
          "model_module": "@jupyter-widgets/base",
          "model_name": "LayoutModel",
          "model_module_version": "1.2.0",
          "state": {
            "_model_module": "@jupyter-widgets/base",
            "_model_module_version": "1.2.0",
            "_model_name": "LayoutModel",
            "_view_count": null,
            "_view_module": "@jupyter-widgets/base",
            "_view_module_version": "1.2.0",
            "_view_name": "LayoutView",
            "align_content": null,
            "align_items": null,
            "align_self": null,
            "border": null,
            "bottom": null,
            "display": null,
            "flex": null,
            "flex_flow": null,
            "grid_area": null,
            "grid_auto_columns": null,
            "grid_auto_flow": null,
            "grid_auto_rows": null,
            "grid_column": null,
            "grid_gap": null,
            "grid_row": null,
            "grid_template_areas": null,
            "grid_template_columns": null,
            "grid_template_rows": null,
            "height": null,
            "justify_content": null,
            "justify_items": null,
            "left": null,
            "margin": null,
            "max_height": null,
            "max_width": null,
            "min_height": null,
            "min_width": null,
            "object_fit": null,
            "object_position": null,
            "order": null,
            "overflow": null,
            "overflow_x": null,
            "overflow_y": null,
            "padding": null,
            "right": null,
            "top": null,
            "visibility": null,
            "width": null
          }
        },
        "47968f64e6ec405f9343a6c46cb117d7": {
          "model_module": "@jupyter-widgets/controls",
          "model_name": "ProgressStyleModel",
          "model_module_version": "1.5.0",
          "state": {
            "_model_module": "@jupyter-widgets/controls",
            "_model_module_version": "1.5.0",
            "_model_name": "ProgressStyleModel",
            "_view_count": null,
            "_view_module": "@jupyter-widgets/base",
            "_view_module_version": "1.2.0",
            "_view_name": "StyleView",
            "bar_color": null,
            "description_width": ""
          }
        },
        "eda869258f53492cad89591085287a45": {
          "model_module": "@jupyter-widgets/base",
          "model_name": "LayoutModel",
          "model_module_version": "1.2.0",
          "state": {
            "_model_module": "@jupyter-widgets/base",
            "_model_module_version": "1.2.0",
            "_model_name": "LayoutModel",
            "_view_count": null,
            "_view_module": "@jupyter-widgets/base",
            "_view_module_version": "1.2.0",
            "_view_name": "LayoutView",
            "align_content": null,
            "align_items": null,
            "align_self": null,
            "border": null,
            "bottom": null,
            "display": null,
            "flex": null,
            "flex_flow": null,
            "grid_area": null,
            "grid_auto_columns": null,
            "grid_auto_flow": null,
            "grid_auto_rows": null,
            "grid_column": null,
            "grid_gap": null,
            "grid_row": null,
            "grid_template_areas": null,
            "grid_template_columns": null,
            "grid_template_rows": null,
            "height": null,
            "justify_content": null,
            "justify_items": null,
            "left": null,
            "margin": null,
            "max_height": null,
            "max_width": null,
            "min_height": null,
            "min_width": null,
            "object_fit": null,
            "object_position": null,
            "order": null,
            "overflow": null,
            "overflow_x": null,
            "overflow_y": null,
            "padding": null,
            "right": null,
            "top": null,
            "visibility": null,
            "width": null
          }
        },
        "948a8ff0f6344a32956e89b4984f0d1c": {
          "model_module": "@jupyter-widgets/controls",
          "model_name": "DescriptionStyleModel",
          "model_module_version": "1.5.0",
          "state": {
            "_model_module": "@jupyter-widgets/controls",
            "_model_module_version": "1.5.0",
            "_model_name": "DescriptionStyleModel",
            "_view_count": null,
            "_view_module": "@jupyter-widgets/base",
            "_view_module_version": "1.2.0",
            "_view_name": "StyleView",
            "description_width": ""
          }
        },
        "0e461f3c4afc4c13b42124e669ac95a5": {
          "model_module": "@jupyter-widgets/controls",
          "model_name": "HBoxModel",
          "model_module_version": "1.5.0",
          "state": {
            "_dom_classes": [],
            "_model_module": "@jupyter-widgets/controls",
            "_model_module_version": "1.5.0",
            "_model_name": "HBoxModel",
            "_view_count": null,
            "_view_module": "@jupyter-widgets/controls",
            "_view_module_version": "1.5.0",
            "_view_name": "HBoxView",
            "box_style": "",
            "children": [
              "IPY_MODEL_a313f4957f2246c8885ff6f2223a6791",
              "IPY_MODEL_5b3ac04d2e3342478c14fa271ff88d38",
              "IPY_MODEL_0f55231c64b3484888202a88284eca56"
            ],
            "layout": "IPY_MODEL_1985b7666bbb48b3b551a9952eedf8bf"
          }
        },
        "a313f4957f2246c8885ff6f2223a6791": {
          "model_module": "@jupyter-widgets/controls",
          "model_name": "HTMLModel",
          "model_module_version": "1.5.0",
          "state": {
            "_dom_classes": [],
            "_model_module": "@jupyter-widgets/controls",
            "_model_module_version": "1.5.0",
            "_model_name": "HTMLModel",
            "_view_count": null,
            "_view_module": "@jupyter-widgets/controls",
            "_view_module_version": "1.5.0",
            "_view_name": "HTMLView",
            "description": "",
            "description_tooltip": null,
            "layout": "IPY_MODEL_3d9f4b9bb23348619049e2b636553419",
            "placeholder": "​",
            "style": "IPY_MODEL_6a36e3b02a434bdb8f45afd751f7c2e3",
            "value": "sentence_bert_config.json: 100%"
          }
        },
        "5b3ac04d2e3342478c14fa271ff88d38": {
          "model_module": "@jupyter-widgets/controls",
          "model_name": "FloatProgressModel",
          "model_module_version": "1.5.0",
          "state": {
            "_dom_classes": [],
            "_model_module": "@jupyter-widgets/controls",
            "_model_module_version": "1.5.0",
            "_model_name": "FloatProgressModel",
            "_view_count": null,
            "_view_module": "@jupyter-widgets/controls",
            "_view_module_version": "1.5.0",
            "_view_name": "ProgressView",
            "bar_style": "success",
            "description": "",
            "description_tooltip": null,
            "layout": "IPY_MODEL_94e0f686043b457882ef00bb07373ec4",
            "max": 53,
            "min": 0,
            "orientation": "horizontal",
            "style": "IPY_MODEL_c0a2eed719584a7b954e8ca304785fc6",
            "value": 53
          }
        },
        "0f55231c64b3484888202a88284eca56": {
          "model_module": "@jupyter-widgets/controls",
          "model_name": "HTMLModel",
          "model_module_version": "1.5.0",
          "state": {
            "_dom_classes": [],
            "_model_module": "@jupyter-widgets/controls",
            "_model_module_version": "1.5.0",
            "_model_name": "HTMLModel",
            "_view_count": null,
            "_view_module": "@jupyter-widgets/controls",
            "_view_module_version": "1.5.0",
            "_view_name": "HTMLView",
            "description": "",
            "description_tooltip": null,
            "layout": "IPY_MODEL_5970c628eca1459b8e7303480064b9bb",
            "placeholder": "​",
            "style": "IPY_MODEL_e57dde4a794a4957bc2c85f01d2bba5f",
            "value": " 53.0/53.0 [00:00&lt;00:00, 1.05kB/s]"
          }
        },
        "1985b7666bbb48b3b551a9952eedf8bf": {
          "model_module": "@jupyter-widgets/base",
          "model_name": "LayoutModel",
          "model_module_version": "1.2.0",
          "state": {
            "_model_module": "@jupyter-widgets/base",
            "_model_module_version": "1.2.0",
            "_model_name": "LayoutModel",
            "_view_count": null,
            "_view_module": "@jupyter-widgets/base",
            "_view_module_version": "1.2.0",
            "_view_name": "LayoutView",
            "align_content": null,
            "align_items": null,
            "align_self": null,
            "border": null,
            "bottom": null,
            "display": null,
            "flex": null,
            "flex_flow": null,
            "grid_area": null,
            "grid_auto_columns": null,
            "grid_auto_flow": null,
            "grid_auto_rows": null,
            "grid_column": null,
            "grid_gap": null,
            "grid_row": null,
            "grid_template_areas": null,
            "grid_template_columns": null,
            "grid_template_rows": null,
            "height": null,
            "justify_content": null,
            "justify_items": null,
            "left": null,
            "margin": null,
            "max_height": null,
            "max_width": null,
            "min_height": null,
            "min_width": null,
            "object_fit": null,
            "object_position": null,
            "order": null,
            "overflow": null,
            "overflow_x": null,
            "overflow_y": null,
            "padding": null,
            "right": null,
            "top": null,
            "visibility": null,
            "width": null
          }
        },
        "3d9f4b9bb23348619049e2b636553419": {
          "model_module": "@jupyter-widgets/base",
          "model_name": "LayoutModel",
          "model_module_version": "1.2.0",
          "state": {
            "_model_module": "@jupyter-widgets/base",
            "_model_module_version": "1.2.0",
            "_model_name": "LayoutModel",
            "_view_count": null,
            "_view_module": "@jupyter-widgets/base",
            "_view_module_version": "1.2.0",
            "_view_name": "LayoutView",
            "align_content": null,
            "align_items": null,
            "align_self": null,
            "border": null,
            "bottom": null,
            "display": null,
            "flex": null,
            "flex_flow": null,
            "grid_area": null,
            "grid_auto_columns": null,
            "grid_auto_flow": null,
            "grid_auto_rows": null,
            "grid_column": null,
            "grid_gap": null,
            "grid_row": null,
            "grid_template_areas": null,
            "grid_template_columns": null,
            "grid_template_rows": null,
            "height": null,
            "justify_content": null,
            "justify_items": null,
            "left": null,
            "margin": null,
            "max_height": null,
            "max_width": null,
            "min_height": null,
            "min_width": null,
            "object_fit": null,
            "object_position": null,
            "order": null,
            "overflow": null,
            "overflow_x": null,
            "overflow_y": null,
            "padding": null,
            "right": null,
            "top": null,
            "visibility": null,
            "width": null
          }
        },
        "6a36e3b02a434bdb8f45afd751f7c2e3": {
          "model_module": "@jupyter-widgets/controls",
          "model_name": "DescriptionStyleModel",
          "model_module_version": "1.5.0",
          "state": {
            "_model_module": "@jupyter-widgets/controls",
            "_model_module_version": "1.5.0",
            "_model_name": "DescriptionStyleModel",
            "_view_count": null,
            "_view_module": "@jupyter-widgets/base",
            "_view_module_version": "1.2.0",
            "_view_name": "StyleView",
            "description_width": ""
          }
        },
        "94e0f686043b457882ef00bb07373ec4": {
          "model_module": "@jupyter-widgets/base",
          "model_name": "LayoutModel",
          "model_module_version": "1.2.0",
          "state": {
            "_model_module": "@jupyter-widgets/base",
            "_model_module_version": "1.2.0",
            "_model_name": "LayoutModel",
            "_view_count": null,
            "_view_module": "@jupyter-widgets/base",
            "_view_module_version": "1.2.0",
            "_view_name": "LayoutView",
            "align_content": null,
            "align_items": null,
            "align_self": null,
            "border": null,
            "bottom": null,
            "display": null,
            "flex": null,
            "flex_flow": null,
            "grid_area": null,
            "grid_auto_columns": null,
            "grid_auto_flow": null,
            "grid_auto_rows": null,
            "grid_column": null,
            "grid_gap": null,
            "grid_row": null,
            "grid_template_areas": null,
            "grid_template_columns": null,
            "grid_template_rows": null,
            "height": null,
            "justify_content": null,
            "justify_items": null,
            "left": null,
            "margin": null,
            "max_height": null,
            "max_width": null,
            "min_height": null,
            "min_width": null,
            "object_fit": null,
            "object_position": null,
            "order": null,
            "overflow": null,
            "overflow_x": null,
            "overflow_y": null,
            "padding": null,
            "right": null,
            "top": null,
            "visibility": null,
            "width": null
          }
        },
        "c0a2eed719584a7b954e8ca304785fc6": {
          "model_module": "@jupyter-widgets/controls",
          "model_name": "ProgressStyleModel",
          "model_module_version": "1.5.0",
          "state": {
            "_model_module": "@jupyter-widgets/controls",
            "_model_module_version": "1.5.0",
            "_model_name": "ProgressStyleModel",
            "_view_count": null,
            "_view_module": "@jupyter-widgets/base",
            "_view_module_version": "1.2.0",
            "_view_name": "StyleView",
            "bar_color": null,
            "description_width": ""
          }
        },
        "5970c628eca1459b8e7303480064b9bb": {
          "model_module": "@jupyter-widgets/base",
          "model_name": "LayoutModel",
          "model_module_version": "1.2.0",
          "state": {
            "_model_module": "@jupyter-widgets/base",
            "_model_module_version": "1.2.0",
            "_model_name": "LayoutModel",
            "_view_count": null,
            "_view_module": "@jupyter-widgets/base",
            "_view_module_version": "1.2.0",
            "_view_name": "LayoutView",
            "align_content": null,
            "align_items": null,
            "align_self": null,
            "border": null,
            "bottom": null,
            "display": null,
            "flex": null,
            "flex_flow": null,
            "grid_area": null,
            "grid_auto_columns": null,
            "grid_auto_flow": null,
            "grid_auto_rows": null,
            "grid_column": null,
            "grid_gap": null,
            "grid_row": null,
            "grid_template_areas": null,
            "grid_template_columns": null,
            "grid_template_rows": null,
            "height": null,
            "justify_content": null,
            "justify_items": null,
            "left": null,
            "margin": null,
            "max_height": null,
            "max_width": null,
            "min_height": null,
            "min_width": null,
            "object_fit": null,
            "object_position": null,
            "order": null,
            "overflow": null,
            "overflow_x": null,
            "overflow_y": null,
            "padding": null,
            "right": null,
            "top": null,
            "visibility": null,
            "width": null
          }
        },
        "e57dde4a794a4957bc2c85f01d2bba5f": {
          "model_module": "@jupyter-widgets/controls",
          "model_name": "DescriptionStyleModel",
          "model_module_version": "1.5.0",
          "state": {
            "_model_module": "@jupyter-widgets/controls",
            "_model_module_version": "1.5.0",
            "_model_name": "DescriptionStyleModel",
            "_view_count": null,
            "_view_module": "@jupyter-widgets/base",
            "_view_module_version": "1.2.0",
            "_view_name": "StyleView",
            "description_width": ""
          }
        },
        "6a1e548c1fd645e8ad76ceb38fab396c": {
          "model_module": "@jupyter-widgets/controls",
          "model_name": "HBoxModel",
          "model_module_version": "1.5.0",
          "state": {
            "_dom_classes": [],
            "_model_module": "@jupyter-widgets/controls",
            "_model_module_version": "1.5.0",
            "_model_name": "HBoxModel",
            "_view_count": null,
            "_view_module": "@jupyter-widgets/controls",
            "_view_module_version": "1.5.0",
            "_view_name": "HBoxView",
            "box_style": "",
            "children": [
              "IPY_MODEL_366a6b270a81422bb821ac175f163c93",
              "IPY_MODEL_ebf9e9529d944953ad69a999aed65c37",
              "IPY_MODEL_57aa2ba9f4b544098777560bbda05b3b"
            ],
            "layout": "IPY_MODEL_183110e4ec3c4b8880f6d0abd35e8409"
          }
        },
        "366a6b270a81422bb821ac175f163c93": {
          "model_module": "@jupyter-widgets/controls",
          "model_name": "HTMLModel",
          "model_module_version": "1.5.0",
          "state": {
            "_dom_classes": [],
            "_model_module": "@jupyter-widgets/controls",
            "_model_module_version": "1.5.0",
            "_model_name": "HTMLModel",
            "_view_count": null,
            "_view_module": "@jupyter-widgets/controls",
            "_view_module_version": "1.5.0",
            "_view_name": "HTMLView",
            "description": "",
            "description_tooltip": null,
            "layout": "IPY_MODEL_9ec3f0f32d2044fbab81dd09e59647b5",
            "placeholder": "​",
            "style": "IPY_MODEL_1392cad8acbd489ba4c04e5398de4e60",
            "value": "special_tokens_map.json: 100%"
          }
        },
        "ebf9e9529d944953ad69a999aed65c37": {
          "model_module": "@jupyter-widgets/controls",
          "model_name": "FloatProgressModel",
          "model_module_version": "1.5.0",
          "state": {
            "_dom_classes": [],
            "_model_module": "@jupyter-widgets/controls",
            "_model_module_version": "1.5.0",
            "_model_name": "FloatProgressModel",
            "_view_count": null,
            "_view_module": "@jupyter-widgets/controls",
            "_view_module_version": "1.5.0",
            "_view_name": "ProgressView",
            "bar_style": "success",
            "description": "",
            "description_tooltip": null,
            "layout": "IPY_MODEL_3290792397804727b34678889e2d2551",
            "max": 112,
            "min": 0,
            "orientation": "horizontal",
            "style": "IPY_MODEL_2e6a388392d34ba48f23fc867998c7c5",
            "value": 112
          }
        },
        "57aa2ba9f4b544098777560bbda05b3b": {
          "model_module": "@jupyter-widgets/controls",
          "model_name": "HTMLModel",
          "model_module_version": "1.5.0",
          "state": {
            "_dom_classes": [],
            "_model_module": "@jupyter-widgets/controls",
            "_model_module_version": "1.5.0",
            "_model_name": "HTMLModel",
            "_view_count": null,
            "_view_module": "@jupyter-widgets/controls",
            "_view_module_version": "1.5.0",
            "_view_name": "HTMLView",
            "description": "",
            "description_tooltip": null,
            "layout": "IPY_MODEL_f7343e6520a443ff9ef85d3cea3bce24",
            "placeholder": "​",
            "style": "IPY_MODEL_9cdbf4a7b54d4d839b62afa9e6927574",
            "value": " 112/112 [00:00&lt;00:00, 3.00kB/s]"
          }
        },
        "183110e4ec3c4b8880f6d0abd35e8409": {
          "model_module": "@jupyter-widgets/base",
          "model_name": "LayoutModel",
          "model_module_version": "1.2.0",
          "state": {
            "_model_module": "@jupyter-widgets/base",
            "_model_module_version": "1.2.0",
            "_model_name": "LayoutModel",
            "_view_count": null,
            "_view_module": "@jupyter-widgets/base",
            "_view_module_version": "1.2.0",
            "_view_name": "LayoutView",
            "align_content": null,
            "align_items": null,
            "align_self": null,
            "border": null,
            "bottom": null,
            "display": null,
            "flex": null,
            "flex_flow": null,
            "grid_area": null,
            "grid_auto_columns": null,
            "grid_auto_flow": null,
            "grid_auto_rows": null,
            "grid_column": null,
            "grid_gap": null,
            "grid_row": null,
            "grid_template_areas": null,
            "grid_template_columns": null,
            "grid_template_rows": null,
            "height": null,
            "justify_content": null,
            "justify_items": null,
            "left": null,
            "margin": null,
            "max_height": null,
            "max_width": null,
            "min_height": null,
            "min_width": null,
            "object_fit": null,
            "object_position": null,
            "order": null,
            "overflow": null,
            "overflow_x": null,
            "overflow_y": null,
            "padding": null,
            "right": null,
            "top": null,
            "visibility": null,
            "width": null
          }
        },
        "9ec3f0f32d2044fbab81dd09e59647b5": {
          "model_module": "@jupyter-widgets/base",
          "model_name": "LayoutModel",
          "model_module_version": "1.2.0",
          "state": {
            "_model_module": "@jupyter-widgets/base",
            "_model_module_version": "1.2.0",
            "_model_name": "LayoutModel",
            "_view_count": null,
            "_view_module": "@jupyter-widgets/base",
            "_view_module_version": "1.2.0",
            "_view_name": "LayoutView",
            "align_content": null,
            "align_items": null,
            "align_self": null,
            "border": null,
            "bottom": null,
            "display": null,
            "flex": null,
            "flex_flow": null,
            "grid_area": null,
            "grid_auto_columns": null,
            "grid_auto_flow": null,
            "grid_auto_rows": null,
            "grid_column": null,
            "grid_gap": null,
            "grid_row": null,
            "grid_template_areas": null,
            "grid_template_columns": null,
            "grid_template_rows": null,
            "height": null,
            "justify_content": null,
            "justify_items": null,
            "left": null,
            "margin": null,
            "max_height": null,
            "max_width": null,
            "min_height": null,
            "min_width": null,
            "object_fit": null,
            "object_position": null,
            "order": null,
            "overflow": null,
            "overflow_x": null,
            "overflow_y": null,
            "padding": null,
            "right": null,
            "top": null,
            "visibility": null,
            "width": null
          }
        },
        "1392cad8acbd489ba4c04e5398de4e60": {
          "model_module": "@jupyter-widgets/controls",
          "model_name": "DescriptionStyleModel",
          "model_module_version": "1.5.0",
          "state": {
            "_model_module": "@jupyter-widgets/controls",
            "_model_module_version": "1.5.0",
            "_model_name": "DescriptionStyleModel",
            "_view_count": null,
            "_view_module": "@jupyter-widgets/base",
            "_view_module_version": "1.2.0",
            "_view_name": "StyleView",
            "description_width": ""
          }
        },
        "3290792397804727b34678889e2d2551": {
          "model_module": "@jupyter-widgets/base",
          "model_name": "LayoutModel",
          "model_module_version": "1.2.0",
          "state": {
            "_model_module": "@jupyter-widgets/base",
            "_model_module_version": "1.2.0",
            "_model_name": "LayoutModel",
            "_view_count": null,
            "_view_module": "@jupyter-widgets/base",
            "_view_module_version": "1.2.0",
            "_view_name": "LayoutView",
            "align_content": null,
            "align_items": null,
            "align_self": null,
            "border": null,
            "bottom": null,
            "display": null,
            "flex": null,
            "flex_flow": null,
            "grid_area": null,
            "grid_auto_columns": null,
            "grid_auto_flow": null,
            "grid_auto_rows": null,
            "grid_column": null,
            "grid_gap": null,
            "grid_row": null,
            "grid_template_areas": null,
            "grid_template_columns": null,
            "grid_template_rows": null,
            "height": null,
            "justify_content": null,
            "justify_items": null,
            "left": null,
            "margin": null,
            "max_height": null,
            "max_width": null,
            "min_height": null,
            "min_width": null,
            "object_fit": null,
            "object_position": null,
            "order": null,
            "overflow": null,
            "overflow_x": null,
            "overflow_y": null,
            "padding": null,
            "right": null,
            "top": null,
            "visibility": null,
            "width": null
          }
        },
        "2e6a388392d34ba48f23fc867998c7c5": {
          "model_module": "@jupyter-widgets/controls",
          "model_name": "ProgressStyleModel",
          "model_module_version": "1.5.0",
          "state": {
            "_model_module": "@jupyter-widgets/controls",
            "_model_module_version": "1.5.0",
            "_model_name": "ProgressStyleModel",
            "_view_count": null,
            "_view_module": "@jupyter-widgets/base",
            "_view_module_version": "1.2.0",
            "_view_name": "StyleView",
            "bar_color": null,
            "description_width": ""
          }
        },
        "f7343e6520a443ff9ef85d3cea3bce24": {
          "model_module": "@jupyter-widgets/base",
          "model_name": "LayoutModel",
          "model_module_version": "1.2.0",
          "state": {
            "_model_module": "@jupyter-widgets/base",
            "_model_module_version": "1.2.0",
            "_model_name": "LayoutModel",
            "_view_count": null,
            "_view_module": "@jupyter-widgets/base",
            "_view_module_version": "1.2.0",
            "_view_name": "LayoutView",
            "align_content": null,
            "align_items": null,
            "align_self": null,
            "border": null,
            "bottom": null,
            "display": null,
            "flex": null,
            "flex_flow": null,
            "grid_area": null,
            "grid_auto_columns": null,
            "grid_auto_flow": null,
            "grid_auto_rows": null,
            "grid_column": null,
            "grid_gap": null,
            "grid_row": null,
            "grid_template_areas": null,
            "grid_template_columns": null,
            "grid_template_rows": null,
            "height": null,
            "justify_content": null,
            "justify_items": null,
            "left": null,
            "margin": null,
            "max_height": null,
            "max_width": null,
            "min_height": null,
            "min_width": null,
            "object_fit": null,
            "object_position": null,
            "order": null,
            "overflow": null,
            "overflow_x": null,
            "overflow_y": null,
            "padding": null,
            "right": null,
            "top": null,
            "visibility": null,
            "width": null
          }
        },
        "9cdbf4a7b54d4d839b62afa9e6927574": {
          "model_module": "@jupyter-widgets/controls",
          "model_name": "DescriptionStyleModel",
          "model_module_version": "1.5.0",
          "state": {
            "_model_module": "@jupyter-widgets/controls",
            "_model_module_version": "1.5.0",
            "_model_name": "DescriptionStyleModel",
            "_view_count": null,
            "_view_module": "@jupyter-widgets/base",
            "_view_module_version": "1.2.0",
            "_view_name": "StyleView",
            "description_width": ""
          }
        },
        "b1681a15197543bf8ff26e18481acd32": {
          "model_module": "@jupyter-widgets/controls",
          "model_name": "HBoxModel",
          "model_module_version": "1.5.0",
          "state": {
            "_dom_classes": [],
            "_model_module": "@jupyter-widgets/controls",
            "_model_module_version": "1.5.0",
            "_model_name": "HBoxModel",
            "_view_count": null,
            "_view_module": "@jupyter-widgets/controls",
            "_view_module_version": "1.5.0",
            "_view_name": "HBoxView",
            "box_style": "",
            "children": [
              "IPY_MODEL_c07ea5056b2842ac9a6a2edc25c53df8",
              "IPY_MODEL_40a5facffd6b4dc382b87726ebfb3a6e",
              "IPY_MODEL_5e011e45236b41a585d91870920b28b0"
            ],
            "layout": "IPY_MODEL_ce6b674ee98644179467775c5c5f0985"
          }
        },
        "c07ea5056b2842ac9a6a2edc25c53df8": {
          "model_module": "@jupyter-widgets/controls",
          "model_name": "HTMLModel",
          "model_module_version": "1.5.0",
          "state": {
            "_dom_classes": [],
            "_model_module": "@jupyter-widgets/controls",
            "_model_module_version": "1.5.0",
            "_model_name": "HTMLModel",
            "_view_count": null,
            "_view_module": "@jupyter-widgets/controls",
            "_view_module_version": "1.5.0",
            "_view_name": "HTMLView",
            "description": "",
            "description_tooltip": null,
            "layout": "IPY_MODEL_6f7cd6482d824308a03137da8b92bd08",
            "placeholder": "​",
            "style": "IPY_MODEL_183d6471cfb14fac902faad10ed06dba",
            "value": "tokenizer.json: 100%"
          }
        },
        "40a5facffd6b4dc382b87726ebfb3a6e": {
          "model_module": "@jupyter-widgets/controls",
          "model_name": "FloatProgressModel",
          "model_module_version": "1.5.0",
          "state": {
            "_dom_classes": [],
            "_model_module": "@jupyter-widgets/controls",
            "_model_module_version": "1.5.0",
            "_model_name": "FloatProgressModel",
            "_view_count": null,
            "_view_module": "@jupyter-widgets/controls",
            "_view_module_version": "1.5.0",
            "_view_name": "ProgressView",
            "bar_style": "success",
            "description": "",
            "description_tooltip": null,
            "layout": "IPY_MODEL_5bfe31ae105845cea6f85465dbf0f4e6",
            "max": 466247,
            "min": 0,
            "orientation": "horizontal",
            "style": "IPY_MODEL_5ca3d1260cee45cdaf1a5432375b4fcf",
            "value": 466247
          }
        },
        "5e011e45236b41a585d91870920b28b0": {
          "model_module": "@jupyter-widgets/controls",
          "model_name": "HTMLModel",
          "model_module_version": "1.5.0",
          "state": {
            "_dom_classes": [],
            "_model_module": "@jupyter-widgets/controls",
            "_model_module_version": "1.5.0",
            "_model_name": "HTMLModel",
            "_view_count": null,
            "_view_module": "@jupyter-widgets/controls",
            "_view_module_version": "1.5.0",
            "_view_name": "HTMLView",
            "description": "",
            "description_tooltip": null,
            "layout": "IPY_MODEL_8aaf93b2479a47fe99a39f2178ea0fda",
            "placeholder": "​",
            "style": "IPY_MODEL_994474bd8b3341b694bdec32c6094ab1",
            "value": " 466k/466k [00:00&lt;00:00, 5.21MB/s]"
          }
        },
        "ce6b674ee98644179467775c5c5f0985": {
          "model_module": "@jupyter-widgets/base",
          "model_name": "LayoutModel",
          "model_module_version": "1.2.0",
          "state": {
            "_model_module": "@jupyter-widgets/base",
            "_model_module_version": "1.2.0",
            "_model_name": "LayoutModel",
            "_view_count": null,
            "_view_module": "@jupyter-widgets/base",
            "_view_module_version": "1.2.0",
            "_view_name": "LayoutView",
            "align_content": null,
            "align_items": null,
            "align_self": null,
            "border": null,
            "bottom": null,
            "display": null,
            "flex": null,
            "flex_flow": null,
            "grid_area": null,
            "grid_auto_columns": null,
            "grid_auto_flow": null,
            "grid_auto_rows": null,
            "grid_column": null,
            "grid_gap": null,
            "grid_row": null,
            "grid_template_areas": null,
            "grid_template_columns": null,
            "grid_template_rows": null,
            "height": null,
            "justify_content": null,
            "justify_items": null,
            "left": null,
            "margin": null,
            "max_height": null,
            "max_width": null,
            "min_height": null,
            "min_width": null,
            "object_fit": null,
            "object_position": null,
            "order": null,
            "overflow": null,
            "overflow_x": null,
            "overflow_y": null,
            "padding": null,
            "right": null,
            "top": null,
            "visibility": null,
            "width": null
          }
        },
        "6f7cd6482d824308a03137da8b92bd08": {
          "model_module": "@jupyter-widgets/base",
          "model_name": "LayoutModel",
          "model_module_version": "1.2.0",
          "state": {
            "_model_module": "@jupyter-widgets/base",
            "_model_module_version": "1.2.0",
            "_model_name": "LayoutModel",
            "_view_count": null,
            "_view_module": "@jupyter-widgets/base",
            "_view_module_version": "1.2.0",
            "_view_name": "LayoutView",
            "align_content": null,
            "align_items": null,
            "align_self": null,
            "border": null,
            "bottom": null,
            "display": null,
            "flex": null,
            "flex_flow": null,
            "grid_area": null,
            "grid_auto_columns": null,
            "grid_auto_flow": null,
            "grid_auto_rows": null,
            "grid_column": null,
            "grid_gap": null,
            "grid_row": null,
            "grid_template_areas": null,
            "grid_template_columns": null,
            "grid_template_rows": null,
            "height": null,
            "justify_content": null,
            "justify_items": null,
            "left": null,
            "margin": null,
            "max_height": null,
            "max_width": null,
            "min_height": null,
            "min_width": null,
            "object_fit": null,
            "object_position": null,
            "order": null,
            "overflow": null,
            "overflow_x": null,
            "overflow_y": null,
            "padding": null,
            "right": null,
            "top": null,
            "visibility": null,
            "width": null
          }
        },
        "183d6471cfb14fac902faad10ed06dba": {
          "model_module": "@jupyter-widgets/controls",
          "model_name": "DescriptionStyleModel",
          "model_module_version": "1.5.0",
          "state": {
            "_model_module": "@jupyter-widgets/controls",
            "_model_module_version": "1.5.0",
            "_model_name": "DescriptionStyleModel",
            "_view_count": null,
            "_view_module": "@jupyter-widgets/base",
            "_view_module_version": "1.2.0",
            "_view_name": "StyleView",
            "description_width": ""
          }
        },
        "5bfe31ae105845cea6f85465dbf0f4e6": {
          "model_module": "@jupyter-widgets/base",
          "model_name": "LayoutModel",
          "model_module_version": "1.2.0",
          "state": {
            "_model_module": "@jupyter-widgets/base",
            "_model_module_version": "1.2.0",
            "_model_name": "LayoutModel",
            "_view_count": null,
            "_view_module": "@jupyter-widgets/base",
            "_view_module_version": "1.2.0",
            "_view_name": "LayoutView",
            "align_content": null,
            "align_items": null,
            "align_self": null,
            "border": null,
            "bottom": null,
            "display": null,
            "flex": null,
            "flex_flow": null,
            "grid_area": null,
            "grid_auto_columns": null,
            "grid_auto_flow": null,
            "grid_auto_rows": null,
            "grid_column": null,
            "grid_gap": null,
            "grid_row": null,
            "grid_template_areas": null,
            "grid_template_columns": null,
            "grid_template_rows": null,
            "height": null,
            "justify_content": null,
            "justify_items": null,
            "left": null,
            "margin": null,
            "max_height": null,
            "max_width": null,
            "min_height": null,
            "min_width": null,
            "object_fit": null,
            "object_position": null,
            "order": null,
            "overflow": null,
            "overflow_x": null,
            "overflow_y": null,
            "padding": null,
            "right": null,
            "top": null,
            "visibility": null,
            "width": null
          }
        },
        "5ca3d1260cee45cdaf1a5432375b4fcf": {
          "model_module": "@jupyter-widgets/controls",
          "model_name": "ProgressStyleModel",
          "model_module_version": "1.5.0",
          "state": {
            "_model_module": "@jupyter-widgets/controls",
            "_model_module_version": "1.5.0",
            "_model_name": "ProgressStyleModel",
            "_view_count": null,
            "_view_module": "@jupyter-widgets/base",
            "_view_module_version": "1.2.0",
            "_view_name": "StyleView",
            "bar_color": null,
            "description_width": ""
          }
        },
        "8aaf93b2479a47fe99a39f2178ea0fda": {
          "model_module": "@jupyter-widgets/base",
          "model_name": "LayoutModel",
          "model_module_version": "1.2.0",
          "state": {
            "_model_module": "@jupyter-widgets/base",
            "_model_module_version": "1.2.0",
            "_model_name": "LayoutModel",
            "_view_count": null,
            "_view_module": "@jupyter-widgets/base",
            "_view_module_version": "1.2.0",
            "_view_name": "LayoutView",
            "align_content": null,
            "align_items": null,
            "align_self": null,
            "border": null,
            "bottom": null,
            "display": null,
            "flex": null,
            "flex_flow": null,
            "grid_area": null,
            "grid_auto_columns": null,
            "grid_auto_flow": null,
            "grid_auto_rows": null,
            "grid_column": null,
            "grid_gap": null,
            "grid_row": null,
            "grid_template_areas": null,
            "grid_template_columns": null,
            "grid_template_rows": null,
            "height": null,
            "justify_content": null,
            "justify_items": null,
            "left": null,
            "margin": null,
            "max_height": null,
            "max_width": null,
            "min_height": null,
            "min_width": null,
            "object_fit": null,
            "object_position": null,
            "order": null,
            "overflow": null,
            "overflow_x": null,
            "overflow_y": null,
            "padding": null,
            "right": null,
            "top": null,
            "visibility": null,
            "width": null
          }
        },
        "994474bd8b3341b694bdec32c6094ab1": {
          "model_module": "@jupyter-widgets/controls",
          "model_name": "DescriptionStyleModel",
          "model_module_version": "1.5.0",
          "state": {
            "_model_module": "@jupyter-widgets/controls",
            "_model_module_version": "1.5.0",
            "_model_name": "DescriptionStyleModel",
            "_view_count": null,
            "_view_module": "@jupyter-widgets/base",
            "_view_module_version": "1.2.0",
            "_view_name": "StyleView",
            "description_width": ""
          }
        },
        "e10718c150dc479bbaf9546bb642d05f": {
          "model_module": "@jupyter-widgets/controls",
          "model_name": "HBoxModel",
          "model_module_version": "1.5.0",
          "state": {
            "_dom_classes": [],
            "_model_module": "@jupyter-widgets/controls",
            "_model_module_version": "1.5.0",
            "_model_name": "HBoxModel",
            "_view_count": null,
            "_view_module": "@jupyter-widgets/controls",
            "_view_module_version": "1.5.0",
            "_view_name": "HBoxView",
            "box_style": "",
            "children": [
              "IPY_MODEL_415bc30a35834af28e2577137bdb5aab",
              "IPY_MODEL_46bc340d4e3e4854882ccf147ef24b12",
              "IPY_MODEL_4b6f839810974e61a491bed0ce0690c0"
            ],
            "layout": "IPY_MODEL_43b992f8160645be90fdfcf30a301b51"
          }
        },
        "415bc30a35834af28e2577137bdb5aab": {
          "model_module": "@jupyter-widgets/controls",
          "model_name": "HTMLModel",
          "model_module_version": "1.5.0",
          "state": {
            "_dom_classes": [],
            "_model_module": "@jupyter-widgets/controls",
            "_model_module_version": "1.5.0",
            "_model_name": "HTMLModel",
            "_view_count": null,
            "_view_module": "@jupyter-widgets/controls",
            "_view_module_version": "1.5.0",
            "_view_name": "HTMLView",
            "description": "",
            "description_tooltip": null,
            "layout": "IPY_MODEL_d3144be596874959bcc2c4f071631b76",
            "placeholder": "​",
            "style": "IPY_MODEL_be0217138efe4d8ca9b67c382d80f6c3",
            "value": "tokenizer_config.json: 100%"
          }
        },
        "46bc340d4e3e4854882ccf147ef24b12": {
          "model_module": "@jupyter-widgets/controls",
          "model_name": "FloatProgressModel",
          "model_module_version": "1.5.0",
          "state": {
            "_dom_classes": [],
            "_model_module": "@jupyter-widgets/controls",
            "_model_module_version": "1.5.0",
            "_model_name": "FloatProgressModel",
            "_view_count": null,
            "_view_module": "@jupyter-widgets/controls",
            "_view_module_version": "1.5.0",
            "_view_name": "ProgressView",
            "bar_style": "success",
            "description": "",
            "description_tooltip": null,
            "layout": "IPY_MODEL_6e53489794454f04b1ce3a238e10e6f2",
            "max": 350,
            "min": 0,
            "orientation": "horizontal",
            "style": "IPY_MODEL_a701629440b841a0aad7f729af2077d8",
            "value": 350
          }
        },
        "4b6f839810974e61a491bed0ce0690c0": {
          "model_module": "@jupyter-widgets/controls",
          "model_name": "HTMLModel",
          "model_module_version": "1.5.0",
          "state": {
            "_dom_classes": [],
            "_model_module": "@jupyter-widgets/controls",
            "_model_module_version": "1.5.0",
            "_model_name": "HTMLModel",
            "_view_count": null,
            "_view_module": "@jupyter-widgets/controls",
            "_view_module_version": "1.5.0",
            "_view_name": "HTMLView",
            "description": "",
            "description_tooltip": null,
            "layout": "IPY_MODEL_56eebd87a882458faf259a36234d8868",
            "placeholder": "​",
            "style": "IPY_MODEL_852d663dbc5c44eb80bf04a63a9d779e",
            "value": " 350/350 [00:00&lt;00:00, 5.86kB/s]"
          }
        },
        "43b992f8160645be90fdfcf30a301b51": {
          "model_module": "@jupyter-widgets/base",
          "model_name": "LayoutModel",
          "model_module_version": "1.2.0",
          "state": {
            "_model_module": "@jupyter-widgets/base",
            "_model_module_version": "1.2.0",
            "_model_name": "LayoutModel",
            "_view_count": null,
            "_view_module": "@jupyter-widgets/base",
            "_view_module_version": "1.2.0",
            "_view_name": "LayoutView",
            "align_content": null,
            "align_items": null,
            "align_self": null,
            "border": null,
            "bottom": null,
            "display": null,
            "flex": null,
            "flex_flow": null,
            "grid_area": null,
            "grid_auto_columns": null,
            "grid_auto_flow": null,
            "grid_auto_rows": null,
            "grid_column": null,
            "grid_gap": null,
            "grid_row": null,
            "grid_template_areas": null,
            "grid_template_columns": null,
            "grid_template_rows": null,
            "height": null,
            "justify_content": null,
            "justify_items": null,
            "left": null,
            "margin": null,
            "max_height": null,
            "max_width": null,
            "min_height": null,
            "min_width": null,
            "object_fit": null,
            "object_position": null,
            "order": null,
            "overflow": null,
            "overflow_x": null,
            "overflow_y": null,
            "padding": null,
            "right": null,
            "top": null,
            "visibility": null,
            "width": null
          }
        },
        "d3144be596874959bcc2c4f071631b76": {
          "model_module": "@jupyter-widgets/base",
          "model_name": "LayoutModel",
          "model_module_version": "1.2.0",
          "state": {
            "_model_module": "@jupyter-widgets/base",
            "_model_module_version": "1.2.0",
            "_model_name": "LayoutModel",
            "_view_count": null,
            "_view_module": "@jupyter-widgets/base",
            "_view_module_version": "1.2.0",
            "_view_name": "LayoutView",
            "align_content": null,
            "align_items": null,
            "align_self": null,
            "border": null,
            "bottom": null,
            "display": null,
            "flex": null,
            "flex_flow": null,
            "grid_area": null,
            "grid_auto_columns": null,
            "grid_auto_flow": null,
            "grid_auto_rows": null,
            "grid_column": null,
            "grid_gap": null,
            "grid_row": null,
            "grid_template_areas": null,
            "grid_template_columns": null,
            "grid_template_rows": null,
            "height": null,
            "justify_content": null,
            "justify_items": null,
            "left": null,
            "margin": null,
            "max_height": null,
            "max_width": null,
            "min_height": null,
            "min_width": null,
            "object_fit": null,
            "object_position": null,
            "order": null,
            "overflow": null,
            "overflow_x": null,
            "overflow_y": null,
            "padding": null,
            "right": null,
            "top": null,
            "visibility": null,
            "width": null
          }
        },
        "be0217138efe4d8ca9b67c382d80f6c3": {
          "model_module": "@jupyter-widgets/controls",
          "model_name": "DescriptionStyleModel",
          "model_module_version": "1.5.0",
          "state": {
            "_model_module": "@jupyter-widgets/controls",
            "_model_module_version": "1.5.0",
            "_model_name": "DescriptionStyleModel",
            "_view_count": null,
            "_view_module": "@jupyter-widgets/base",
            "_view_module_version": "1.2.0",
            "_view_name": "StyleView",
            "description_width": ""
          }
        },
        "6e53489794454f04b1ce3a238e10e6f2": {
          "model_module": "@jupyter-widgets/base",
          "model_name": "LayoutModel",
          "model_module_version": "1.2.0",
          "state": {
            "_model_module": "@jupyter-widgets/base",
            "_model_module_version": "1.2.0",
            "_model_name": "LayoutModel",
            "_view_count": null,
            "_view_module": "@jupyter-widgets/base",
            "_view_module_version": "1.2.0",
            "_view_name": "LayoutView",
            "align_content": null,
            "align_items": null,
            "align_self": null,
            "border": null,
            "bottom": null,
            "display": null,
            "flex": null,
            "flex_flow": null,
            "grid_area": null,
            "grid_auto_columns": null,
            "grid_auto_flow": null,
            "grid_auto_rows": null,
            "grid_column": null,
            "grid_gap": null,
            "grid_row": null,
            "grid_template_areas": null,
            "grid_template_columns": null,
            "grid_template_rows": null,
            "height": null,
            "justify_content": null,
            "justify_items": null,
            "left": null,
            "margin": null,
            "max_height": null,
            "max_width": null,
            "min_height": null,
            "min_width": null,
            "object_fit": null,
            "object_position": null,
            "order": null,
            "overflow": null,
            "overflow_x": null,
            "overflow_y": null,
            "padding": null,
            "right": null,
            "top": null,
            "visibility": null,
            "width": null
          }
        },
        "a701629440b841a0aad7f729af2077d8": {
          "model_module": "@jupyter-widgets/controls",
          "model_name": "ProgressStyleModel",
          "model_module_version": "1.5.0",
          "state": {
            "_model_module": "@jupyter-widgets/controls",
            "_model_module_version": "1.5.0",
            "_model_name": "ProgressStyleModel",
            "_view_count": null,
            "_view_module": "@jupyter-widgets/base",
            "_view_module_version": "1.2.0",
            "_view_name": "StyleView",
            "bar_color": null,
            "description_width": ""
          }
        },
        "56eebd87a882458faf259a36234d8868": {
          "model_module": "@jupyter-widgets/base",
          "model_name": "LayoutModel",
          "model_module_version": "1.2.0",
          "state": {
            "_model_module": "@jupyter-widgets/base",
            "_model_module_version": "1.2.0",
            "_model_name": "LayoutModel",
            "_view_count": null,
            "_view_module": "@jupyter-widgets/base",
            "_view_module_version": "1.2.0",
            "_view_name": "LayoutView",
            "align_content": null,
            "align_items": null,
            "align_self": null,
            "border": null,
            "bottom": null,
            "display": null,
            "flex": null,
            "flex_flow": null,
            "grid_area": null,
            "grid_auto_columns": null,
            "grid_auto_flow": null,
            "grid_auto_rows": null,
            "grid_column": null,
            "grid_gap": null,
            "grid_row": null,
            "grid_template_areas": null,
            "grid_template_columns": null,
            "grid_template_rows": null,
            "height": null,
            "justify_content": null,
            "justify_items": null,
            "left": null,
            "margin": null,
            "max_height": null,
            "max_width": null,
            "min_height": null,
            "min_width": null,
            "object_fit": null,
            "object_position": null,
            "order": null,
            "overflow": null,
            "overflow_x": null,
            "overflow_y": null,
            "padding": null,
            "right": null,
            "top": null,
            "visibility": null,
            "width": null
          }
        },
        "852d663dbc5c44eb80bf04a63a9d779e": {
          "model_module": "@jupyter-widgets/controls",
          "model_name": "DescriptionStyleModel",
          "model_module_version": "1.5.0",
          "state": {
            "_model_module": "@jupyter-widgets/controls",
            "_model_module_version": "1.5.0",
            "_model_name": "DescriptionStyleModel",
            "_view_count": null,
            "_view_module": "@jupyter-widgets/base",
            "_view_module_version": "1.2.0",
            "_view_name": "StyleView",
            "description_width": ""
          }
        },
        "ddb4ba8c129647f49ceeccf733f5e700": {
          "model_module": "@jupyter-widgets/controls",
          "model_name": "HBoxModel",
          "model_module_version": "1.5.0",
          "state": {
            "_dom_classes": [],
            "_model_module": "@jupyter-widgets/controls",
            "_model_module_version": "1.5.0",
            "_model_name": "HBoxModel",
            "_view_count": null,
            "_view_module": "@jupyter-widgets/controls",
            "_view_module_version": "1.5.0",
            "_view_name": "HBoxView",
            "box_style": "",
            "children": [
              "IPY_MODEL_23627296388f4d1abdaeff22078317a0",
              "IPY_MODEL_1d71fe15189644bb80272b9b7e378339",
              "IPY_MODEL_2cd11e6c230e479282620de969aaca85"
            ],
            "layout": "IPY_MODEL_b795896361874de5b33da286db8b2863"
          }
        },
        "23627296388f4d1abdaeff22078317a0": {
          "model_module": "@jupyter-widgets/controls",
          "model_name": "HTMLModel",
          "model_module_version": "1.5.0",
          "state": {
            "_dom_classes": [],
            "_model_module": "@jupyter-widgets/controls",
            "_model_module_version": "1.5.0",
            "_model_name": "HTMLModel",
            "_view_count": null,
            "_view_module": "@jupyter-widgets/controls",
            "_view_module_version": "1.5.0",
            "_view_name": "HTMLView",
            "description": "",
            "description_tooltip": null,
            "layout": "IPY_MODEL_1e8caa18ac8c4b94be1c9a2f16925ff6",
            "placeholder": "​",
            "style": "IPY_MODEL_e6a3745ffae44e73bd11ae96cd3b053d",
            "value": "train_script.py: 100%"
          }
        },
        "1d71fe15189644bb80272b9b7e378339": {
          "model_module": "@jupyter-widgets/controls",
          "model_name": "FloatProgressModel",
          "model_module_version": "1.5.0",
          "state": {
            "_dom_classes": [],
            "_model_module": "@jupyter-widgets/controls",
            "_model_module_version": "1.5.0",
            "_model_name": "FloatProgressModel",
            "_view_count": null,
            "_view_module": "@jupyter-widgets/controls",
            "_view_module_version": "1.5.0",
            "_view_name": "ProgressView",
            "bar_style": "success",
            "description": "",
            "description_tooltip": null,
            "layout": "IPY_MODEL_b502a2e277b94f6dbf489e753993ac64",
            "max": 13156,
            "min": 0,
            "orientation": "horizontal",
            "style": "IPY_MODEL_350a4819acce4a5885769673477a4a3e",
            "value": 13156
          }
        },
        "2cd11e6c230e479282620de969aaca85": {
          "model_module": "@jupyter-widgets/controls",
          "model_name": "HTMLModel",
          "model_module_version": "1.5.0",
          "state": {
            "_dom_classes": [],
            "_model_module": "@jupyter-widgets/controls",
            "_model_module_version": "1.5.0",
            "_model_name": "HTMLModel",
            "_view_count": null,
            "_view_module": "@jupyter-widgets/controls",
            "_view_module_version": "1.5.0",
            "_view_name": "HTMLView",
            "description": "",
            "description_tooltip": null,
            "layout": "IPY_MODEL_e846a2d6751f49128c7ad4a9a9792874",
            "placeholder": "​",
            "style": "IPY_MODEL_1a95f457ca034f06b377d7d6b76f85bf",
            "value": " 13.2k/13.2k [00:00&lt;00:00, 296kB/s]"
          }
        },
        "b795896361874de5b33da286db8b2863": {
          "model_module": "@jupyter-widgets/base",
          "model_name": "LayoutModel",
          "model_module_version": "1.2.0",
          "state": {
            "_model_module": "@jupyter-widgets/base",
            "_model_module_version": "1.2.0",
            "_model_name": "LayoutModel",
            "_view_count": null,
            "_view_module": "@jupyter-widgets/base",
            "_view_module_version": "1.2.0",
            "_view_name": "LayoutView",
            "align_content": null,
            "align_items": null,
            "align_self": null,
            "border": null,
            "bottom": null,
            "display": null,
            "flex": null,
            "flex_flow": null,
            "grid_area": null,
            "grid_auto_columns": null,
            "grid_auto_flow": null,
            "grid_auto_rows": null,
            "grid_column": null,
            "grid_gap": null,
            "grid_row": null,
            "grid_template_areas": null,
            "grid_template_columns": null,
            "grid_template_rows": null,
            "height": null,
            "justify_content": null,
            "justify_items": null,
            "left": null,
            "margin": null,
            "max_height": null,
            "max_width": null,
            "min_height": null,
            "min_width": null,
            "object_fit": null,
            "object_position": null,
            "order": null,
            "overflow": null,
            "overflow_x": null,
            "overflow_y": null,
            "padding": null,
            "right": null,
            "top": null,
            "visibility": null,
            "width": null
          }
        },
        "1e8caa18ac8c4b94be1c9a2f16925ff6": {
          "model_module": "@jupyter-widgets/base",
          "model_name": "LayoutModel",
          "model_module_version": "1.2.0",
          "state": {
            "_model_module": "@jupyter-widgets/base",
            "_model_module_version": "1.2.0",
            "_model_name": "LayoutModel",
            "_view_count": null,
            "_view_module": "@jupyter-widgets/base",
            "_view_module_version": "1.2.0",
            "_view_name": "LayoutView",
            "align_content": null,
            "align_items": null,
            "align_self": null,
            "border": null,
            "bottom": null,
            "display": null,
            "flex": null,
            "flex_flow": null,
            "grid_area": null,
            "grid_auto_columns": null,
            "grid_auto_flow": null,
            "grid_auto_rows": null,
            "grid_column": null,
            "grid_gap": null,
            "grid_row": null,
            "grid_template_areas": null,
            "grid_template_columns": null,
            "grid_template_rows": null,
            "height": null,
            "justify_content": null,
            "justify_items": null,
            "left": null,
            "margin": null,
            "max_height": null,
            "max_width": null,
            "min_height": null,
            "min_width": null,
            "object_fit": null,
            "object_position": null,
            "order": null,
            "overflow": null,
            "overflow_x": null,
            "overflow_y": null,
            "padding": null,
            "right": null,
            "top": null,
            "visibility": null,
            "width": null
          }
        },
        "e6a3745ffae44e73bd11ae96cd3b053d": {
          "model_module": "@jupyter-widgets/controls",
          "model_name": "DescriptionStyleModel",
          "model_module_version": "1.5.0",
          "state": {
            "_model_module": "@jupyter-widgets/controls",
            "_model_module_version": "1.5.0",
            "_model_name": "DescriptionStyleModel",
            "_view_count": null,
            "_view_module": "@jupyter-widgets/base",
            "_view_module_version": "1.2.0",
            "_view_name": "StyleView",
            "description_width": ""
          }
        },
        "b502a2e277b94f6dbf489e753993ac64": {
          "model_module": "@jupyter-widgets/base",
          "model_name": "LayoutModel",
          "model_module_version": "1.2.0",
          "state": {
            "_model_module": "@jupyter-widgets/base",
            "_model_module_version": "1.2.0",
            "_model_name": "LayoutModel",
            "_view_count": null,
            "_view_module": "@jupyter-widgets/base",
            "_view_module_version": "1.2.0",
            "_view_name": "LayoutView",
            "align_content": null,
            "align_items": null,
            "align_self": null,
            "border": null,
            "bottom": null,
            "display": null,
            "flex": null,
            "flex_flow": null,
            "grid_area": null,
            "grid_auto_columns": null,
            "grid_auto_flow": null,
            "grid_auto_rows": null,
            "grid_column": null,
            "grid_gap": null,
            "grid_row": null,
            "grid_template_areas": null,
            "grid_template_columns": null,
            "grid_template_rows": null,
            "height": null,
            "justify_content": null,
            "justify_items": null,
            "left": null,
            "margin": null,
            "max_height": null,
            "max_width": null,
            "min_height": null,
            "min_width": null,
            "object_fit": null,
            "object_position": null,
            "order": null,
            "overflow": null,
            "overflow_x": null,
            "overflow_y": null,
            "padding": null,
            "right": null,
            "top": null,
            "visibility": null,
            "width": null
          }
        },
        "350a4819acce4a5885769673477a4a3e": {
          "model_module": "@jupyter-widgets/controls",
          "model_name": "ProgressStyleModel",
          "model_module_version": "1.5.0",
          "state": {
            "_model_module": "@jupyter-widgets/controls",
            "_model_module_version": "1.5.0",
            "_model_name": "ProgressStyleModel",
            "_view_count": null,
            "_view_module": "@jupyter-widgets/base",
            "_view_module_version": "1.2.0",
            "_view_name": "StyleView",
            "bar_color": null,
            "description_width": ""
          }
        },
        "e846a2d6751f49128c7ad4a9a9792874": {
          "model_module": "@jupyter-widgets/base",
          "model_name": "LayoutModel",
          "model_module_version": "1.2.0",
          "state": {
            "_model_module": "@jupyter-widgets/base",
            "_model_module_version": "1.2.0",
            "_model_name": "LayoutModel",
            "_view_count": null,
            "_view_module": "@jupyter-widgets/base",
            "_view_module_version": "1.2.0",
            "_view_name": "LayoutView",
            "align_content": null,
            "align_items": null,
            "align_self": null,
            "border": null,
            "bottom": null,
            "display": null,
            "flex": null,
            "flex_flow": null,
            "grid_area": null,
            "grid_auto_columns": null,
            "grid_auto_flow": null,
            "grid_auto_rows": null,
            "grid_column": null,
            "grid_gap": null,
            "grid_row": null,
            "grid_template_areas": null,
            "grid_template_columns": null,
            "grid_template_rows": null,
            "height": null,
            "justify_content": null,
            "justify_items": null,
            "left": null,
            "margin": null,
            "max_height": null,
            "max_width": null,
            "min_height": null,
            "min_width": null,
            "object_fit": null,
            "object_position": null,
            "order": null,
            "overflow": null,
            "overflow_x": null,
            "overflow_y": null,
            "padding": null,
            "right": null,
            "top": null,
            "visibility": null,
            "width": null
          }
        },
        "1a95f457ca034f06b377d7d6b76f85bf": {
          "model_module": "@jupyter-widgets/controls",
          "model_name": "DescriptionStyleModel",
          "model_module_version": "1.5.0",
          "state": {
            "_model_module": "@jupyter-widgets/controls",
            "_model_module_version": "1.5.0",
            "_model_name": "DescriptionStyleModel",
            "_view_count": null,
            "_view_module": "@jupyter-widgets/base",
            "_view_module_version": "1.2.0",
            "_view_name": "StyleView",
            "description_width": ""
          }
        },
        "d1853193278846cb8bee788a9a3c9326": {
          "model_module": "@jupyter-widgets/controls",
          "model_name": "HBoxModel",
          "model_module_version": "1.5.0",
          "state": {
            "_dom_classes": [],
            "_model_module": "@jupyter-widgets/controls",
            "_model_module_version": "1.5.0",
            "_model_name": "HBoxModel",
            "_view_count": null,
            "_view_module": "@jupyter-widgets/controls",
            "_view_module_version": "1.5.0",
            "_view_name": "HBoxView",
            "box_style": "",
            "children": [
              "IPY_MODEL_7a7681d4cca448499baa954381399279",
              "IPY_MODEL_7080a6a53b3141559397e5dc2a84d87d",
              "IPY_MODEL_f3cf94a08b5a4f08bc6fefa403dcd219"
            ],
            "layout": "IPY_MODEL_995b377c1d3f48ad83979d6df170a6a1"
          }
        },
        "7a7681d4cca448499baa954381399279": {
          "model_module": "@jupyter-widgets/controls",
          "model_name": "HTMLModel",
          "model_module_version": "1.5.0",
          "state": {
            "_dom_classes": [],
            "_model_module": "@jupyter-widgets/controls",
            "_model_module_version": "1.5.0",
            "_model_name": "HTMLModel",
            "_view_count": null,
            "_view_module": "@jupyter-widgets/controls",
            "_view_module_version": "1.5.0",
            "_view_name": "HTMLView",
            "description": "",
            "description_tooltip": null,
            "layout": "IPY_MODEL_15ce3013eebb4028955c0596fe66fb08",
            "placeholder": "​",
            "style": "IPY_MODEL_12a626e575004c388419e953005a5cb9",
            "value": "vocab.txt: 100%"
          }
        },
        "7080a6a53b3141559397e5dc2a84d87d": {
          "model_module": "@jupyter-widgets/controls",
          "model_name": "FloatProgressModel",
          "model_module_version": "1.5.0",
          "state": {
            "_dom_classes": [],
            "_model_module": "@jupyter-widgets/controls",
            "_model_module_version": "1.5.0",
            "_model_name": "FloatProgressModel",
            "_view_count": null,
            "_view_module": "@jupyter-widgets/controls",
            "_view_module_version": "1.5.0",
            "_view_name": "ProgressView",
            "bar_style": "success",
            "description": "",
            "description_tooltip": null,
            "layout": "IPY_MODEL_b392fd9e1af34299b42b931858ae2c6d",
            "max": 231508,
            "min": 0,
            "orientation": "horizontal",
            "style": "IPY_MODEL_4fbd5abf50664cd68956e68cbf547437",
            "value": 231508
          }
        },
        "f3cf94a08b5a4f08bc6fefa403dcd219": {
          "model_module": "@jupyter-widgets/controls",
          "model_name": "HTMLModel",
          "model_module_version": "1.5.0",
          "state": {
            "_dom_classes": [],
            "_model_module": "@jupyter-widgets/controls",
            "_model_module_version": "1.5.0",
            "_model_name": "HTMLModel",
            "_view_count": null,
            "_view_module": "@jupyter-widgets/controls",
            "_view_module_version": "1.5.0",
            "_view_name": "HTMLView",
            "description": "",
            "description_tooltip": null,
            "layout": "IPY_MODEL_ed90510a02534ae3bcf5da72aed44e5a",
            "placeholder": "​",
            "style": "IPY_MODEL_7c5d44c61e414b168f43afd4a0c71579",
            "value": " 232k/232k [00:00&lt;00:00, 4.66MB/s]"
          }
        },
        "995b377c1d3f48ad83979d6df170a6a1": {
          "model_module": "@jupyter-widgets/base",
          "model_name": "LayoutModel",
          "model_module_version": "1.2.0",
          "state": {
            "_model_module": "@jupyter-widgets/base",
            "_model_module_version": "1.2.0",
            "_model_name": "LayoutModel",
            "_view_count": null,
            "_view_module": "@jupyter-widgets/base",
            "_view_module_version": "1.2.0",
            "_view_name": "LayoutView",
            "align_content": null,
            "align_items": null,
            "align_self": null,
            "border": null,
            "bottom": null,
            "display": null,
            "flex": null,
            "flex_flow": null,
            "grid_area": null,
            "grid_auto_columns": null,
            "grid_auto_flow": null,
            "grid_auto_rows": null,
            "grid_column": null,
            "grid_gap": null,
            "grid_row": null,
            "grid_template_areas": null,
            "grid_template_columns": null,
            "grid_template_rows": null,
            "height": null,
            "justify_content": null,
            "justify_items": null,
            "left": null,
            "margin": null,
            "max_height": null,
            "max_width": null,
            "min_height": null,
            "min_width": null,
            "object_fit": null,
            "object_position": null,
            "order": null,
            "overflow": null,
            "overflow_x": null,
            "overflow_y": null,
            "padding": null,
            "right": null,
            "top": null,
            "visibility": null,
            "width": null
          }
        },
        "15ce3013eebb4028955c0596fe66fb08": {
          "model_module": "@jupyter-widgets/base",
          "model_name": "LayoutModel",
          "model_module_version": "1.2.0",
          "state": {
            "_model_module": "@jupyter-widgets/base",
            "_model_module_version": "1.2.0",
            "_model_name": "LayoutModel",
            "_view_count": null,
            "_view_module": "@jupyter-widgets/base",
            "_view_module_version": "1.2.0",
            "_view_name": "LayoutView",
            "align_content": null,
            "align_items": null,
            "align_self": null,
            "border": null,
            "bottom": null,
            "display": null,
            "flex": null,
            "flex_flow": null,
            "grid_area": null,
            "grid_auto_columns": null,
            "grid_auto_flow": null,
            "grid_auto_rows": null,
            "grid_column": null,
            "grid_gap": null,
            "grid_row": null,
            "grid_template_areas": null,
            "grid_template_columns": null,
            "grid_template_rows": null,
            "height": null,
            "justify_content": null,
            "justify_items": null,
            "left": null,
            "margin": null,
            "max_height": null,
            "max_width": null,
            "min_height": null,
            "min_width": null,
            "object_fit": null,
            "object_position": null,
            "order": null,
            "overflow": null,
            "overflow_x": null,
            "overflow_y": null,
            "padding": null,
            "right": null,
            "top": null,
            "visibility": null,
            "width": null
          }
        },
        "12a626e575004c388419e953005a5cb9": {
          "model_module": "@jupyter-widgets/controls",
          "model_name": "DescriptionStyleModel",
          "model_module_version": "1.5.0",
          "state": {
            "_model_module": "@jupyter-widgets/controls",
            "_model_module_version": "1.5.0",
            "_model_name": "DescriptionStyleModel",
            "_view_count": null,
            "_view_module": "@jupyter-widgets/base",
            "_view_module_version": "1.2.0",
            "_view_name": "StyleView",
            "description_width": ""
          }
        },
        "b392fd9e1af34299b42b931858ae2c6d": {
          "model_module": "@jupyter-widgets/base",
          "model_name": "LayoutModel",
          "model_module_version": "1.2.0",
          "state": {
            "_model_module": "@jupyter-widgets/base",
            "_model_module_version": "1.2.0",
            "_model_name": "LayoutModel",
            "_view_count": null,
            "_view_module": "@jupyter-widgets/base",
            "_view_module_version": "1.2.0",
            "_view_name": "LayoutView",
            "align_content": null,
            "align_items": null,
            "align_self": null,
            "border": null,
            "bottom": null,
            "display": null,
            "flex": null,
            "flex_flow": null,
            "grid_area": null,
            "grid_auto_columns": null,
            "grid_auto_flow": null,
            "grid_auto_rows": null,
            "grid_column": null,
            "grid_gap": null,
            "grid_row": null,
            "grid_template_areas": null,
            "grid_template_columns": null,
            "grid_template_rows": null,
            "height": null,
            "justify_content": null,
            "justify_items": null,
            "left": null,
            "margin": null,
            "max_height": null,
            "max_width": null,
            "min_height": null,
            "min_width": null,
            "object_fit": null,
            "object_position": null,
            "order": null,
            "overflow": null,
            "overflow_x": null,
            "overflow_y": null,
            "padding": null,
            "right": null,
            "top": null,
            "visibility": null,
            "width": null
          }
        },
        "4fbd5abf50664cd68956e68cbf547437": {
          "model_module": "@jupyter-widgets/controls",
          "model_name": "ProgressStyleModel",
          "model_module_version": "1.5.0",
          "state": {
            "_model_module": "@jupyter-widgets/controls",
            "_model_module_version": "1.5.0",
            "_model_name": "ProgressStyleModel",
            "_view_count": null,
            "_view_module": "@jupyter-widgets/base",
            "_view_module_version": "1.2.0",
            "_view_name": "StyleView",
            "bar_color": null,
            "description_width": ""
          }
        },
        "ed90510a02534ae3bcf5da72aed44e5a": {
          "model_module": "@jupyter-widgets/base",
          "model_name": "LayoutModel",
          "model_module_version": "1.2.0",
          "state": {
            "_model_module": "@jupyter-widgets/base",
            "_model_module_version": "1.2.0",
            "_model_name": "LayoutModel",
            "_view_count": null,
            "_view_module": "@jupyter-widgets/base",
            "_view_module_version": "1.2.0",
            "_view_name": "LayoutView",
            "align_content": null,
            "align_items": null,
            "align_self": null,
            "border": null,
            "bottom": null,
            "display": null,
            "flex": null,
            "flex_flow": null,
            "grid_area": null,
            "grid_auto_columns": null,
            "grid_auto_flow": null,
            "grid_auto_rows": null,
            "grid_column": null,
            "grid_gap": null,
            "grid_row": null,
            "grid_template_areas": null,
            "grid_template_columns": null,
            "grid_template_rows": null,
            "height": null,
            "justify_content": null,
            "justify_items": null,
            "left": null,
            "margin": null,
            "max_height": null,
            "max_width": null,
            "min_height": null,
            "min_width": null,
            "object_fit": null,
            "object_position": null,
            "order": null,
            "overflow": null,
            "overflow_x": null,
            "overflow_y": null,
            "padding": null,
            "right": null,
            "top": null,
            "visibility": null,
            "width": null
          }
        },
        "7c5d44c61e414b168f43afd4a0c71579": {
          "model_module": "@jupyter-widgets/controls",
          "model_name": "DescriptionStyleModel",
          "model_module_version": "1.5.0",
          "state": {
            "_model_module": "@jupyter-widgets/controls",
            "_model_module_version": "1.5.0",
            "_model_name": "DescriptionStyleModel",
            "_view_count": null,
            "_view_module": "@jupyter-widgets/base",
            "_view_module_version": "1.2.0",
            "_view_name": "StyleView",
            "description_width": ""
          }
        },
        "d6f655ceeb05443c8b4db19e58accca0": {
          "model_module": "@jupyter-widgets/controls",
          "model_name": "HBoxModel",
          "model_module_version": "1.5.0",
          "state": {
            "_dom_classes": [],
            "_model_module": "@jupyter-widgets/controls",
            "_model_module_version": "1.5.0",
            "_model_name": "HBoxModel",
            "_view_count": null,
            "_view_module": "@jupyter-widgets/controls",
            "_view_module_version": "1.5.0",
            "_view_name": "HBoxView",
            "box_style": "",
            "children": [
              "IPY_MODEL_3aae5d146d884e24bc2c450e85e7c9cd",
              "IPY_MODEL_b053e41300ff4823bcef4338f74d22b9",
              "IPY_MODEL_144fb385574b4ac19c5ea959480578d3"
            ],
            "layout": "IPY_MODEL_f8a119013eb14ba898ec69fb36db63c9"
          }
        },
        "3aae5d146d884e24bc2c450e85e7c9cd": {
          "model_module": "@jupyter-widgets/controls",
          "model_name": "HTMLModel",
          "model_module_version": "1.5.0",
          "state": {
            "_dom_classes": [],
            "_model_module": "@jupyter-widgets/controls",
            "_model_module_version": "1.5.0",
            "_model_name": "HTMLModel",
            "_view_count": null,
            "_view_module": "@jupyter-widgets/controls",
            "_view_module_version": "1.5.0",
            "_view_name": "HTMLView",
            "description": "",
            "description_tooltip": null,
            "layout": "IPY_MODEL_fd06c06b7dec4cb4a8751b1bb54874b9",
            "placeholder": "​",
            "style": "IPY_MODEL_438e023590f5426397cc4018100ad6a2",
            "value": "modules.json: 100%"
          }
        },
        "b053e41300ff4823bcef4338f74d22b9": {
          "model_module": "@jupyter-widgets/controls",
          "model_name": "FloatProgressModel",
          "model_module_version": "1.5.0",
          "state": {
            "_dom_classes": [],
            "_model_module": "@jupyter-widgets/controls",
            "_model_module_version": "1.5.0",
            "_model_name": "FloatProgressModel",
            "_view_count": null,
            "_view_module": "@jupyter-widgets/controls",
            "_view_module_version": "1.5.0",
            "_view_name": "ProgressView",
            "bar_style": "success",
            "description": "",
            "description_tooltip": null,
            "layout": "IPY_MODEL_914f6aeacfd04d1f9df96f22c513da9a",
            "max": 349,
            "min": 0,
            "orientation": "horizontal",
            "style": "IPY_MODEL_19cf117ba5b44d969fb94fe66f249ff1",
            "value": 349
          }
        },
        "144fb385574b4ac19c5ea959480578d3": {
          "model_module": "@jupyter-widgets/controls",
          "model_name": "HTMLModel",
          "model_module_version": "1.5.0",
          "state": {
            "_dom_classes": [],
            "_model_module": "@jupyter-widgets/controls",
            "_model_module_version": "1.5.0",
            "_model_name": "HTMLModel",
            "_view_count": null,
            "_view_module": "@jupyter-widgets/controls",
            "_view_module_version": "1.5.0",
            "_view_name": "HTMLView",
            "description": "",
            "description_tooltip": null,
            "layout": "IPY_MODEL_ef3c5a5f5dc74c1eb806b35a68fdf663",
            "placeholder": "​",
            "style": "IPY_MODEL_7fd313c4736048ec949d3d7afc8f299b",
            "value": " 349/349 [00:00&lt;00:00, 8.41kB/s]"
          }
        },
        "f8a119013eb14ba898ec69fb36db63c9": {
          "model_module": "@jupyter-widgets/base",
          "model_name": "LayoutModel",
          "model_module_version": "1.2.0",
          "state": {
            "_model_module": "@jupyter-widgets/base",
            "_model_module_version": "1.2.0",
            "_model_name": "LayoutModel",
            "_view_count": null,
            "_view_module": "@jupyter-widgets/base",
            "_view_module_version": "1.2.0",
            "_view_name": "LayoutView",
            "align_content": null,
            "align_items": null,
            "align_self": null,
            "border": null,
            "bottom": null,
            "display": null,
            "flex": null,
            "flex_flow": null,
            "grid_area": null,
            "grid_auto_columns": null,
            "grid_auto_flow": null,
            "grid_auto_rows": null,
            "grid_column": null,
            "grid_gap": null,
            "grid_row": null,
            "grid_template_areas": null,
            "grid_template_columns": null,
            "grid_template_rows": null,
            "height": null,
            "justify_content": null,
            "justify_items": null,
            "left": null,
            "margin": null,
            "max_height": null,
            "max_width": null,
            "min_height": null,
            "min_width": null,
            "object_fit": null,
            "object_position": null,
            "order": null,
            "overflow": null,
            "overflow_x": null,
            "overflow_y": null,
            "padding": null,
            "right": null,
            "top": null,
            "visibility": null,
            "width": null
          }
        },
        "fd06c06b7dec4cb4a8751b1bb54874b9": {
          "model_module": "@jupyter-widgets/base",
          "model_name": "LayoutModel",
          "model_module_version": "1.2.0",
          "state": {
            "_model_module": "@jupyter-widgets/base",
            "_model_module_version": "1.2.0",
            "_model_name": "LayoutModel",
            "_view_count": null,
            "_view_module": "@jupyter-widgets/base",
            "_view_module_version": "1.2.0",
            "_view_name": "LayoutView",
            "align_content": null,
            "align_items": null,
            "align_self": null,
            "border": null,
            "bottom": null,
            "display": null,
            "flex": null,
            "flex_flow": null,
            "grid_area": null,
            "grid_auto_columns": null,
            "grid_auto_flow": null,
            "grid_auto_rows": null,
            "grid_column": null,
            "grid_gap": null,
            "grid_row": null,
            "grid_template_areas": null,
            "grid_template_columns": null,
            "grid_template_rows": null,
            "height": null,
            "justify_content": null,
            "justify_items": null,
            "left": null,
            "margin": null,
            "max_height": null,
            "max_width": null,
            "min_height": null,
            "min_width": null,
            "object_fit": null,
            "object_position": null,
            "order": null,
            "overflow": null,
            "overflow_x": null,
            "overflow_y": null,
            "padding": null,
            "right": null,
            "top": null,
            "visibility": null,
            "width": null
          }
        },
        "438e023590f5426397cc4018100ad6a2": {
          "model_module": "@jupyter-widgets/controls",
          "model_name": "DescriptionStyleModel",
          "model_module_version": "1.5.0",
          "state": {
            "_model_module": "@jupyter-widgets/controls",
            "_model_module_version": "1.5.0",
            "_model_name": "DescriptionStyleModel",
            "_view_count": null,
            "_view_module": "@jupyter-widgets/base",
            "_view_module_version": "1.2.0",
            "_view_name": "StyleView",
            "description_width": ""
          }
        },
        "914f6aeacfd04d1f9df96f22c513da9a": {
          "model_module": "@jupyter-widgets/base",
          "model_name": "LayoutModel",
          "model_module_version": "1.2.0",
          "state": {
            "_model_module": "@jupyter-widgets/base",
            "_model_module_version": "1.2.0",
            "_model_name": "LayoutModel",
            "_view_count": null,
            "_view_module": "@jupyter-widgets/base",
            "_view_module_version": "1.2.0",
            "_view_name": "LayoutView",
            "align_content": null,
            "align_items": null,
            "align_self": null,
            "border": null,
            "bottom": null,
            "display": null,
            "flex": null,
            "flex_flow": null,
            "grid_area": null,
            "grid_auto_columns": null,
            "grid_auto_flow": null,
            "grid_auto_rows": null,
            "grid_column": null,
            "grid_gap": null,
            "grid_row": null,
            "grid_template_areas": null,
            "grid_template_columns": null,
            "grid_template_rows": null,
            "height": null,
            "justify_content": null,
            "justify_items": null,
            "left": null,
            "margin": null,
            "max_height": null,
            "max_width": null,
            "min_height": null,
            "min_width": null,
            "object_fit": null,
            "object_position": null,
            "order": null,
            "overflow": null,
            "overflow_x": null,
            "overflow_y": null,
            "padding": null,
            "right": null,
            "top": null,
            "visibility": null,
            "width": null
          }
        },
        "19cf117ba5b44d969fb94fe66f249ff1": {
          "model_module": "@jupyter-widgets/controls",
          "model_name": "ProgressStyleModel",
          "model_module_version": "1.5.0",
          "state": {
            "_model_module": "@jupyter-widgets/controls",
            "_model_module_version": "1.5.0",
            "_model_name": "ProgressStyleModel",
            "_view_count": null,
            "_view_module": "@jupyter-widgets/base",
            "_view_module_version": "1.2.0",
            "_view_name": "StyleView",
            "bar_color": null,
            "description_width": ""
          }
        },
        "ef3c5a5f5dc74c1eb806b35a68fdf663": {
          "model_module": "@jupyter-widgets/base",
          "model_name": "LayoutModel",
          "model_module_version": "1.2.0",
          "state": {
            "_model_module": "@jupyter-widgets/base",
            "_model_module_version": "1.2.0",
            "_model_name": "LayoutModel",
            "_view_count": null,
            "_view_module": "@jupyter-widgets/base",
            "_view_module_version": "1.2.0",
            "_view_name": "LayoutView",
            "align_content": null,
            "align_items": null,
            "align_self": null,
            "border": null,
            "bottom": null,
            "display": null,
            "flex": null,
            "flex_flow": null,
            "grid_area": null,
            "grid_auto_columns": null,
            "grid_auto_flow": null,
            "grid_auto_rows": null,
            "grid_column": null,
            "grid_gap": null,
            "grid_row": null,
            "grid_template_areas": null,
            "grid_template_columns": null,
            "grid_template_rows": null,
            "height": null,
            "justify_content": null,
            "justify_items": null,
            "left": null,
            "margin": null,
            "max_height": null,
            "max_width": null,
            "min_height": null,
            "min_width": null,
            "object_fit": null,
            "object_position": null,
            "order": null,
            "overflow": null,
            "overflow_x": null,
            "overflow_y": null,
            "padding": null,
            "right": null,
            "top": null,
            "visibility": null,
            "width": null
          }
        },
        "7fd313c4736048ec949d3d7afc8f299b": {
          "model_module": "@jupyter-widgets/controls",
          "model_name": "DescriptionStyleModel",
          "model_module_version": "1.5.0",
          "state": {
            "_model_module": "@jupyter-widgets/controls",
            "_model_module_version": "1.5.0",
            "_model_name": "DescriptionStyleModel",
            "_view_count": null,
            "_view_module": "@jupyter-widgets/base",
            "_view_module_version": "1.2.0",
            "_view_name": "StyleView",
            "description_width": ""
          }
        }
      }
    }
  },
  "nbformat": 4,
  "nbformat_minor": 5
}